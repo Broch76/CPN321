{
 "cells": [
  {
   "cell_type": "markdown",
   "metadata": {},
   "source": [
    "Develop a simulation of the system in Example 5.3, simulating the same\n",
    "situation as in the solution presented. Plot your numerical solution of the\n",
    "complete problem without any approximation of dead time on the same\n",
    "graph as the solution derived in the example using approximation.\n",
    "Implement your own Euler integration loop. For the dead time, you can\n",
    "interpolate on the values from the past using numpy.interp."
   ]
  },
  {
   "cell_type": "markdown",
   "metadata": {},
   "source": [
    "<img src=\"Trickle-bed reactor.png\" width=\"550\" />"
   ]
  },
  {
   "cell_type": "markdown",
   "metadata": {},
   "source": [
    "$$Parameters$$"
   ]
  },
  {
   "cell_type": "code",
   "execution_count": 3,
   "metadata": {},
   "outputs": [],
   "source": [
    "V  = 5     #m^3\n",
    "α  = 12\n",
    "q  = 0.05  #m3/min\n",
    "k  = 0.04  #1/min \n",
    "θ1 = 0.9   #min\n",
    "θ2 = 1.1   #min"
   ]
  },
  {
   "cell_type": "code",
   "execution_count": 4,
   "metadata": {},
   "outputs": [],
   "source": [
    "import numpy\n",
    "import matplotlib.pyplot as plt\n",
    "%matplotlib inline"
   ]
  },
  {
   "cell_type": "code",
   "execution_count": 5,
   "metadata": {},
   "outputs": [],
   "source": [
    "ts = numpy.linspace(0, 1000, 1000)\n"
   ]
  },
  {
   "cell_type": "code",
   "execution_count": 6,
   "metadata": {},
   "outputs": [],
   "source": [
    "θ3 = θ1 + θ2\n",
    "K  = q/(q + V*k)\n",
    "τ  = V/(q + V*k)"
   ]
  },
  {
   "cell_type": "code",
   "execution_count": 7,
   "metadata": {},
   "outputs": [],
   "source": [
    "c  = 0 \n",
    "c2 = 0 "
   ]
  },
  {
   "cell_type": "markdown",
   "metadata": {},
   "source": [
    "Wasn't sure how to use numpy.interp so some creativity was used"
   ]
  },
  {
   "cell_type": "code",
   "execution_count": 24,
   "metadata": {},
   "outputs": [],
   "source": [
    "ci = 2000 #kg/m3\n",
    "c1 = []   #refers to c1'\n",
    "y  = []\n",
    "\n",
    "cone = 0\n",
    "for i in range(len(ts)):\n",
    "    t = ts[i]\n",
    "    \n",
    "    dt = (ts[-1]-ts[0])/len(ts)\n",
    "                 \n",
    "    dcdt = (1/V)*(q*ci + α*q*c2 - (1 + α)*q*c - V*k*c)\n",
    "    c += dcdt*dt\n",
    "    y.append(c)\n",
    "    if t >= θ1:\n",
    "        cone = y[int((t - θ1)/dt)]\n",
    "    if t >= θ3:\n",
    "        c2 = y[int((t - θ3)/dt)]\n",
    "    c1.append(cone)\n",
    "   "
   ]
  },
  {
   "cell_type": "code",
   "execution_count": 9,
   "metadata": {},
   "outputs": [],
   "source": [
    "#c1"
   ]
  },
  {
   "cell_type": "code",
   "execution_count": 10,
   "metadata": {},
   "outputs": [],
   "source": [
    "def u(t):\n",
    "    if t<0.9:\n",
    "        return 0\n",
    "    else:\n",
    "        return 1"
   ]
  },
  {
   "cell_type": "code",
   "execution_count": 11,
   "metadata": {},
   "outputs": [],
   "source": [
    "ys = []\n",
    "for t in ts:\n",
    "    ca = (400*(1 - 0.99174*numpy.exp(-(t-0.9)/25) - 0.00826*numpy.exp(-(t-0.9)/0.8)))*u(t)\n",
    "    \n",
    "    ys.append(ca)"
   ]
  },
  {
   "cell_type": "code",
   "execution_count": 12,
   "metadata": {},
   "outputs": [],
   "source": [
    "#ys"
   ]
  },
  {
   "cell_type": "code",
   "execution_count": 13,
   "metadata": {},
   "outputs": [
    {
     "data": {
      "text/plain": [
       "Text(0, 0.5, 'c1prime(t)')"
      ]
     },
     "execution_count": 13,
     "metadata": {},
     "output_type": "execute_result"
    },
    {
     "data": {
      "image/png": "[encoded data removed]",
      "text/plain": [
       "<Figure size 432x288 with 1 Axes>"
      ]
     },
     "metadata": {
      "needs_background": "light"
     },
     "output_type": "display_data"
    }
   ],
   "source": [
    "plt.figure(1)\n",
    "plt.title('Complete response')\n",
    "plt.plot(ts, c1, label='euler')\n",
    "plt.plot(ts, ys, label='pade')\n",
    "plt.legend(loc='best')\n",
    "plt.xlabel('Time [min]')\n",
    "plt.ylabel('c1prime(t)')\n",
    "           "
   ]
  },
  {
   "cell_type": "markdown",
   "metadata": {},
   "source": [
    "Next, modify your program to read the value of ci from the attached file\n",
    "data.csv. You can use Pandas to read the file."
   ]
  },
  {
   "cell_type": "code",
   "execution_count": 14,
   "metadata": {},
   "outputs": [],
   "source": [
    "import pandas"
   ]
  },
  {
   "cell_type": "code",
   "execution_count": 19,
   "metadata": {},
   "outputs": [],
   "source": [
    "cit = pandas.read_csv('data.csv')"
   ]
  },
  {
   "cell_type": "code",
   "execution_count": 22,
   "metadata": {},
   "outputs": [
    {
     "data": {
      "text/plain": [
       "pandas.core.frame.DataFrame"
      ]
     },
     "execution_count": 22,
     "metadata": {},
     "output_type": "execute_result"
    }
   ],
   "source": [
    "type(cit)"
   ]
  },
  {
   "cell_type": "code",
   "execution_count": 32,
   "metadata": {},
   "outputs": [],
   "source": [
    "cit = numpy.array(cit)"
   ]
  },
  {
   "cell_type": "code",
   "execution_count": 31,
   "metadata": {},
   "outputs": [
    {
     "data": {
      "text/plain": [
       "855.6975"
      ]
     },
     "execution_count": 31,
     "metadata": {},
     "output_type": "execute_result"
    }
   ],
   "source": [
    "cit[-1, 1]"
   ]
  },
  {
   "cell_type": "code",
   "execution_count": 35,
   "metadata": {},
   "outputs": [
    {
     "data": {
      "text/plain": [
       "228"
      ]
     },
     "execution_count": 35,
     "metadata": {},
     "output_type": "execute_result"
    }
   ],
   "source": [
    "len(cit)"
   ]
  },
  {
   "cell_type": "code",
   "execution_count": 34,
   "metadata": {},
   "outputs": [],
   "source": [
    "tspan = numpy.linspace(0, len(cit), len(cit))"
   ]
  },
  {
   "cell_type": "code",
   "execution_count": 39,
   "metadata": {},
   "outputs": [],
   "source": [
    "c11 = []   #refers to c1'\n",
    "y1  = []\n",
    "\n",
    "cone = 0\n",
    "for i in range(len(tspan)):\n",
    "    t = tspan[i]\n",
    "    \n",
    "    dt = (tspan[-1]-tspan[0])/len(tspan)\n",
    "    if i>0:\n",
    "        ci = cit[i, 1] - cit[(i-1), 1]\n",
    "    else:\n",
    "        ci = 0\n",
    "                 \n",
    "    dcdt = (1/V)*(q*ci + α*q*c2 - (1 + α)*q*c - V*k*c)\n",
    "    c += dcdt*dt\n",
    "    y1.append(c)\n",
    "    if t >= θ1:\n",
    "        cone = y1[int((t - θ1)/dt)]\n",
    "    if t >= θ3:\n",
    "        c2 = y1[int((t - θ3)/dt)]\n",
    "    c11.append(cone)"
   ]
  },
  {
   "cell_type": "code",
   "execution_count": 40,
   "metadata": {},
   "outputs": [
    {
     "data": {
      "text/plain": [
       "Text(0, 0.5, 'c1prime(t)')"
      ]
     },
     "execution_count": 40,
     "metadata": {},
     "output_type": "execute_result"
    },
    {
     "data": {
      "image/png": "[encoded data removed]",
      "text/plain": [
       "<Figure size 432x288 with 1 Axes>"
      ]
     },
     "metadata": {
      "needs_background": "light"
     },
     "output_type": "display_data"
    }
   ],
   "source": [
    "plt.figure(2)\n",
    "plt.title('Response using data file')\n",
    "plt.plot(tspan, c11, label='euler')\n",
    "plt.legend(loc='best')\n",
    "plt.xlabel('Time [min]')\n",
    "plt.ylabel('c1prime(t)')"
   ]
  },
  {
   "cell_type": "code",
   "execution_count": null,
   "metadata": {},
   "outputs": [],
   "source": []
  }
 ],
 "metadata": {
  "kernelspec": {
   "display_name": "Python 3",
   "language": "python",
   "name": "python3"
  },
  "language_info": {
   "codemirror_mode": {
    "name": "ipython",
    "version": 3
   },
   "file_extension": ".py",
   "mimetype": "text/x-python",
   "name": "python",
   "nbconvert_exporter": "python",
   "pygments_lexer": "ipython3",
   "version": "3.7.3"
  }
 },
 "nbformat": 4,
 "nbformat_minor": 2
}
