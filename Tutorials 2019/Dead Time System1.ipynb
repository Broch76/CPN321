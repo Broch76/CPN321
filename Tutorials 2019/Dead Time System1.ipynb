{
 "cells": [
  {
   "cell_type": "markdown",
   "metadata": {},
   "source": [
    "Jarryd Webber U12100952"
   ]
  },
  {
   "cell_type": "code",
   "execution_count": 1,
   "metadata": {},
   "outputs": [],
   "source": [
    "import scipy\n",
    "import matplotlib.pyplot as plt\n",
    "import numpy\n",
    "import itertools\n",
    "import pandas"
   ]
  },
  {
   "cell_type": "code",
   "execution_count": 2,
   "metadata": {},
   "outputs": [],
   "source": [
    "def time_parser(iterable_time):\n",
    "    \"This function takes a list of times formatted as YYYY-MM_DDTHH:MM:SS and returns a list of times passed since time 0\"\n",
    "    \n",
    "    years = []\n",
    "    months = []\n",
    "    days = []\n",
    "    hours = []\n",
    "    minutes =[]\n",
    "    seconds = []\n",
    "    time_passed_list = []\n",
    "    \n",
    "    for time in iterable_time:\n",
    "     \n",
    "        years.append(int(time[:4]))\n",
    "        months.append(int(time[5:7]))\n",
    "        days.append(int(time[8:10]))\n",
    "        hours.append(int(time[-8:-6]))\n",
    "        minutes.append(int(time[-5:-3]))\n",
    "        seconds.append(int(time[-2:]))\n",
    "        \n",
    "        if time == iterable_time[0]:\n",
    "            time_passed_list.append(0)\n",
    "        \n",
    "        else:\n",
    "            time_current = 24*60*days[-1] + 60*hours[-1] + minutes[-1] + seconds[-1]/60\n",
    "            time_first = 24*60*days[0] + 60*hours[0] + minutes[0] + seconds[0]/60\n",
    "            \n",
    "            time_passed = time_current - time_first\n",
    "            time_passed_list.append(time_passed)\n",
    "            \n",
    "    return (time_passed_list)"
   ]
  },
  {
   "cell_type": "code",
   "execution_count": 3,
   "metadata": {},
   "outputs": [],
   "source": [
    "def pairer(iterable):\n",
    "    \"Creates an iterable object of pairs of values created from the input iterable list\"\n",
    "    \n",
    "    a, b = itertools.tee(iterable)\n",
    "    next (b, None)\n",
    "    return zip(a, b)"
   ]
  },
  {
   "cell_type": "code",
   "execution_count": 4,
   "metadata": {},
   "outputs": [],
   "source": [
    "def diff(var):\n",
    "    \"System Equations\"\n",
    "    t, c_span, c1_span, ci_span, step = var\n",
    "    \n",
    "#     print (int(-theta_1/step)-1, len(c_span)) # For debugging\n",
    "    if t> theta_1:\n",
    "        c1 = c_span[int(-theta_1/step)-1]\n",
    "    else:\n",
    "        c1 = 0\n",
    "    \n",
    "    if t> theta_2:\n",
    "        c2 = c1_span[int(-theta_2/step)-1]\n",
    "    else:\n",
    "        c2 = 0\n",
    "        \n",
    "#     print (ci[-1], c1, c2)        # For debugging\n",
    "    \n",
    "    dcdt = 1/V * (q*ci_span[-1] + alpha*q*c2 - (1 + alpha)*q*c_span[-1] -V*k*c_span[-1])\n",
    "    \n",
    "    return dcdt, c1, c2"
   ]
  },
  {
   "cell_type": "code",
   "execution_count": 5,
   "metadata": {},
   "outputs": [],
   "source": [
    "def Euler(time_span, ci_span, y0, func, plot_t, c_span, c1_span, c2_span, step = 0.01):\n",
    "    \"Euler Integration of the specified func, over the specified timespan, with a resulation of the specified step.\"\n",
    "    \n",
    "    ts = numpy.arange(time_span[0], time_span[-1], step)\n",
    "    \n",
    "    ci_span_with_interp = []\n",
    "    \n",
    "    index_total=0\n",
    "        \n",
    "    for t in ts:\n",
    "        ci_span_with_interp.append(scipy.interp(t, time_span, ci_span))\n",
    "        \n",
    "        var = t, c_span, c1_span, ci_span_with_interp, step\n",
    "        \n",
    "        c_n = c_span[-1] + step*func(var)[0]\n",
    "        \n",
    "        c1_span.append(func(var)[1])\n",
    "        c2_span.append(func(var)[2])\n",
    "        \n",
    "        c_span.append(c_n)\n",
    "        \n",
    "    plot_t = numpy.append(plot_t, ts)\n",
    "    ts = numpy.append(ts, [time_span[-1]])\n",
    "    \n",
    "    return (ts, c_span, c1_span, c2_span, plot_t)"
   ]
  },
  {
   "cell_type": "code",
   "execution_count": 6,
   "metadata": {},
   "outputs": [],
   "source": [
    "def approx(t_array):\n",
    "    c1_list=[]\n",
    "    for t in t_array:\n",
    "        \n",
    "        if t > 0.9:\n",
    "            c1_list.append(400*(1 - 0.99174*numpy.exp(-(t-0.9)/25) - 0.00826*numpy.exp(-(t-0.9)/0.8)))\n",
    "        else:\n",
    "            c1_list.append(0)\n",
    "            \n",
    "    return c1_list"
   ]
  },
  {
   "cell_type": "markdown",
   "metadata": {},
   "source": [
    "Initial conditions"
   ]
  },
  {
   "cell_type": "code",
   "execution_count": 7,
   "metadata": {},
   "outputs": [],
   "source": [
    "V = 5 #m^3\n",
    "alpha = 12\n",
    "q = 0.05 #m^3/m\n",
    "k = 0.04 #/min\n",
    "theta_1 = 0.9 #min\n",
    "theta_2 = 1.1 #min\n",
    "c = 0"
   ]
  },
  {
   "cell_type": "markdown",
   "metadata": {},
   "source": [
    "Values for approx method"
   ]
  },
  {
   "cell_type": "code",
   "execution_count": 8,
   "metadata": {},
   "outputs": [],
   "source": [
    "theta_3 = theta_1 + theta_2\n",
    "K = 0.2\n",
    "tau = 20 #min"
   ]
  },
  {
   "cell_type": "markdown",
   "metadata": {},
   "source": [
    "# Q2 Case"
   ]
  },
  {
   "cell_type": "code",
   "execution_count": 9,
   "metadata": {},
   "outputs": [],
   "source": [
    "time_test = [0,100]\n",
    "ci_test = [2000,2000]\n",
    "y0 = c"
   ]
  },
  {
   "cell_type": "code",
   "execution_count": 10,
   "metadata": {},
   "outputs": [],
   "source": [
    "q2_t = Euler(time_test, ci_test, y0, diff, [], [0], [0], [0])[0]\n",
    "q2_c = Euler(time_test, ci_test, y0, diff, [], [0], [0], [0])[1]\n",
    "q2_c1 = Euler(time_test, ci_test, y0, diff, [], [0], [0], [0])[2]"
   ]
  },
  {
   "cell_type": "code",
   "execution_count": 11,
   "metadata": {},
   "outputs": [],
   "source": [
    "c1_approx = approx(q2_t)"
   ]
  },
  {
   "cell_type": "code",
   "execution_count": 12,
   "metadata": {},
   "outputs": [
    {
     "data": {
      "text/plain": [
       "<matplotlib.legend.Legend at 0x25c342f7d30>"
      ]
     },
     "execution_count": 12,
     "metadata": {},
     "output_type": "execute_result"
    },
    {
     "data": {
      "image/png": "[encoded data removed]",
      "text/plain": [
       "<Figure size 720x720 with 1 Axes>"
      ]
     },
     "metadata": {
      "needs_background": "light"
     },
     "output_type": "display_data"
    }
   ],
   "source": [
    "plt.figure(figsize = (10,10))\n",
    "plt.plot(q2_t, q2_c1, label = \"C1 Modelled\")\n",
    "plt.plot(q2_t, c1_approx, label = \"C1 Aprox\")\n",
    "plt.legend(loc = \"best\")\n",
    "\n",
    "#Both plots are there, they are just incredibly close together"
   ]
  },
  {
   "cell_type": "markdown",
   "metadata": {},
   "source": [
    "# Q3"
   ]
  },
  {
   "cell_type": "markdown",
   "metadata": {},
   "source": [
    "Below is data manipulation on the file to be read"
   ]
  },
  {
   "cell_type": "code",
   "execution_count": 13,
   "metadata": {},
   "outputs": [],
   "source": [
    "time_string, ci_string = pandas.read_csv(\"data.csv\")"
   ]
  },
  {
   "cell_type": "code",
   "execution_count": 14,
   "metadata": {},
   "outputs": [],
   "source": [
    "time_raw, ci_raw = pandas.read_csv(\"data.csv\")[time_string], pandas.read_csv(\"data.csv\")[ci_string]"
   ]
  },
  {
   "cell_type": "code",
   "execution_count": 15,
   "metadata": {},
   "outputs": [],
   "source": [
    "time_passed = time_parser(time_raw)"
   ]
  },
  {
   "cell_type": "code",
   "execution_count": 16,
   "metadata": {},
   "outputs": [],
   "source": [
    "time_paired, ci_paired = pairer(time_passed), pairer(ci_raw)\n",
    "# for t in time_paired:     # For debugging\n",
    "#     print (t)"
   ]
  },
  {
   "cell_type": "markdown",
   "metadata": {},
   "source": [
    "Creating my data set to plot for Q3"
   ]
  },
  {
   "cell_type": "code",
   "execution_count": 17,
   "metadata": {
    "scrolled": false
   },
   "outputs": [],
   "source": [
    "total_time = []\n",
    "total_c = [0]\n",
    "total_c1 = [0]\n",
    "total_c2 = [0]\n",
    "\n",
    "for time_pair, ci_pair in zip(time_paired, ci_paired):\n",
    "#     print(time_pair)\n",
    "    results = Euler(time_pair, ci_pair, 0, diff,total_time, total_c, total_c1, total_c2)\n",
    "    \n",
    "    total_c = results[1]\n",
    "    total_c1 = results[2]\n",
    "    total_c2 = results[3]\n",
    "    total_time = results[4]\n",
    "    \n",
    "total_time = numpy.append(total_time, time_passed[-1])"
   ]
  },
  {
   "cell_type": "code",
   "execution_count": 18,
   "metadata": {},
   "outputs": [
    {
     "data": {
      "text/plain": [
       "<matplotlib.legend.Legend at 0x25c343c6710>"
      ]
     },
     "execution_count": 18,
     "metadata": {},
     "output_type": "execute_result"
    },
    {
     "data": {
      "image/png": "[encoded data removed]",
      "text/plain": [
       "<Figure size 720x720 with 1 Axes>"
      ]
     },
     "metadata": {
      "needs_background": "light"
     },
     "output_type": "display_data"
    }
   ],
   "source": [
    "plt.figure(figsize = (10,10))\n",
    "plt.plot(total_time, total_c, label = \"C\")\n",
    "plt.plot(total_time, total_c1, label = \"C1\")\n",
    "plt.plot(total_time, total_c2, label = \"C2\")\n",
    "plt.legend(loc = \"best\")"
   ]
  },
  {
   "cell_type": "code",
   "execution_count": null,
   "metadata": {},
   "outputs": [],
   "source": []
  }
 ],
 "metadata": {
  "kernelspec": {
   "display_name": "Python 3",
   "language": "python",
   "name": "python3"
  },
  "language_info": {
   "codemirror_mode": {
    "name": "ipython",
    "version": 3
   },
   "file_extension": ".py",
   "mimetype": "text/x-python",
   "name": "python",
   "nbconvert_exporter": "python",
   "pygments_lexer": "ipython3",
   "version": "3.7.3"
  }
 },
 "nbformat": 4,
 "nbformat_minor": 2
}
