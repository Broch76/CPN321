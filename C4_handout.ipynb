{
 "cells": [
  {
   "cell_type": "markdown",
   "metadata": {
    "deletable": false,
    "editable": false,
    "nbgrader": {
     "checksum": "d134c5690f9f589acd1ccea47f9b4049",
     "grade": false,
     "grade_id": "cell-b43bae95c10ec901",
     "locked": true,
     "schema_version": 1,
     "solution": false
    }
   },
   "source": [
    "<center><h2>CPN 321</h2></center>\n",
    "<center><h3>C4 2017</h3></center>"
   ]
  },
  {
   "cell_type": "markdown",
   "metadata": {
    "deletable": false,
    "editable": false,
    "nbgrader": {
     "checksum": "ca0b5acaeb4803461a659af4756fa9f2",
     "grade": false,
     "grade_id": "cell-88f6965153ab3a70",
     "locked": true,
     "schema_version": 1,
     "solution": false
    }
   },
   "source": [
    "In this tut we will be analysing data and comparing it to theoretical predictions.\n",
    "\"LPG Sample dataset\" contains a P&ID describing a unit on a large chemical plant, consisting of two distillation columns and ancilliary equipment. The CSV data files contain values for the various controllers on the plant sampled once a minute.\n",
    "In the datafile, each controller has three values associated with it.\n",
    "\n",
    "\n",
    "* Process value (PV): the measurement from the plant - typically the controlled variable\n",
    "\n",
    "* Output (OP): the output of the controller. This may be a valve fraction if the controller is connected to a valve, or a setpoint for another controller.\n",
    "\n",
    "* Setpoint (SP): target value for the controller\n",
    "\n",
    "The values in the files have been normalised by subtracting the minimum and dividing by the range.\n",
    "\n",
    "Use the first data file `LPG_Data_Set_1_n.csv`."
   ]
  },
  {
   "cell_type": "markdown",
   "metadata": {
    "deletable": false,
    "editable": false,
    "nbgrader": {
     "checksum": "55a37d67593847ebb0975334ceba5276",
     "grade": false,
     "grade_id": "cell-bea31ebd521543eb",
     "locked": true,
     "schema_version": 1,
     "solution": false
    }
   },
   "source": [
    "## 1 Non-dynamic regression (14)"
   ]
  },
  {
   "cell_type": "markdown",
   "metadata": {
    "deletable": false,
    "editable": false,
    "nbgrader": {
     "checksum": "a6453ee9622ed880928bae77bf2b7743",
     "grade": false,
     "grade_id": "cell-3ad8c16c9657a5b4",
     "locked": true,
     "schema_version": 1,
     "solution": false
    }
   },
   "source": [
    "You can open the files in Excel by double-clicking them, in Python by using the `pandas.read_csv` function.\n",
    "\n",
    "Find the relationship between the valve fraction `F1023.OP` and the flowrate out of `DM108 (F1023.PV)`, neglecting dynamics. Try this in Excel and Python. Call your Excel spreadsheet `Regression.xlsx`. Have a look at [this notebook](http://nbviewer.jupyter.org/github/alchemyst/Dynamics-and-Control/blob/master/Regression.ipynb) to see how regression works in Python\n"
   ]
  },
  {
   "cell_type": "markdown",
   "metadata": {
    "deletable": false,
    "editable": false,
    "nbgrader": {
     "checksum": "ff5ab7f876f6398083233df0ea6fea52",
     "grade": false,
     "grade_id": "cell-9aebb94fb44ef179",
     "locked": true,
     "schema_version": 1,
     "solution": false
    }
   },
   "source": [
    "### 1.1 Read the data\n",
    "\n",
    "Write a function called `read_csv` that uses pandas to read the csv data. The function must take the filename as an input."
   ]
  },
  {
   "cell_type": "code",
   "execution_count": null,
   "metadata": {
    "deletable": false,
    "nbgrader": {
     "checksum": "37c3af1a587d3f0c6dd33fd050317c75",
     "grade": false,
     "grade_id": "cell-c29386c6f9030d78",
     "locked": false,
     "schema_version": 1,
     "solution": true
    }
   },
   "outputs": [],
   "source": [
    "import numpy\n",
    "import matplotlib.pyplot as plt\n",
    "import scipy.optimize\n",
    "import scipy\n",
    "import pandas\n",
    "%matplotlib inline\n",
    "\n",
    "def read_data(filename):\n",
    "    \n",
    "    return\n",
    "\n",
    "# YOUR CODE HERE"
   ]
  },
  {
   "cell_type": "code",
   "execution_count": null,
   "metadata": {
    "deletable": false,
    "editable": false,
    "nbgrader": {
     "checksum": "53920c0d29378e392a666e0bec669d21",
     "grade": true,
     "grade_id": "cell-273ea21179eaa5f4",
     "locked": true,
     "points": 2,
     "schema_version": 1,
     "solution": false
    }
   },
   "outputs": [],
   "source": [
    "assert read_data('LPG_Data_Set_1_n.csv').l1013aspv.iloc[0] == 0.41894060995184573"
   ]
  },
  {
   "cell_type": "markdown",
   "metadata": {
    "deletable": false,
    "editable": false,
    "nbgrader": {
     "checksum": "a4778442ee061072a2bc523d5f49a07e",
     "grade": false,
     "grade_id": "cell-82de76b196b08492",
     "locked": true,
     "schema_version": 1,
     "solution": false
    }
   },
   "source": [
    "Plot the *f1023aspv* (x-axis) and the *f1023aspv* (y-axis) against each other below as a scatter plot. Use an alpha of 0.05 for the markers."
   ]
  },
  {
   "cell_type": "code",
   "execution_count": null,
   "metadata": {
    "deletable": false,
    "nbgrader": {
     "checksum": "a556a6ff0e5fbed0fc29ffc37540c06f",
     "grade": true,
     "grade_id": "cell-3f0049ee18c201df",
     "locked": false,
     "points": 2,
     "schema_version": 1,
     "solution": true
    }
   },
   "outputs": [],
   "source": [
    "# YOUR CODE HERE"
   ]
  },
  {
   "cell_type": "markdown",
   "metadata": {},
   "source": [
    "### 1.2 Linear regression\n",
    "It is now time to fit a model to the data. Write a function called `linear_fit` that takes the x and y values a inputs and returns the model coefficients as a list. Use the `numpy.ployfit` function to fit a model to the data. For info on how this function works click [here](https://docs.scipy.org/doc/numpy/reference/generated/numpy.polyfit.html)."
   ]
  },
  {
   "cell_type": "code",
   "execution_count": null,
   "metadata": {
    "deletable": false,
    "nbgrader": {
     "checksum": "5e903388bcfed0edc5ef3566bc024093",
     "grade": false,
     "grade_id": "cell-8e53f6fa1147674f",
     "locked": false,
     "schema_version": 1,
     "solution": true
    }
   },
   "outputs": [],
   "source": [
    "# YOUR CODE HERE\n",
    "\n",
    "\n"
   ]
  },
  {
   "cell_type": "code",
   "execution_count": null,
   "metadata": {
    "deletable": false,
    "editable": false,
    "nbgrader": {
     "checksum": "95dd7ba89d459739b11b8da4871d2c88",
     "grade": true,
     "grade_id": "cell-6eacdf8f525f8d87",
     "locked": true,
     "points": 2,
     "schema_version": 1,
     "solution": false
    }
   },
   "outputs": [],
   "source": [
    "data = read_data('LPG_Data_Set_1_n.csv')\n",
    "assert round(linear_fit(data.f1023asop, data.f1023aspv)[0], 2) == 1.03"
   ]
  },
  {
   "cell_type": "markdown",
   "metadata": {
    "deletable": false,
    "editable": false,
    "nbgrader": {
     "checksum": "ccb83bf3b49e8d33762a548cf9a3b15b",
     "grade": false,
     "grade_id": "cell-61c7e726b6310538",
     "locked": true,
     "schema_version": 1,
     "solution": false
    }
   },
   "source": [
    "Below plot the raw data and the linear model on one graph. Remeber to add a ledgend to the plot. Make the color of the first order line red."
   ]
  },
  {
   "cell_type": "code",
   "execution_count": null,
   "metadata": {
    "deletable": false,
    "nbgrader": {
     "checksum": "64665f1b6b6a115d9b9e291b95fad642",
     "grade": true,
     "grade_id": "cell-cd066a98e0f05134",
     "locked": false,
     "points": 2,
     "schema_version": 1,
     "solution": true
    }
   },
   "outputs": [],
   "source": [
    "# YOUR CODE HERE"
   ]
  },
  {
   "cell_type": "markdown",
   "metadata": {
    "deletable": false,
    "editable": false,
    "nbgrader": {
     "checksum": "770733e071a4d8587da79eb9592b7356",
     "grade": false,
     "grade_id": "cell-ff374adeee345131",
     "locked": true,
     "schema_version": 1,
     "solution": false
    }
   },
   "source": [
    "### 1.2 Non-linear regression\n",
    "Now fit the following nonlinear relationship on the data.  \n",
    "\n",
    "\n",
    "$$F=a\\tanh(x/b-c)+d$$ \n",
    "\n",
    "\n",
    "You can to this by minimising the sum of the squares of the error. The `scipy.optimize.curve_fit` function will be useful. Fore more info on how `scipy.optimize.curve_fit` works click [here](https://docs.scipy.org/doc/scipy/reference/generated/scipy.optimize.curve_fit.html).  \n",
    "\n",
    "Write a function named `nonlinear_function` that takes x, a, b, c and d as inputs and returns the function value at those specified values."
   ]
  },
  {
   "cell_type": "code",
   "execution_count": null,
   "metadata": {
    "deletable": false,
    "nbgrader": {
     "checksum": "b4d41069c7d371a8958feb8de9cc3150",
     "grade": false,
     "grade_id": "cell-45ea9653279dc325",
     "locked": false,
     "schema_version": 1,
     "solution": true
    }
   },
   "outputs": [],
   "source": [
    "def nonlinear_function(x, a, b, c, d):\n",
    "    \n",
    "    return \n",
    "\n",
    "# YOUR CODE HERE"
   ]
  },
  {
   "cell_type": "code",
   "execution_count": null,
   "metadata": {
    "deletable": false,
    "editable": false,
    "nbgrader": {
     "checksum": "7b2e358faa9c320458b198687f1f4ee0",
     "grade": true,
     "grade_id": "cell-b3e3479376e041b1",
     "locked": true,
     "points": 1,
     "schema_version": 1,
     "solution": false
    }
   },
   "outputs": [],
   "source": [
    "assert round(nonlinear_function(2, 1, 1, 1, 1), 2) == 1.76"
   ]
  },
  {
   "cell_type": "markdown",
   "metadata": {
    "deletable": false,
    "editable": false,
    "nbgrader": {
     "checksum": "b31ba8298f3bf68cbc158e9b23f2bfe7",
     "grade": false,
     "grade_id": "cell-ee18f10ecc04b35a",
     "locked": true,
     "schema_version": 1,
     "solution": false
    }
   },
   "source": [
    "Write a function called `nonlinear_fit` that takes the pandas DataFrame as input and returns the parameters for the non-linear fit."
   ]
  },
  {
   "cell_type": "code",
   "execution_count": null,
   "metadata": {
    "deletable": false,
    "nbgrader": {
     "checksum": "5e2419ccd68556163ed7597e2dddb68f",
     "grade": false,
     "grade_id": "cell-99e6f482728b3bb5",
     "locked": false,
     "schema_version": 1,
     "solution": true
    }
   },
   "outputs": [],
   "source": [
    "def nonlinear_fit(data):\n",
    "\n",
    "    return \n",
    "\n",
    "# YOUR CODE HERE"
   ]
  },
  {
   "cell_type": "code",
   "execution_count": null,
   "metadata": {
    "deletable": false,
    "editable": false,
    "nbgrader": {
     "checksum": "a7ea046a5a4df589f37924d4676d8fb6",
     "grade": true,
     "grade_id": "cell-9df91a9381217569",
     "locked": true,
     "points": 3,
     "schema_version": 1,
     "solution": false
    }
   },
   "outputs": [],
   "source": [
    "assert round(nonlinear_fit(data)[0], 2) == 1.03 "
   ]
  },
  {
   "cell_type": "markdown",
   "metadata": {
    "collapsed": true,
    "deletable": false,
    "editable": false,
    "nbgrader": {
     "checksum": "febebd5f51dc81eb3acffa305c5ee892",
     "grade": false,
     "grade_id": "cell-e444185392e1afd6",
     "locked": true,
     "schema_version": 1,
     "solution": false
    }
   },
   "source": [
    "Below plot the non-linear fit along with the raw data and linear fit solution on one graph. Remember to give your graph a ledgend."
   ]
  },
  {
   "cell_type": "code",
   "execution_count": null,
   "metadata": {
    "deletable": false,
    "nbgrader": {
     "checksum": "260fef1fe4256a8a90dade094b0428cc",
     "grade": true,
     "grade_id": "cell-46c3100f0390b655",
     "locked": false,
     "points": 2,
     "schema_version": 1,
     "solution": true
    }
   },
   "outputs": [],
   "source": [
    "# YOUR CODE HERE"
   ]
  },
  {
   "cell_type": "markdown",
   "metadata": {
    "deletable": false,
    "editable": false,
    "nbgrader": {
     "checksum": "eccf86536d362ea0a99778a2c396fe73",
     "grade": false,
     "grade_id": "cell-da33825f1bc7ce7b",
     "locked": true,
     "schema_version": 1,
     "solution": false
    }
   },
   "source": [
    "## 2 Dynamic models (13)\n",
    "### 2.1 Simulation"
   ]
  },
  {
   "cell_type": "markdown",
   "metadata": {},
   "source": [
    "The linear time invariant state space format can be written as\n",
    "\n",
    "$$\\dot x=Ax+Bu$$\n",
    "$$y=Cx+Du$$\n",
    "\n",
    "<br />\n",
    "For a second order system the linear time invariant state space representation is\n",
    "<br />\n",
    "$$G(s) = \\frac{y(s)}{u(s)} = \\frac{K}{\\tau^2s^2 + 2\\tau\\zeta s + 1}$$\n",
    "\n",
    "$$ A = \\begin{bmatrix} 0 & 1\\\\ -\\frac{1}{\\tau^{2}} & - \\frac{2 \\zeta}{\\tau} \\end{bmatrix}  B =  \\begin{bmatrix} 0\\\\ \\frac{K}{\\tau^{2}} \\end{bmatrix}$$\n",
    "\n",
    "\n",
    "$$C= \\begin{bmatrix} 1& 0 \\end{bmatrix} D= \\begin{bmatrix} 0 \\end{bmatrix} $$\n",
    "\n",
    "\n",
    "The state space representation can be used to integrate (using Euler) to find the time response"
   ]
  },
  {
   "cell_type": "markdown",
   "metadata": {},
   "source": [
    "### 2.2 Fitting\n",
    "Use the given simulation methods to find the parameters of an overdamped second order transfer function relating the level in DM108 (`L1013.PV`) to the flow out of that drum (`F1023.PV`). These tags are in the same datafile as the one used for the above questions. \n",
    "\n",
    "First use an estimate and manual tuning to plot the response. \n",
    "\n",
    "Simulate a state space model using Euler integration. Refer to [this link](http://nbviewer.jupyter.org/github/alchemyst/Dynamics-and-Control/blob/master/Simulation%20of%20arbitrary%20transfer%20functions.ipynb) on how to deal with Linear, Time Invariant (LTI) systems \n",
    "\n",
    "Now repeat the fit finding the parameters of equation 6-36 using `numpy.linalg.lstsq`\n",
    "\n",
    "Produce a graph showing the fits.\n",
    "\n",
    "Hint: in order to see the relationships more clearly, you can plot only the first thousand or so data points.\n",
    "\n",
    "Call your file `secondorderfit.py`\n",
    "\n",
    "\n",
    "Write a function called `norm_data` that takes the pandas DataFrame as input and return the normalized data as output, i.e. your function must return two list each consisting of the normalized values of the required columns. The order in which they must be return is specified below."
   ]
  },
  {
   "cell_type": "code",
   "execution_count": null,
   "metadata": {
    "deletable": false,
    "nbgrader": {
     "checksum": "06f6a27eb0880e6eb4d77cbaeb986661",
     "grade": false,
     "grade_id": "cell-9a478cce630000c7",
     "locked": false,
     "schema_version": 1,
     "solution": true
    }
   },
   "outputs": [],
   "source": [
    "import numpy\n",
    "import matplotlib.pyplot as plt\n",
    "%matplotlib inline\n",
    "\n",
    "finalT = 1000\n",
    "# Data is sampled at one minute intervals\n",
    "t = numpy.arange(finalT)\n",
    "\n",
    "def norm_data(data):\n",
    "    unorm = []  # you kust change this\n",
    "    ynorm = []  # you kust change this\n",
    "    \n",
    "    return unorm, ynorm\n",
    "\n",
    "# YOUR CODE HERE"
   ]
  },
  {
   "cell_type": "code",
   "execution_count": null,
   "metadata": {
    "deletable": false,
    "editable": false,
    "nbgrader": {
     "checksum": "1fa8058f1a2adde1943ec8e24803f18c",
     "grade": true,
     "grade_id": "cell-579d1227323d235b",
     "locked": true,
     "points": 1,
     "schema_version": 1,
     "solution": false
    }
   },
   "outputs": [],
   "source": [
    "filename = 'LPG_Data_Set_1_n.csv'\n",
    "data = read_data(filename)\n",
    "assert len(norm_data(data)[0]) == 1000\n",
    "assert round(norm_data(data)[0][0], 2) == 0.71\n",
    "assert round(norm_data(data)[1][0], 2) == 0.88"
   ]
  },
  {
   "cell_type": "markdown",
   "metadata": {
    "deletable": false,
    "editable": false,
    "nbgrader": {
     "checksum": "e2a271285d03263ebf8293c85adc2a49",
     "grade": false,
     "grade_id": "cell-c94f953e03dd6a1a",
     "locked": true,
     "schema_version": 1,
     "solution": false
    }
   },
   "source": [
    "Plot the normalized data below using subplots. Remeber to add labels to your data."
   ]
  },
  {
   "cell_type": "code",
   "execution_count": null,
   "metadata": {
    "deletable": false,
    "nbgrader": {
     "checksum": "5c71c661203d64c5954dc423c78d3f22",
     "grade": true,
     "grade_id": "cell-113ae647ead948b0",
     "locked": false,
     "points": 2,
     "schema_version": 1,
     "solution": true
    }
   },
   "outputs": [],
   "source": [
    "# YOUR CODE HERE"
   ]
  },
  {
   "cell_type": "markdown",
   "metadata": {
    "deletable": false,
    "editable": false,
    "nbgrader": {
     "checksum": "9c1f36668009eadcaf8fa901aa5bff44",
     "grade": false,
     "grade_id": "cell-d24af0d338388688",
     "locked": true,
     "schema_version": 1,
     "solution": false
    }
   },
   "source": [
    "### 2.3 Linear, Time Invariant system"
   ]
  },
  {
   "cell_type": "markdown",
   "metadata": {
    "deletable": false,
    "editable": false,
    "nbgrader": {
     "checksum": "ab8735d29a4729041bac5f4b59166b33",
     "grade": false,
     "grade_id": "cell-e8bc25f426da1a79",
     "locked": true,
     "schema_version": 1,
     "solution": false
    }
   },
   "source": [
    "Create a function called `state_space` that takes $\\tau_1$, $\\tau_2$ and $K$ as input and returns the state space matrices $A$, $B$, $C$ and $D$. You can use `scipy.signal.lti()` to construct the transfer function and get the state space."
   ]
  },
  {
   "cell_type": "code",
   "execution_count": null,
   "metadata": {
    "deletable": false,
    "nbgrader": {
     "checksum": "63077ded2c489d5a7867e57a0cfea960",
     "grade": false,
     "grade_id": "cell-0a2ed0408ae27baf",
     "locked": false,
     "schema_version": 1,
     "solution": true
    }
   },
   "outputs": [],
   "source": [
    "# Determine values for K, tau1 and tau2 by simulating the second order response\n",
    "def state_space(K, tau1, tau2):\n",
    "    \n",
    "    return\n",
    "\n",
    "# YOUR CODE HERE"
   ]
  },
  {
   "cell_type": "code",
   "execution_count": null,
   "metadata": {
    "deletable": false,
    "editable": false,
    "nbgrader": {
     "checksum": "a9cb0338402d20d39455a60d8add7d0a",
     "grade": true,
     "grade_id": "cell-b1e80ab907c7dbbf",
     "locked": true,
     "points": 2,
     "schema_version": 1,
     "solution": false
    }
   },
   "outputs": [],
   "source": [
    "K = -1.1\n",
    "tau1 = 80\n",
    "tau2 = 30\n",
    "A, B, C, D = state_space(K, tau1, tau2)\n",
    "numpy.round(A, 6)\n",
    "assert (numpy.round(A, 6) == numpy.array([[ -4.58330000e-02,  -4.17000000e-04],[  1.00,   0.00]])).all()"
   ]
  },
  {
   "cell_type": "markdown",
   "metadata": {
    "collapsed": true,
    "deletable": false,
    "editable": false,
    "nbgrader": {
     "checksum": "c09738dccd7090f84c4332f1f47f4c2a",
     "grade": false,
     "grade_id": "cell-443bc0840982f66d",
     "locked": true,
     "schema_version": 1,
     "solution": false
    }
   },
   "source": [
    "### 2.4 Nonlinear fit\n",
    "Write a function called `y_predict` that takes the input data ($u$), $K$, $\\tau_1$, $\\tau_2$ and the time as inputs and predicts the output ($y$). You can use `scipy.signal.lsim` to simulate the get the $y$ data from the LTI and $u$ data. Click [here](https://docs.scipy.org/doc/scipy-0.16.1/reference/generated/scipy.signal.lsim.html) for more info. Use the same time variabale as in 2.2."
   ]
  },
  {
   "cell_type": "code",
   "execution_count": null,
   "metadata": {
    "deletable": false,
    "nbgrader": {
     "checksum": "a32bb6faa94482b3a387394b3ff84013",
     "grade": false,
     "grade_id": "cell-1001d8070a6947ec",
     "locked": false,
     "schema_version": 1,
     "solution": true
    }
   },
   "outputs": [],
   "source": [
    "def y_predict(udata, K, tau1, tau2):\n",
    "\n",
    "    return ypred\n",
    "\n",
    "# YOUR CODE HERE"
   ]
  },
  {
   "cell_type": "code",
   "execution_count": null,
   "metadata": {
    "deletable": false,
    "editable": false,
    "nbgrader": {
     "checksum": "3482b8f16e5167a5e9dde4fac2f72649",
     "grade": true,
     "grade_id": "cell-6172f8346df054ef",
     "locked": true,
     "points": 2,
     "schema_version": 1,
     "solution": false
    }
   },
   "outputs": [],
   "source": [
    "filename = 'LPG_Data_Set_1_n.csv'\n",
    "K = -1.1\n",
    "tau1 = 80\n",
    "tau2 = 30\n",
    "data = pandas.read_csv(filename)\n",
    "udata = data.f1023aspv[:finalT]\n",
    "ydata = data.l1013aspv[:finalT]\n",
    "assert round(y_predict(udata, K, tau1, tau2)[-1], 2) == 0.3\n"
   ]
  },
  {
   "cell_type": "markdown",
   "metadata": {
    "deletable": false,
    "editable": false,
    "nbgrader": {
     "checksum": "998033d5aac723ba3e41f9405839243b",
     "grade": false,
     "grade_id": "cell-b28382ae160da8b0",
     "locked": true,
     "schema_version": 1,
     "solution": false
    }
   },
   "source": [
    "Create a function called `raw_nonlinear_fit` that uses `scipy.optimize.curve_fit` and your `y_predict` function to the second order system to the data and returns the fitted values for $K$, $\\tau_1$ and $\\tau_2$."
   ]
  },
  {
   "cell_type": "code",
   "execution_count": null,
   "metadata": {
    "deletable": false,
    "nbgrader": {
     "checksum": "e7e2b5902b202547e108ee291e18cced",
     "grade": false,
     "grade_id": "cell-91a021bbc2714a38",
     "locked": false,
     "schema_version": 1,
     "solution": true
    }
   },
   "outputs": [],
   "source": [
    "beta = [K, tau1, tau2]\n",
    "\n",
    "def raw_nonlinear_fit():\n",
    "    \n",
    "    return \n",
    "\n",
    "# YOUR CODE HERE"
   ]
  },
  {
   "cell_type": "code",
   "execution_count": null,
   "metadata": {
    "deletable": false,
    "editable": false,
    "nbgrader": {
     "checksum": "4115c7823fccab7d9dcc1afbfa4d9bda",
     "grade": true,
     "grade_id": "cell-a5a8bfffce5d926b",
     "locked": true,
     "points": 1,
     "schema_version": 1,
     "solution": false
    }
   },
   "outputs": [],
   "source": [
    "assert round(raw_nonlinear_fit()[-1], 2) == 70.54\n"
   ]
  },
  {
   "cell_type": "markdown",
   "metadata": {
    "deletable": false,
    "editable": false,
    "nbgrader": {
     "checksum": "c82716430f860b4d94b8ae98bf73baec",
     "grade": false,
     "grade_id": "cell-94296a942039dac6",
     "locked": true,
     "schema_version": 1,
     "solution": false
    }
   },
   "source": [
    "### 2.5 Linear fit\n",
    "\n",
    "Use equation 6-36 to fit a linear model to the raw data. Create a function called `discrete_coeffs` that returns the coefficients needed to calculate equation 6-36 in the following order $a_1$, $a_2$, $b_1$, $b_2$. Have a look at example 6.5 in the handbook. You can use `scipy.linalg.toeplitz` function (click [here](https://docs.scipy.org/doc/scipy-0.14.0/reference/generated/scipy.linalg.toeplitz.html)) and the `numpy.linalg.lstsq` function (click [here](https://docs.scipy.org/doc/numpy/reference/generated/numpy.linalg.lstsq.html))."
   ]
  },
  {
   "cell_type": "code",
   "execution_count": null,
   "metadata": {
    "deletable": false,
    "nbgrader": {
     "checksum": "234d618272c9b15f3f6b4175cf93ca9c",
     "grade": false,
     "grade_id": "cell-f0c32b76b6e54d0b",
     "locked": false,
     "schema_version": 1,
     "solution": true
    }
   },
   "outputs": [],
   "source": [
    "def discrete_coeffs(udata, ydata):\n",
    "    \n",
    "    return\n",
    "\n",
    "\n",
    "# YOUR CODE HERE"
   ]
  },
  {
   "cell_type": "code",
   "execution_count": null,
   "metadata": {
    "deletable": false,
    "editable": false,
    "nbgrader": {
     "checksum": "577ecfca99a413c4ca228de104666a09",
     "grade": true,
     "grade_id": "cell-9c34f3c12ebebc18",
     "locked": true,
     "points": 3,
     "schema_version": 1,
     "solution": false
    }
   },
   "outputs": [],
   "source": [
    "a1, a2, b1, b2 = discrete_coeffs(udata, ydata)\n",
    "assert round(a1, 2) == 0.57"
   ]
  },
  {
   "cell_type": "markdown",
   "metadata": {
    "deletable": false,
    "editable": false,
    "nbgrader": {
     "checksum": "f7539fe26865bc2e1241a6da3ebb2298",
     "grade": false,
     "grade_id": "cell-0352ab2a664274a9",
     "locked": true,
     "schema_version": 1,
     "solution": false
    }
   },
   "source": [
    "Use the function below to simulate the linear fitted function."
   ]
  },
  {
   "cell_type": "code",
   "execution_count": null,
   "metadata": {},
   "outputs": [],
   "source": [
    "def discretesim(t, a, b, u):\n",
    "    \"\"\" Simulate discrete system on arbitrary input\n",
    "        Currently only supports second order systems\n",
    "    \"\"\"\n",
    "    a1, a2 = a\n",
    "    b1, b2 = b\n",
    "    ys = []\n",
    "    y = y_1 = y_2 = 0\n",
    "    for i, ti in enumerate(t):\n",
    "        u_1 = 0 if i < 1 else u[i-1]\n",
    "        u_2 = 0 if i < 2 else u[i-2]\n",
    "        y_2, y_1 = y_1, y\n",
    "\n",
    "        # Eq 6-36\n",
    "        y = a1*y_1 + a2*y_2 + b1*u_1 + b2*u_2\n",
    "        ys.append(y)\n",
    "\n",
    "    return numpy.array(ys)"
   ]
  },
  {
   "cell_type": "markdown",
   "metadata": {
    "deletable": false,
    "editable": false,
    "nbgrader": {
     "checksum": "48807e1599759365b42f1f17c7c320fa",
     "grade": false,
     "grade_id": "cell-d051b7d1d82af06e",
     "locked": true,
     "schema_version": 1,
     "solution": false
    }
   },
   "source": [
    "Plot figures of linear and non-linear fittings"
   ]
  },
  {
   "cell_type": "code",
   "execution_count": null,
   "metadata": {
    "deletable": false,
    "nbgrader": {
     "checksum": "5ecdc1c526ad38280643ce9da7eff835",
     "grade": true,
     "grade_id": "cell-9667eac300f767e5",
     "locked": false,
     "points": 2,
     "schema_version": 1,
     "solution": true
    }
   },
   "outputs": [],
   "source": [
    "# YOUR CODE HERE"
   ]
  },
  {
   "cell_type": "code",
   "execution_count": null,
   "metadata": {},
   "outputs": [],
   "source": []
  }
 ],
 "metadata": {
  "anaconda-cloud": {},
  "kernelspec": {
   "display_name": "Python 3",
   "language": "python",
   "name": "python3"
  },
  "language_info": {
   "codemirror_mode": {
    "name": "ipython",
    "version": 3
   },
   "file_extension": ".py",
   "mimetype": "text/x-python",
   "name": "python",
   "nbconvert_exporter": "python",
   "pygments_lexer": "ipython3",
   "version": "3.5.3"
  }
 },
 "nbformat": 4,
 "nbformat_minor": 1
}
