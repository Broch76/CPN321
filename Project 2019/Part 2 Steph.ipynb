{
 "cells": [
  {
   "cell_type": "markdown",
   "metadata": {},
   "source": [
    "### Project Part 2\n",
    "### Alejandro Barrios(u96011930)\n",
    "### Stephani Crous (u17014663)\n",
    "### Phathutshedzo Maungo (u14026963)"
   ]
  },
  {
   "cell_type": "markdown",
   "metadata": {},
   "source": [
    "#### Imports"
   ]
  },
  {
   "cell_type": "code",
   "execution_count": 1,
   "metadata": {},
   "outputs": [],
   "source": [
    "import numpy\n",
    "import tclab\n",
    "from matplotlib import pyplot as plt\n",
    "from tclab import TCLab, clock, Historian, Plotter, setup\n",
    "%matplotlib inline"
   ]
  },
  {
   "cell_type": "markdown",
   "metadata": {},
   "source": [
    "#### Parameters of Fin Bank 1 (F1)"
   ]
  },
  {
   "cell_type": "code",
   "execution_count": 2,
   "metadata": {},
   "outputs": [],
   "source": [
    "AF1 = 0.0004                    # m2\n",
    "AFIN1 = 0.00009                 # m2\n",
    "VF1 = 0.00036                   # m3\n",
    "mF1 = 0.0029                    # kg\n",
    "CpF1 = 502.42                   # J.kg-1.C-1\n",
    "rhoF1 = 7900                    # kg.m-3\n",
    "hF1 = 10.45                     # W.m-2.K-1"
   ]
  },
  {
   "cell_type": "markdown",
   "metadata": {},
   "source": [
    "#### Parameters of Fin Bank 2 (F2)"
   ]
  },
  {
   "cell_type": "code",
   "execution_count": 3,
   "metadata": {},
   "outputs": [],
   "source": [
    "AF2 = 0.0004                    # m2\n",
    "AFIN2 = 0.00009                 # m2\n",
    "VF2 = 0.00036                   # m3\n",
    "CpF2 = 502.42                   # J.kg-1.C-1\n",
    "mF2 =  0.0029                   # kg\n",
    "rhoF2 =  7900                   # kg.m-3\n",
    "hF2 = 10.45                     # W.m-2.K-1"
   ]
  },
  {
   "cell_type": "markdown",
   "metadata": {},
   "source": [
    "#### Parameters of Heater 1 (H1)"
   ]
  },
  {
   "cell_type": "code",
   "execution_count": 4,
   "metadata": {},
   "outputs": [],
   "source": [
    "kH1 = 14.4/1000                     # W.m-1.K-1\n",
    "AH1 = 0.00008                   # m2\n",
    "LH1 = 0.0015                    # m\n",
    "mH1 = 0.00019                   # kg\n",
    "CpH1 = 502.42                   # J.kg-1.C-1\n",
    "hH1 = 10.45                     # W.m-2.K-1"
   ]
  },
  {
   "cell_type": "markdown",
   "metadata": {},
   "source": [
    "#### Parameters of Heater 2 (H2)"
   ]
  },
  {
   "cell_type": "code",
   "execution_count": 5,
   "metadata": {},
   "outputs": [],
   "source": [
    "kH2 = 14.4/1000                      #W.m-1.K-1\n",
    "AH2 = 0.00008                   # m2\n",
    "LH2 = 0.0015                    # m\n",
    "mH2 = 0.00019                   # kg\n",
    "CpH2 = 502.42                   # J.kg-1.C-1\n",
    "hH2 = 10.45                     # W.m-2.K-1"
   ]
  },
  {
   "cell_type": "markdown",
   "metadata": {},
   "source": [
    "#### Parameters of Sensor 1 (S1)"
   ]
  },
  {
   "cell_type": "code",
   "execution_count": 6,
   "metadata": {},
   "outputs": [],
   "source": [
    "AS1 = 0.000016                  # m2\n",
    "mS1 = 0.00025                   # kg\n",
    "CpS1 = 502.42                   # J.kg-1.C-1\n",
    "hS1 = 10.45                     # W.m-2.K-1"
   ]
  },
  {
   "cell_type": "markdown",
   "metadata": {},
   "source": [
    "#### Parameters of Sensor 2 (S2)"
   ]
  },
  {
   "cell_type": "code",
   "execution_count": 7,
   "metadata": {},
   "outputs": [],
   "source": [
    "AS2 = 0.000016                  # m2\n",
    "mS2 = 0.00025                   # kg\n",
    "CpS2 = 502.42                   # J.kg-1.C-1\n",
    "hS2 = 10.45                     # W.m-2.K-1"
   ]
  },
  {
   "cell_type": "markdown",
   "metadata": {},
   "source": [
    "#### Other Parameters"
   ]
  },
  {
   "cell_type": "code",
   "execution_count": 8,
   "metadata": {},
   "outputs": [],
   "source": [
    "alpha1 = 0.01                    # W\n",
    "alpha2 = 0.075                   # W                    \n",
    "h_amb = 10.45                    # W.m-2.K-1\n",
    "T_amb = 298.15                     \n",
    "E = 0.85                         # Emissivity\n",
    "sigma = 5.67*(10**-8)            # Stefan-Boltzmann constant\n",
    "rho_ss = 7900                    # Density of stainless steel (kg m-3)"
   ]
  },
  {
   "cell_type": "markdown",
   "metadata": {},
   "source": [
    "#### Model"
   ]
  },
  {
   "cell_type": "code",
   "execution_count": 9,
   "metadata": {},
   "outputs": [],
   "source": [
    "def Q_rect(t, M0, M1, M2, ts1, ts2):\n",
    "    if t < ts1:\n",
    "        return M0\n",
    "    \n",
    "    elif ts1<t<ts2:\n",
    "        return M1\n",
    "    \n",
    "    else:\n",
    "        return M2\n",
    "    \n",
    "def Q_step(t, M0, M1, ts1):\n",
    "    if t < ts1:\n",
    "        return M0\n",
    "    else:\n",
    "        return M1"
   ]
  },
  {
   "cell_type": "code",
   "execution_count": 27,
   "metadata": {},
   "outputs": [],
   "source": [
    "# Differential Equations\n",
    "\n",
    "def diff(t, T):\n",
    "    TF1, TF2, TH1, TH2, TS1, TS2 = T\n",
    "    QIN1 = Q_step(t, 0, 100, 30)\n",
    "    QIN2 = 0\n",
    "        \n",
    "    # Fin Equations\n",
    "\n",
    "    Qconv_1 = h_amb*AF1*(TF1 - T_amb)\n",
    "    Qconv_2 = h_amb*AF2*(TF2 - T_amb)\n",
    "\n",
    "    Qcond_1 = ((kH1*AH1)/LH1)*(TH1 - TF1)#QH1_F1\n",
    "    Qcond_2 = ((kH2*AH2)/LH2)*(TH2 - TF2)#QH2_F2\n",
    "\n",
    "    Qrad_1 = E*sigma*AF1*((TF1**4) - (T_amb**4))\n",
    "    Qrad_2 = E*sigma*AF2*((TF2**4) - (T_amb**4))\n",
    "\n",
    "    Qconv_12 = h_amb*(AFIN1 + AFIN2)*(TF1 - TF2)\n",
    "    Qrad_12 = E*sigma*(AFIN1 + AFIN2)*((TF1**4) - (TF2**2))\n",
    "    \n",
    "    # Heater Equations\n",
    "\n",
    "    QH1_F1 = ((kH1*AH1)/LH1)*(TH1 - TF1)\n",
    "    QH2_F2 = ((kH2*AH2)/LH2)*(TH2 - TF2)\n",
    "\n",
    "    QH1_S1 = ((kH1*AH1)/LH1)*(TH1 - TS1)\n",
    "    QH2_S2 = ((kH2*AH2)/LH2)*(TH2 - TS2)\n",
    "\n",
    "    QH1_conv = hH1*AH1*(TH1 - T_amb)\n",
    "    QH2_conv = hH2*AH2*(TH2 - T_amb)\n",
    "\n",
    "    QH1_rad = E*sigma*AH1*((TH1**4) - (T_amb**4))\n",
    "    QH2_rad = E*sigma*AH2*((TH2**4) - (T_amb**4))\n",
    "    \n",
    "    # Sensor Equations\n",
    "\n",
    "    QS1_cond = QH1_S1\n",
    "    QS2_cond = QH2_S2\n",
    "\n",
    "    QS1_conv = hS1*AS1*(TS1 - T_amb)\n",
    "    QS2_conv = hS2*AS2*(TS2 - T_amb)\n",
    "\n",
    "    QS1_rad = E*sigma*AS1*((TS1**4) - (T_amb**4))\n",
    "    QS2_rad = E*sigma*AS2*((TS2**4) - (T_amb**4))\n",
    "    \n",
    "    # Differential Equations\n",
    "    \n",
    "    dTF1dt = (1/(mF1*CpF1))*(-Qconv_1 - Qrad_1 + Qcond_1 - Qconv_12 - Qrad_12)\n",
    "    dTF2dt = (1/(mF2*CpF2))*(-Qconv_2 - Qrad_2 + Qcond_2 + Qconv_12 + Qrad_12)\n",
    "\n",
    "    dTH1dt = (1/(mH1*CpH1))*(-QH1_F1 - QH1_S1 - QH1_conv - QH1_rad + alpha1*QIN1)\n",
    "    dTH2dt = (1/(mH2*CpH2))*(-QH2_F2 - QH2_S2 - QH2_conv - QH2_rad + alpha2*QIN2)\n",
    "\n",
    "    dTS1dt = (1/(mS1*CpS1))*(QS1_cond - QS1_rad - QS1_conv)\n",
    "    dTS2dt = (1/(mS2*CpS2))*(QS2_cond - QS2_rad - QS2_conv)\n",
    "\n",
    "    return dTF1dt, dTF2dt, dTH1dt, dTH2dt, dTS1dt, dTS2dt"
   ]
  },
  {
   "cell_type": "code",
   "execution_count": 28,
   "metadata": {},
   "outputs": [],
   "source": [
    "TCLab = setup(connected = False, speedup = 1)\n",
    "tfinal = 150\n",
    "t_step = 1"
   ]
  },
  {
   "cell_type": "code",
   "execution_count": 29,
   "metadata": {},
   "outputs": [],
   "source": [
    "tspan = []"
   ]
  },
  {
   "cell_type": "code",
   "execution_count": 30,
   "metadata": {},
   "outputs": [
    {
     "data": {
      "image/png": "[encoded data removed]",
      "text/plain": [
       "<Figure size 640x480 with 4 Axes>"
      ]
     },
     "metadata": {},
     "output_type": "display_data"
    },
    {
     "name": "stdout",
     "output_type": "stream",
     "text": [
      "TCLab Model disconnected successfully.\n"
     ]
    },
    {
     "data": {
      "image/png": "[encoded data removed]",
      "text/plain": [
       "<Figure size 640x480 with 4 Axes>"
      ]
     },
     "metadata": {
      "needs_background": "light"
     },
     "output_type": "display_data"
    }
   ],
   "source": [
    "with TCLab() as lab:\n",
    "    hist = Historian(lab.sources)\n",
    "    p = Plotter(hist, tfinal)\n",
    "    dt = t_step\n",
    "    To = [298.15, 298.15, 298.15, 298.15, 298.15, 298.15]\n",
    "    TF1, TF2, TH1, TH2, TS1, TS2 = To\n",
    "    TS1s = []\n",
    "    Tlab1 = []\n",
    "\n",
    "    for t in tclab.clock(tfinal, t_step):\n",
    "        \n",
    "        lab.Q1(Q_step(t, 0, 100, 30))\n",
    "        lab.Q2(0)\n",
    "\n",
    "        To = TF1, TF2, TH1, TH2, TS1, TS2 \n",
    "        dTF1dt, dTF2dt, dTH1dt, dTH2dt, dTS1dt, dTS2dt = diff(t, To)\n",
    "\n",
    "        TF1 += dTF1dt*dt\n",
    "        TF2 += dTF2dt*dt\n",
    "        TH1 += dTH1dt*dt\n",
    "        TH2 += dTH2dt*dt\n",
    "        TS1 += dTS1dt*dt\n",
    "        TS2 += dTS2dt*dt\n",
    "\n",
    "        To = TF1, TF2, TH1, TH2, TS1, TS2\n",
    "        TS1s.append(TS1-273.15)\n",
    "        Tlab1.append(lab.T1)\n",
    "        tspan.append(t)\n",
    "        hist.update(t)\n",
    "        p.update(t)"
   ]
  },
  {
   "cell_type": "code",
   "execution_count": null,
   "metadata": {},
   "outputs": [],
   "source": [
    "TS1s"
   ]
  },
  {
   "cell_type": "code",
   "execution_count": 31,
   "metadata": {},
   "outputs": [
    {
     "data": {
      "text/plain": [
       "[<matplotlib.lines.Line2D at 0x241a0cfbe48>]"
      ]
     },
     "execution_count": 31,
     "metadata": {},
     "output_type": "execute_result"
    },
    {
     "data": {
      "image/png": "[encoded data removed]",
      "text/plain": [
       "<Figure size 432x288 with 1 Axes>"
      ]
     },
     "metadata": {
      "needs_background": "light"
     },
     "output_type": "display_data"
    }
   ],
   "source": [
    "plt.plot(tspan, TS1s)\n",
    "plt.plot(tspan, Tlab1)"
   ]
  }
 ],
 "metadata": {
  "kernelspec": {
   "display_name": "Python 3",
   "language": "python",
   "name": "python3"
  },
  "language_info": {
   "codemirror_mode": {
    "name": "ipython",
    "version": 3
   },
   "file_extension": ".py",
   "mimetype": "text/x-python",
   "name": "python",
   "nbconvert_exporter": "python",
   "pygments_lexer": "ipython3",
   "version": "3.7.3"
  }
 },
 "nbformat": 4,
 "nbformat_minor": 2
}
