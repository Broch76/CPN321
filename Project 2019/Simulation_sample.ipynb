{
 "cells": [
  {
   "cell_type": "code",
   "execution_count": 1,
   "metadata": {},
   "outputs": [
    {
     "name": "stdout",
     "output_type": "stream",
     "text": [
      "Requirement already satisfied: tclab in c:\\programdata\\anaconda3\\lib\\site-packages\n",
      "Requirement already satisfied: pyserial in c:\\programdata\\anaconda3\\lib\\site-packages (from tclab)\n"
     ]
    },
    {
     "name": "stderr",
     "output_type": "stream",
     "text": [
      "You are using pip version 9.0.1, however version 18.0 is available.\n",
      "You should consider upgrading via the 'python -m pip install --upgrade pip' command.\n"
     ]
    }
   ],
   "source": [
    "!pip install tclab"
   ]
  },
  {
   "cell_type": "code",
   "execution_count": 2,
   "metadata": {},
   "outputs": [
    {
     "name": "stdout",
     "output_type": "stream",
     "text": [
      "\n",
      "The following command must be run outside of the IPython shell:\n",
      "\n",
      "    $ pip install tclab --upgrade\n",
      "\n",
      "The Python package manager (pip) can only be used from outside of IPython.\n",
      "Please reissue the `pip` command in a separate terminal or command prompt.\n",
      "\n",
      "See the Python documentation for more informations on how to install packages:\n",
      "\n",
      "    https://docs.python.org/3/installing/\n"
     ]
    }
   ],
   "source": [
    "pip install tclab --upgrade"
   ]
  },
  {
   "cell_type": "code",
   "execution_count": 2,
   "metadata": {},
   "outputs": [],
   "source": [
    "import numpy\n",
    "import scipy\n",
    "from matplotlib import pyplot as plt\n",
    "from scipy.integrate import odeint\n",
    "from scipy.optimize import fsolve\n",
    "from tclab import TCLab, clock, Historian, Plotter, setup"
   ]
  },
  {
   "cell_type": "markdown",
   "metadata": {},
   "source": [
    "### Parameters"
   ]
  },
  {
   "cell_type": "code",
   "execution_count": 63,
   "metadata": {},
   "outputs": [],
   "source": [
    "t=numpy.linspace(0, 2500, 25000)\n",
    "ksteel=16.3\n",
    "σ=5.670*10**-8\n",
    "hair=10\n",
    "kepoxy=2.60\n",
    "Ah=270**-4\n",
    "As=7*10**-4\n",
    "mh=0.004\n",
    "ms=0.001\n",
    "mf=0.01\n",
    "mm=0.006\n",
    "d_xm=0.001\n",
    "d_xf=0.001\n",
    "d_xe=0.00014\n",
    "L=0.0019\n",
    "thickness=0.001\n",
    "w=0.01\n",
    "Aexp=7*10**-6\n",
    "Am=1.52*10**-5\n",
    "Amback=1.52*10**-5\n",
    "Af=3.9*10**-5\n",
    "Afback=1.1*10**-5\n",
    "ηfin=0.8689\n",
    "M=35.0285\n",
    "Lc=19.5*10**-3\n",
    "Q11 = 300\n",
    "Q22 = 65\n",
    "hgap= 1900\n",
    "Ti=293.15\n",
    "n=5\n",
    "ϵ=0.99\n",
    "Cps=502.416"
   ]
  },
  {
   "cell_type": "markdown",
   "metadata": {},
   "source": [
    "### Algebraic equations"
   ]
  },
  {
   "cell_type": "code",
   "execution_count": 64,
   "metadata": {
    "collapsed": true
   },
   "outputs": [],
   "source": [
    "Lc = L+thickness/2\n",
    "Af = 2*w*Lc\n",
    "M = numpy.sqrt(2*hair/(ksteel*thickness))\n",
    "ηfin = numpy.tanh(M*Lc)/(M*Lc)"
   ]
  },
  {
   "cell_type": "markdown",
   "metadata": {},
   "source": [
    "### Unit step response"
   ]
  },
  {
   "cell_type": "code",
   "execution_count": 74,
   "metadata": {
    "collapsed": true
   },
   "outputs": [],
   "source": [
    "def α1(t):\n",
    "    if t<200:\n",
    "        return 0\n",
    "    else:\n",
    "        return 40\n",
    "\n",
    "def α2(t):\n",
    "    if t<200:\n",
    "        return 0\n",
    "    else:\n",
    "        return 0"
   ]
  },
  {
   "cell_type": "markdown",
   "metadata": {},
   "source": [
    "### Differential equations"
   ]
  },
  {
   "cell_type": "code",
   "execution_count": 75,
   "metadata": {},
   "outputs": [],
   "source": [
    "tspan=numpy.linspace(0,2500,25000)\n",
    "def model(T,t): \n",
    "    TH1,TH2,TS1,TS2,TM1i,TM2i,TM1o,TM2o,TF1i,TF2i,TF1o,TF2o=T\n",
    "    \n",
    "    dTH1dt=(((-kepoxy*Ah*(TH1-TS1))/d_xe)-(hair*Ah*(TH1-Ti))-(hgap*Ah*(TH1-TM1i))-(ϵ*σ*Ah*(TH1**4-Ti**4))+α1(t)*Q11)/(mh*Cps)\n",
    "    dTH2dt=(((-kepoxy*Ah*(TH2-TS2))/d_xe)-(hair*Ah*(TH2-Ti))-(hgap*Ah*(TH2-TM2i))-(ϵ*σ*Ah*(TH2**4-Ti**4))+α2(t)*Q22)/(mh*Cps)\n",
    "    dTS1dt=(((kepoxy*Ah*(TH1-TS1))/d_xe)-(hair*As*(TS1-Ti))-(ϵ*σ*As*(TS1**4-Ti**4)))/(ms*Cps)\n",
    "    dTS2dt=(((kepoxy*Ah*(TH2-TS2))/d_xe)-(hair*As*(TS2-Ti))-(ϵ*σ*As*(TS2**4-Ti**4)))/(ms*Cps)\n",
    "    dTM1idt=(hgap*Ah*(TH1-TM1i)-(hair*Aexp*(TM1i-Ti))-(ϵ*σ*Aexp*(TM1i**4-Ti**4))+((-ksteel*Am*(TM1i-TM1o)/d_xm)))/(mm*Cps)\n",
    "    dTM2idt=(hgap*Ah*(TH2-TM2i)-(hair*Aexp*(TM2i-Ti))-(ϵ*σ*Aexp*(TM2i**4-Ti**4))+((-ksteel*Am*(TM2i-TM2o)/d_xm)))/(mm*Cps)    \n",
    "    dTM1odt=((ksteel*Am*(TM1i-TM1o)/d_xm)-(hair*Amback*(TM1o-TF1i)))/(mm*Cps)\n",
    "    dTM2odt=((ksteel*Am*(TM2i-TM2o)/d_xm)-(hair*Amback*(TM2o-TF2i)))/(mm*Cps)\n",
    "    dTF1idt=((hair*Amback*(TM1o-TF1i))-(ksteel*Afback*(TF1i-TF1o)/d_xf))/(mf*Cps)\n",
    "    dTF2idt=((hair*Amback*(TM2o-TF2i))-(ksteel*Afback*(TF2i-TF2o)/d_xf))/(mf*Cps)\n",
    "    dTF1odt=((ksteel*Afback*(TF1i-TF1o)/d_xf)-(hair*Afback*(TF1o-Ti))-(ϵ*σ*Afback*(TF1o**4-Ti**4))-(n*ηfin*hair*Af*(TF1o-TF2o))-(n*ηfin*hair*Af*(TF1o-Ti))+(n*ηfin*hair*Af*(TF2o-TF1o)-(n*ηfin*ϵ*σ*Af*(TF1o**4-Ti**4))))/(mf*Cps)\n",
    "    dTF2odt=((ksteel*Afback*(TF2i-TF2o)/d_xf)-(hair*Afback*(TF2o-Ti))-(ϵ*σ*Afback*(TF2o**4-Ti**4))-(n*ηfin*hair*Af*(TF2o-TF1o))-(n*ηfin*hair*Af*(TF2o-Ti))+(n*ηfin*hair*Af*(TF1o-TF2o)-(n*ηfin*ϵ*σ*Af*(TF2o**4-Ti**4))))/(mf*Cps) \n",
    "    return dTH1dt,dTH2dt,dTS1dt,dTS2dt,dTM1idt,dTM2idt,dTM1odt,dTM2odt,dTF1idt,dTF2idt,dTF1odt,dTF2odt"
   ]
  },
  {
   "cell_type": "markdown",
   "metadata": {},
   "source": [
    "\n",
    "### Eulers integration method for unit step response"
   ]
  },
  {
   "cell_type": "code",
   "execution_count": 76,
   "metadata": {},
   "outputs": [
    {
     "data": {
      "image/png": "[encoded data removed]",
      "text/plain": [
       "<matplotlib.figure.Figure at 0x15d9c53d2e8>"
      ]
     },
     "metadata": {},
     "output_type": "display_data"
    },
    {
     "name": "stdout",
     "output_type": "stream",
     "text": [
      "TCLab Model disconnected successfully.\n"
     ]
    },
    {
     "ename": "KeyboardInterrupt",
     "evalue": "",
     "output_type": "error",
     "traceback": [
      "\u001b[1;31m---------------------------------------------------------------------------\u001b[0m",
      "\u001b[1;31mKeyboardInterrupt\u001b[0m                         Traceback (most recent call last)",
      "\u001b[1;32m<ipython-input-76-a2f01ce6b62b>\u001b[0m in \u001b[0;36m<module>\u001b[1;34m()\u001b[0m\n\u001b[0;32m      8\u001b[0m \u001b[1;33m\u001b[0m\u001b[0m\n\u001b[0;32m      9\u001b[0m \u001b[1;33m\u001b[0m\u001b[0m\n\u001b[1;32m---> 10\u001b[1;33m     \u001b[1;32mfor\u001b[0m \u001b[0mt\u001b[0m \u001b[1;32min\u001b[0m \u001b[0mclock\u001b[0m\u001b[1;33m(\u001b[0m\u001b[1;36m2500\u001b[0m\u001b[1;33m)\u001b[0m\u001b[1;33m:\u001b[0m\u001b[1;33m\u001b[0m\u001b[0m\n\u001b[0m\u001b[0;32m     11\u001b[0m         \u001b[0mQ1\u001b[0m \u001b[1;33m=\u001b[0m \u001b[0mα1\u001b[0m\u001b[1;33m(\u001b[0m\u001b[0mt\u001b[0m\u001b[1;33m)\u001b[0m\u001b[1;33m\u001b[0m\u001b[0m\n\u001b[0;32m     12\u001b[0m         \u001b[0mQ2\u001b[0m \u001b[1;33m=\u001b[0m \u001b[0mα2\u001b[0m\u001b[1;33m(\u001b[0m\u001b[0mt\u001b[0m\u001b[1;33m)\u001b[0m\u001b[1;33m\u001b[0m\u001b[0m\n",
      "\u001b[1;32mC:\\ProgramData\\Anaconda3\\lib\\site-packages\\tclab\\labtime.py\u001b[0m in \u001b[0;36mclock\u001b[1;34m(period, step, tol, adaptive)\u001b[0m\n\u001b[0;32m     99\u001b[0m                            '({:.2f} too long). Consider increasing step.')\n\u001b[0;32m    100\u001b[0m                 \u001b[1;32mraise\u001b[0m \u001b[0mRuntimeError\u001b[0m\u001b[1;33m(\u001b[0m\u001b[0mmessage\u001b[0m\u001b[1;33m.\u001b[0m\u001b[0mformat\u001b[0m\u001b[1;33m(\u001b[0m\u001b[0mstep\u001b[0m\u001b[1;33m,\u001b[0m \u001b[0melapsed\u001b[0m\u001b[1;33m,\u001b[0m \u001b[0melapsed\u001b[0m\u001b[1;33m-\u001b[0m\u001b[0mstep\u001b[0m\u001b[1;33m)\u001b[0m\u001b[1;33m)\u001b[0m\u001b[1;33m\u001b[0m\u001b[0m\n\u001b[1;32m--> 101\u001b[1;33m         \u001b[0mlabtime\u001b[0m\u001b[1;33m.\u001b[0m\u001b[0msleep\u001b[0m\u001b[1;33m(\u001b[0m\u001b[0mstep\u001b[0m \u001b[1;33m-\u001b[0m \u001b[1;33m(\u001b[0m\u001b[0mlabtime\u001b[0m\u001b[1;33m.\u001b[0m\u001b[0mtime\u001b[0m\u001b[1;33m(\u001b[0m\u001b[1;33m)\u001b[0m \u001b[1;33m-\u001b[0m \u001b[0mstart\u001b[0m\u001b[1;33m)\u001b[0m \u001b[1;33m%\u001b[0m \u001b[0mstep\u001b[0m\u001b[1;33m)\u001b[0m\u001b[1;33m\u001b[0m\u001b[0m\n\u001b[0m\u001b[0;32m    102\u001b[0m         \u001b[0mnow\u001b[0m \u001b[1;33m=\u001b[0m \u001b[0mlabtime\u001b[0m\u001b[1;33m.\u001b[0m\u001b[0mtime\u001b[0m\u001b[1;33m(\u001b[0m\u001b[1;33m)\u001b[0m \u001b[1;33m-\u001b[0m \u001b[0mstart\u001b[0m\u001b[1;33m\u001b[0m\u001b[0m\n\u001b[0;32m    103\u001b[0m \u001b[1;33m\u001b[0m\u001b[0m\n",
      "\u001b[1;32mC:\\ProgramData\\Anaconda3\\lib\\site-packages\\tclab\\labtime.py\u001b[0m in \u001b[0;36msleep\u001b[1;34m(self, delay)\u001b[0m\n\u001b[0;32m     39\u001b[0m         \u001b[0mself\u001b[0m\u001b[1;33m.\u001b[0m\u001b[0mlastsleep\u001b[0m \u001b[1;33m=\u001b[0m \u001b[0mdelay\u001b[0m\u001b[1;33m\u001b[0m\u001b[0m\n\u001b[0;32m     40\u001b[0m         \u001b[1;32mif\u001b[0m \u001b[0mself\u001b[0m\u001b[1;33m.\u001b[0m\u001b[0m_running\u001b[0m\u001b[1;33m:\u001b[0m\u001b[1;33m\u001b[0m\u001b[0m\n\u001b[1;32m---> 41\u001b[1;33m             \u001b[0mtime\u001b[0m\u001b[1;33m.\u001b[0m\u001b[0msleep\u001b[0m\u001b[1;33m(\u001b[0m\u001b[0mdelay\u001b[0m \u001b[1;33m/\u001b[0m \u001b[0mself\u001b[0m\u001b[1;33m.\u001b[0m\u001b[0m_rate\u001b[0m\u001b[1;33m)\u001b[0m\u001b[1;33m\u001b[0m\u001b[0m\n\u001b[0m\u001b[0;32m     42\u001b[0m         \u001b[1;32melse\u001b[0m\u001b[1;33m:\u001b[0m\u001b[1;33m\u001b[0m\u001b[0m\n\u001b[0;32m     43\u001b[0m             \u001b[1;32mraise\u001b[0m \u001b[0mRuntimeWarning\u001b[0m\u001b[1;33m(\u001b[0m\u001b[1;34m\"sleep is not valid when labtime is stopped.\"\u001b[0m\u001b[1;33m)\u001b[0m\u001b[1;33m\u001b[0m\u001b[0m\n",
      "\u001b[1;31mKeyboardInterrupt\u001b[0m: "
     ]
    }
   ],
   "source": [
    "TCLab = setup(connected = False, speedup=1000)\n",
    "with TCLab() as lab:\n",
    "    h5 = Historian(lab.sources +[('T1_model', lambda:To[2]-273.15),('T2_model', lambda:To[3]-273.15)])\n",
    "    p = Plotter(h5,2500, layout=(('T1','T1_model'),('T2','T2_model'),('Q1',),('Q2',),))\n",
    "    dt= 0.35\n",
    "    To=[20+273.15, 20+273.15, 20+273.15, 20+273.15,20+273.15,20+273.15,20+273.15,20+273.15,20+273.15,20+273.15,20+273.15,20+273.15 ]\n",
    "    TH1,TH2,TS1,TS2,TM1i,TM2i,TM1o,TM2o,TF1i,TF2i,TF1o,TF2o=To\n",
    "\n",
    "\n",
    "    for t in clock(2500):\n",
    "        Q1 = α1(t)\n",
    "        Q2 = α2(t)\n",
    "        lab.Q1(Q1)\n",
    "        lab.Q2(Q2)\n",
    "\n",
    "        To = TH1,TH2,TS1,TS2,TM1i,TM2i,TM1o,TM2o,TF1i,TF2i,TF1o,TF2o\n",
    "        dTH1dt,dTH2dt,dTS1dt,dTS2dt,dTM1idt,dTM2idt,dTM1odt,dTM2odt,dTF1idt,dTF2idt,dTF1odt,dTF2odt= model(To, t)\n",
    "    \n",
    "        TH1+=dTH1dt*dt\n",
    "        TH2+=dTH2dt*dt\n",
    "        TS1+=dTS1dt*dt\n",
    "        TS2+=dTS2dt*dt\n",
    "        TM1i+=dTM1idt*dt\n",
    "        TM2i+=dTM2idt*dt\n",
    "        TM1o+=dTM1odt*dt\n",
    "        TM2o+=dTM2odt*dt\n",
    "        TF1i+=dTF1idt*dt\n",
    "        TF2i+=dTF2idt*dt\n",
    "        TF1o+=dTF1odt*dt\n",
    "        TF2o+=dTF2odt*dt\n",
    "        \n",
    "        To = TH1,TH2,TS1,TS2,TM1i,TM2i,TM1o,TM2o,TF1i,TF2i,TF1o,TF2o\n",
    "        h5.update(t)\n",
    "        p.update(t)"
   ]
  },
  {
   "cell_type": "markdown",
   "metadata": {},
   "source": [
    "### Rectangular step response"
   ]
  },
  {
   "cell_type": "code",
   "execution_count": null,
   "metadata": {
    "collapsed": true
   },
   "outputs": [],
   "source": [
    "def α1(t):\n",
    "    if t<200:\n",
    "        return 0\n",
    "    elif t<2500:\n",
    "        return 40\n",
    "    else:\n",
    "        return 0\n",
    "\n",
    "def α2(t):\n",
    "    if t<200:\n",
    "        return 0\n",
    "    elif t<2500:\n",
    "        return 40\n",
    "    else:\n",
    "        return 0"
   ]
  },
  {
   "cell_type": "markdown",
   "metadata": {},
   "source": [
    "### Eulers integration method for rectangular response"
   ]
  },
  {
   "cell_type": "code",
   "execution_count": null,
   "metadata": {
    "collapsed": true
   },
   "outputs": [],
   "source": [
    "TCLab = setup(connected = True, speedup = 1)\n",
    "with TCLab() as lab:\n",
    "    h5 = Historian(lab.sources +[('T1_model', lambda:To[2]-273.15),('T2_model', lambda:To[3]-273.15)])\n",
    "    p = Plotter(h5,4000, layout=(('T1','T1_model'),('T2','T2_model'),('Q1',),('Q2',),))\n",
    "    dt= 0.45\n",
    "    To=[26.5+273.15, 26.5+273.15, 26.5+273.15, 26.5+273.15,26.5+273.15,26.5+273.15,26.5+273.15,26.5+273.15,26.5+273.15,26.5+273.15,26.5+273.15,26.5+273.15 ]\n",
    "    TH1,TH2,TS1,TS2,TM1i,TM2i,TM1o,TM2o,TF1i,TF2i,TF1o,TF2o=To\n",
    "\n",
    "\n",
    "    for t in clock(4000):\n",
    "        Q1 = α1(t)\n",
    "        Q2 = α2(t)\n",
    "        lab.Q1(Q1)\n",
    "        lab.Q2(Q2)\n",
    "\n",
    "        To = TH1,TH2,TS1,TS2,TM1i,TM2i,TM1o,TM2o,TF1i,TF2i,TF1o,TF2o\n",
    "        dTH1dt,dTH2dt,dTS1dt,dTS2dt,dTM1idt,dTM2idt,dTM1odt,dTM2odt,dTF1idt,dTF2idt,dTF1odt,dTF2odt= model(To, t)\n",
    "    \n",
    "        TH1+=dTH1dt*dt\n",
    "        TH2+=dTH2dt*dt\n",
    "        TS1+=dTS1dt*dt\n",
    "        TS2+=dTS2dt*dt\n",
    "        TM1i+=dTM1idt*dt\n",
    "        TM2i+=dTM2idt*dt\n",
    "        TM1o+=dTM1odt*dt\n",
    "        TM2o+=dTM2odt*dt\n",
    "        TF1i+=dTF1idt*dt\n",
    "        TF2i+=dTF2idt*dt\n",
    "        TF1o+=dTF1odt*dt\n",
    "        TF2o+=dTF2odt*dt\n",
    "        \n",
    "        To = TH1,TH2,TS1,TS2,TM1i,TM2i,TM1o,TM2o,TF1i,TF2i,TF1o,TF2o\n",
    "        h5.update(t)\n",
    "        p.update(t)"
   ]
  },
  {
   "cell_type": "code",
   "execution_count": null,
   "metadata": {
    "collapsed": true
   },
   "outputs": [],
   "source": [
    "def α1(t):\n",
    "    if t<200:\n",
    "        return 0\n",
    "    elif t<2500:\n",
    "        return 40\n",
    "    else:\n",
    "        return 0\n",
    "\n",
    "def α2(t):\n",
    "    if t<200:\n",
    "        return 0\n",
    "    elif t<2500:\n",
    "        return 40\n",
    "    else:\n",
    "        return 0"
   ]
  },
  {
   "cell_type": "code",
   "execution_count": null,
   "metadata": {
    "collapsed": true
   },
   "outputs": [],
   "source": []
  },
  {
   "cell_type": "code",
   "execution_count": null,
   "metadata": {
    "collapsed": true
   },
   "outputs": [],
   "source": []
  }
 ],
 "metadata": {
  "kernelspec": {
   "display_name": "Python 3",
   "language": "python",
   "name": "python3"
  },
  "language_info": {
   "codemirror_mode": {
    "name": "ipython",
    "version": 3
   },
   "file_extension": ".py",
   "mimetype": "text/x-python",
   "name": "python",
   "nbconvert_exporter": "python",
   "pygments_lexer": "ipython3",
   "version": "3.6.3"
  }
 },
 "nbformat": 4,
 "nbformat_minor": 2
}
