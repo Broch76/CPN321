{
 "cells": [
  {
   "cell_type": "code",
   "execution_count": 29,
   "metadata": {},
   "outputs": [],
   "source": [
    "import scipy.signal\n",
    "import numpy as np\n",
    "import tclab\n",
    "from scipy.linalg import block_diag\n",
    "from tclab import TCLab, clock, Historian, Plotter, setup"
   ]
  },
  {
   "cell_type": "code",
   "execution_count": 30,
   "metadata": {},
   "outputs": [],
   "source": [
    "import sympy\n",
    "sympy.init_printing()"
   ]
  },
  {
   "cell_type": "code",
   "execution_count": 31,
   "metadata": {},
   "outputs": [
    {
     "name": "stdout",
     "output_type": "stream",
     "text": [
      "Requirement already up-to-date: tclab in c:\\users\\baral\\anaconda3\\lib\\site-packages (0.4.9)\n",
      "Requirement already satisfied, skipping upgrade: pyserial in c:\\users\\baral\\anaconda3\\lib\\site-packages (from tclab) (3.4)\n",
      "Note: you may need to restart the kernel to use updated packages.\n"
     ]
    }
   ],
   "source": [
    "pip install tclab --upgrade"
   ]
  },
  {
   "cell_type": "code",
   "execution_count": 32,
   "metadata": {},
   "outputs": [
    {
     "data": {
      "text/plain": [
       "TransferFunctionContinuous(\n",
       "array([0.00348857]),\n",
       "array([1.        , 0.00501036]),\n",
       "dt: None\n",
       ")"
      ]
     },
     "execution_count": 32,
     "metadata": {},
     "output_type": "execute_result"
    }
   ],
   "source": [
    "#Effect of Q1 on T1\n",
    "\n",
    "num1 = 0.69627052016 #K\n",
    "den1 = [199.586477912, 1] #(tau*s+1)\n",
    "\n",
    "G11 = scipy.signal.lti(num1, den1)\n",
    "G11"
   ]
  },
  {
   "cell_type": "code",
   "execution_count": 33,
   "metadata": {},
   "outputs": [],
   "source": [
    "#Effect of Q2 on T2\n",
    "\n",
    "num2 = 0.152409786038 #K\n",
    "den2 = [217.282766993, 1] #(tau*s+1)\n",
    "\n",
    "G22 = scipy.signal.lti(num2, den2)"
   ]
  },
  {
   "cell_type": "code",
   "execution_count": 34,
   "metadata": {},
   "outputs": [],
   "source": [
    "#Effect of Q1 on T2\n",
    "num3 = 0.158103632558 #K\n",
    "den3 = np.convolve([145.106952068, 1], [147.075555312, 1])  #(tau1*s+1)*(tau2*s+1)\n",
    "\n",
    "\n",
    "G21 = scipy.signal.lti(num3, den3)"
   ]
  },
  {
   "cell_type": "code",
   "execution_count": 35,
   "metadata": {},
   "outputs": [],
   "source": [
    "#Effect of Q2 on T1\n",
    "num4 = 0.100790375 #K\n",
    "den4 = np.convolve([184.668159, 1], [142.999742, 1]) #(tau1*s+1)*(tau2*s+1)\n",
    "\n",
    "G12 = scipy.signal.lti(num4, den4)"
   ]
  },
  {
   "cell_type": "code",
   "execution_count": 36,
   "metadata": {},
   "outputs": [],
   "source": [
    "G11ss = G11.to_ss()\n",
    "G12ss = G12.to_ss()\n",
    "G21ss = G21.to_ss()\n",
    "G22ss = G22.to_ss()\n",
    "\n",
    "A11 = G11ss.A\n",
    "B11 = G11ss.B\n",
    "C11 = G11ss.C\n",
    "D11 = G11ss.D\n",
    "\n",
    "A12 = G12ss.A\n",
    "B12 = G12ss.B\n",
    "C12 = G12ss.C\n",
    "D12 = G12ss.D\n",
    "\n",
    "A21 = G21ss.A\n",
    "B21 = G21ss.B\n",
    "C21 = G21ss.C\n",
    "D21 = G21ss.D\n",
    "\n",
    "A22 = G22ss.A\n",
    "B22 = G22ss.B\n",
    "C22 = G22ss.C\n",
    "D22 = G22ss.D\n",
    "\n"
   ]
  },
  {
   "cell_type": "code",
   "execution_count": null,
   "metadata": {},
   "outputs": [],
   "source": []
  },
  {
   "cell_type": "code",
   "execution_count": 37,
   "metadata": {},
   "outputs": [],
   "source": [
    "A = block_diag(A11, A12, A21, A22)\n",
    "\n",
    "B1h = block_diag(B11, B12)\n",
    "B2h = block_diag(B21, B22)\n",
    "B = np.vstack((B1h, B2h))\n",
    "\n",
    "C1h = np.hstack((C11, C12))\n",
    "C2h = np.hstack((C21, C22))\n",
    "C = block_diag(C1h, C2h)\n",
    "\n",
    "D1h = np.hstack((D11, D12))\n",
    "D2h = np.hstack((D21, D22))\n",
    "D = np.vstack((D1h, D2h))\n",
    "\n",
    "A\n",
    "x= np.zeros((A.shape[0],1))\n",
    "\n"
   ]
  },
  {
   "cell_type": "code",
   "execution_count": 38,
   "metadata": {},
   "outputs": [],
   "source": [
    "M0 = 0\n",
    "M1 = 100\n",
    "M2 = 0\n",
    "ts1 = 30\n",
    "ts2 = 900"
   ]
  },
  {
   "cell_type": "code",
   "execution_count": 39,
   "metadata": {},
   "outputs": [],
   "source": [
    "def Q_step(t, M0, M1, ts1):\n",
    "    if t < ts1:\n",
    "        return M0\n",
    "    \n",
    "    else:\n",
    "        return M1"
   ]
  },
  {
   "cell_type": "code",
   "execution_count": 40,
   "metadata": {},
   "outputs": [],
   "source": [
    "def Temp(t, T1o, T2o):\n",
    "    \n",
    "    tspan = np.linspace(0, t, 1000)\n",
    "    dt = tspan[1]-tspan[0]\n",
    "    \n",
    "    x = np.zeros((A.shape[0],1))\n",
    "    \n",
    "    for i in np.arange(0, len(tspan), 1):\n",
    "    \n",
    "        Q1 = Q_step(t, M0, M1, ts1)\n",
    "        Q2 =  0\n",
    "\n",
    "        Q = np.array([[Q1], [Q2]])\n",
    "\n",
    "        dxdt = A.dot(x) + B.dot(Q)\n",
    "        y = C.dot(x) + D.dot(Q)\n",
    "        \n",
    "        x = x + dxdt*dt\n",
    "\n",
    "        T1 = y[0,0] + T1o\n",
    "        T2 = y[1,0] + T2o\n",
    "    \n",
    "    return [T1, T2]"
   ]
  },
  {
   "cell_type": "code",
   "execution_count": 41,
   "metadata": {},
   "outputs": [
    {
     "data": {
      "image/png": "[encoded data removed]",
      "text/plain": [
       "<Figure size 640x360 with 3 Axes>"
      ]
     },
     "metadata": {},
     "output_type": "display_data"
    },
    {
     "name": "stdout",
     "output_type": "stream",
     "text": [
      "TCLab Model disconnected successfully.\n"
     ]
    },
    {
     "data": {
      "image/png": "[encoded data removed]",
      "text/plain": [
       "<Figure size 640x360 with 3 Axes>"
      ]
     },
     "metadata": {
      "needs_background": "light"
     },
     "output_type": "display_data"
    }
   ],
   "source": [
    "TCLab = tclab.setup(connected = False)\n",
    "t_run = 600\n",
    "\n",
    "with TCLab() as lab:\n",
    "\n",
    "    T1o = 21\n",
    "    T2o = 21\n",
    "    \n",
    "    sources = [('T1(mod)', lambda: Temp(t,T1o, T2o)[0]), ('T2(mod)', lambda: Temp(t,T1o,T2o)[1]),\n",
    "               ('T1(Lab)', lambda: lab.T1), ('T2(Lab)', lambda: lab.T2),\n",
    "              ('Q1', lambda: lab.Q1()), ('Q2', lambda: lab.Q2())]\n",
    "\n",
    "    h = tclab.Historian(sources)\n",
    "    \n",
    "    p = Plotter(h, twindow=t_run, layout = (('T1(mod)', 'T1(Lab)'),\n",
    "                                          ('T2(mod)', 'T2(Lab)'),\n",
    "                                          ('Q1', 'Q2')))\n",
    "    \n",
    "    for t in clock(t_run): \n",
    "        Q1 = Q_step(t, M0, M1, ts1)\n",
    "        Q2 = 0\n",
    "        lab.Q1(Q1)\n",
    "        lab.Q2(Q2)\n",
    "        \n",
    "        p.update(t)"
   ]
  },
  {
   "cell_type": "code",
   "execution_count": null,
   "metadata": {},
   "outputs": [],
   "source": []
  },
  {
   "cell_type": "code",
   "execution_count": null,
   "metadata": {},
   "outputs": [],
   "source": []
  },
  {
   "cell_type": "code",
   "execution_count": null,
   "metadata": {},
   "outputs": [],
   "source": []
  }
 ],
 "metadata": {
  "kernelspec": {
   "display_name": "Python 3",
   "language": "python",
   "name": "python3"
  },
  "language_info": {
   "codemirror_mode": {
    "name": "ipython",
    "version": 3
   },
   "file_extension": ".py",
   "mimetype": "text/x-python",
   "name": "python",
   "nbconvert_exporter": "python",
   "pygments_lexer": "ipython3",
   "version": "3.7.3"
  }
 },
 "nbformat": 4,
 "nbformat_minor": 2
}
