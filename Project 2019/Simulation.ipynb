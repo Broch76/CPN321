{
 "cells": [
  {
   "cell_type": "code",
   "execution_count": 73,
   "metadata": {},
   "outputs": [],
   "source": [
    "import numpy\n",
    "import matplotlib.pyplot as plt\n",
    "%matplotlib inline"
   ]
  },
  {
   "cell_type": "markdown",
   "metadata": {},
   "source": [
    "You will develop a dynamic simulation of the system in Python, making use of the\n",
    "guidelines as supplied during the computer tutorials, to calculate and graphically represent\n",
    "the time responses of the outputs for step- and rectangular pulse disturbances in the\n",
    "inputs."
   ]
  },
  {
   "cell_type": "markdown",
   "metadata": {},
   "source": [
    "Your simulation must allow changes in the heater inputs as well as disturbances in the\n",
    "ambient conditions (temperature and air flow)."
   ]
  },
  {
   "cell_type": "markdown",
   "metadata": {},
   "source": [
    "Make provision for the graphic representation of results and easy interaction."
   ]
  },
  {
   "cell_type": "markdown",
   "metadata": {},
   "source": [
    "Forward Euler integration should be sufficient if care is taken that the integration\n",
    "step size is at least 10 times smaller than the smallest time constant in the differential\n",
    "equations used to describe the process."
   ]
  },
  {
   "cell_type": "markdown",
   "metadata": {},
   "source": [
    "Your simulation must also allow for running concurrently with the TCLab unit showing\n",
    "results from the real unit and your model on the same graphs in real time."
   ]
  },
  {
   "cell_type": "markdown",
   "metadata": {},
   "source": [
    "Marks for this phase will be awarded for"
   ]
  },
  {
   "cell_type": "markdown",
   "metadata": {},
   "source": [
    "• Correct implementation of the model equations (30%)"
   ]
  },
  {
   "cell_type": "markdown",
   "metadata": {},
   "source": [
    "• Successful integration of the model equations (30%)"
   ]
  },
  {
   "cell_type": "markdown",
   "metadata": {},
   "source": [
    "• Presentation of results of simulation (30%)"
   ]
  },
  {
   "cell_type": "markdown",
   "metadata": {},
   "source": [
    "• Programming style (10%)"
   ]
  },
  {
   "cell_type": "markdown",
   "metadata": {},
   "source": [
    "$$Parameters$$"
   ]
  },
  {
   "cell_type": "code",
   "execution_count": 74,
   "metadata": {},
   "outputs": [],
   "source": [
    "hinf   = 10.45             #W/m2/K\n",
    "AF1    = 0.0004            #m2\n",
    "Tinf   = 298.18            #K\n",
    "AF2    = 0.0004            #m2\n",
    "ϵ      = 0.85\n",
    "σ      = 5.67*(10**-8)"
   ]
  },
  {
   "cell_type": "code",
   "execution_count": 75,
   "metadata": {},
   "outputs": [],
   "source": [
    "Afin1  = Afin2  = 0.00009  #m-2\n",
    "mF1    = mF2    = 0.0029   #kg\n",
    "CpF1   = CpF2   = 502.42   #J/kg/K\n",
    "ρF1    = ρF2    = 7900     #kg/m3\n",
    "Vf1    = Vf2    = 0.00036  #m^-3\n",
    "kH1    = kH2    = 14.4/1000#W/m/K\n",
    "AH1    = AH2    = 0.00008  #m^2\n",
    "LH1    = LH2    = 0.0015   #m"
   ]
  },
  {
   "cell_type": "code",
   "execution_count": 76,
   "metadata": {},
   "outputs": [],
   "source": [
    "hH1    = hH2    = 10.45    #W/m^-2/K\n",
    "mH1    = mH2    = 0.00019  #kg\n",
    "CpH1   = CpH2   = 502.42   #J/kg/K\n",
    "α1     = 0.01              #W\n",
    "α2     = 0.075             #W"
   ]
  },
  {
   "cell_type": "code",
   "execution_count": 77,
   "metadata": {},
   "outputs": [],
   "source": [
    "hS1    = hS2    = 10.45    #W/m2/K\n",
    "AS1    = AS2    = 0.000016 #m2\n",
    "mS1    = mS2    = 0.00025  #kg\n",
    "CpS1   = CpS2   = 502.42   #J/kg/K"
   ]
  },
  {
   "cell_type": "markdown",
   "metadata": {},
   "source": [
    "$$Inputs$$"
   ]
  },
  {
   "cell_type": "code",
   "execution_count": 78,
   "metadata": {},
   "outputs": [],
   "source": [
    "Qin1   = 1.00             #W\n",
    "Qin2   = 0.75             #W"
   ]
  },
  {
   "cell_type": "code",
   "execution_count": 79,
   "metadata": {},
   "outputs": [],
   "source": [
    "import tclab\n",
    "from tclab import TCLab, clock, Historian, Plotter, setup"
   ]
  },
  {
   "cell_type": "code",
   "execution_count": 80,
   "metadata": {},
   "outputs": [],
   "source": [
    "def Q_rect(t, M0, M1, M2, ts1, ts2):\n",
    "    if t < ts1:\n",
    "        return M0\n",
    "    \n",
    "    elif ts1<t<ts2:\n",
    "        return M1\n",
    "    \n",
    "    else:\n",
    "        return M2\n",
    "    \n",
    "def Q_step(t, M0, M1, ts1):\n",
    "    if t < ts1:\n",
    "        return M0\n",
    "    else:\n",
    "        return M1"
   ]
  },
  {
   "cell_type": "code",
   "execution_count": 81,
   "metadata": {},
   "outputs": [],
   "source": [
    "# Differential Equations\n",
    "\n",
    "def diff(t, T):\n",
    "    TF1, TF2, TH1, TH2, TS1, TS2 = T\n",
    "    QIN1 = Q_step(t, 0, 100, 30)\n",
    "    QIN2 = 0\n",
    "        \n",
    "    # Fin Equations\n",
    "\n",
    "    Qconv_1 = hinf*AF1*(TF1 - Tinf)\n",
    "    Qconv_2 = hinf*AF2*(TF2 - Tinf)\n",
    "\n",
    "    Qcond_1 = ((kH1*AH1)/LH1)*(TH1 - TF1)#QH1_F1\n",
    "    Qcond_2 = ((kH2*AH2)/LH2)*(TH2 - TF2)#QH2_F2\n",
    "\n",
    "    Qrad_1 = ϵ*σ*AF1*((TF1**4) - (Tinf**4))\n",
    "    Qrad_2 = ϵ*σ*AF2*((TF2**4) - (Tinf**4))\n",
    "\n",
    "    Qconv_12 = hinf*(Afin1 + Afin2)*(TF1 - TF2)\n",
    "    Qrad_12 = ϵ*σ*(Afin1 + Afin2)*((TF1**4) - (TF2**4))\n",
    "    \n",
    "    # Heater Equations\n",
    "\n",
    "    QH1_F1 = ((kH1*AH1)/LH1)*(TH1 - TF1)\n",
    "    QH2_F2 = ((kH2*AH2)/LH2)*(TH2 - TF2)\n",
    "\n",
    "    QH1_S1 = ((kH1*AH1)/LH1)*(TH1 - TS1)\n",
    "    QH2_S2 = ((kH2*AH2)/LH2)*(TH2 - TS2)\n",
    "\n",
    "    QH1_conv = hH1*AH1*(TH1 - Tinf)\n",
    "    QH2_conv = hH2*AH2*(TH2 - Tinf)\n",
    "\n",
    "    QH1_rad = ϵ*σ*AH1*((TH1**4) - (Tinf**4))\n",
    "    QH2_rad = ϵ*σ*AH2*((TH2**4) - (Tinf**4))\n",
    "    \n",
    "    # Sensor Equations\n",
    "\n",
    "    QS1_cond = QH1_S1\n",
    "    QS2_cond = QH2_S2\n",
    "\n",
    "    QS1_conv = hS1*AS1*(TS1 - Tinf)\n",
    "    QS2_conv = hS2*AS2*(TS2 - Tinf)\n",
    "\n",
    "    QS1_rad = ϵ*σ*AS1*((TS1**4) - (Tinf**4))\n",
    "    QS2_rad = ϵ*σ*AS2*((TS2**4) - (Tinf**4))\n",
    "    \n",
    "    # Differential Equations\n",
    "    \n",
    "    dTF1dt = (1/(mF1*CpF1))*(-Qconv_1 - Qrad_1 + Qcond_1 - Qconv_12 - Qrad_12)\n",
    "    dTF2dt = (1/(mF2*CpF2))*(-Qconv_2 - Qrad_2 + Qcond_2 + Qconv_12 + Qrad_12)\n",
    "\n",
    "    dTH1dt = (1/(mH1*CpH1))*(-QH1_F1 - QH1_S1 - QH1_conv - QH1_rad + α1*QIN1)\n",
    "    dTH2dt = (1/(mH2*CpH2))*(-QH2_F2 - QH2_S2 - QH2_conv - QH2_rad + α2*QIN2)\n",
    "\n",
    "    dTS1dt = (1/(mS1*CpS1))*(QS1_cond - QS1_rad - QS1_conv)\n",
    "    dTS2dt = (1/(mS2*CpS2))*(QS2_cond - QS2_rad - QS2_conv)\n",
    "\n",
    "    return dTF1dt, dTF2dt, dTH1dt, dTH2dt, dTS1dt, dTS2dt"
   ]
  },
  {
   "cell_type": "code",
   "execution_count": null,
   "metadata": {},
   "outputs": [],
   "source": [
    "TCLab  = setup(connected = False, speedup = 1)\n",
    "tfinal = 150\n",
    "t_step = 1"
   ]
  },
  {
   "cell_type": "code",
   "execution_count": null,
   "metadata": {},
   "outputs": [],
   "source": [
    "tspan  = []"
   ]
  },
  {
   "cell_type": "code",
   "execution_count": null,
   "metadata": {},
   "outputs": [
    {
     "data": {
      "image/png": "[encoded data removed]",
      "text/plain": [
       "<Figure size 640x480 with 4 Axes>"
      ]
     },
     "metadata": {},
     "output_type": "display_data"
    }
   ],
   "source": [
    "with TCLab() as lab:\n",
    "    hist = Historian(lab.sources)\n",
    "    p = Plotter(hist, tfinal)\n",
    "    dt = t_step\n",
    "    To = [298.15, 298.15, 298.15, 298.15, 298.15, 298.15]\n",
    "    TF1, TF2, TH1, TH2, TS1, TS2 = To\n",
    "    TS1s = []\n",
    "    Tlab1 = []\n",
    "\n",
    "    for t in tclab.clock(tfinal, t_step):\n",
    "        \n",
    "        lab.Q1(Q_step(t, 0, 100, 30))\n",
    "        lab.Q2(0)\n",
    "\n",
    "        To = TF1, TF2, TH1, TH2, TS1, TS2 \n",
    "        dTF1dt, dTF2dt, dTH1dt, dTH2dt, dTS1dt, dTS2dt = diff(t, To)\n",
    "\n",
    "        TF1 += dTF1dt*dt\n",
    "        TF2 += dTF2dt*dt\n",
    "        TH1 += dTH1dt*dt\n",
    "        TH2 += dTH2dt*dt\n",
    "        TS1 += dTS1dt*dt\n",
    "        TS2 += dTS2dt*dt\n",
    "\n",
    "        To = TF1, TF2, TH1, TH2, TS1, TS2\n",
    "        TS1s.append(TS1-273.15)\n",
    "        Tlab1.append(lab.T1)\n",
    "        tspan.append(t)\n",
    "        hist.update(t)\n",
    "        p.update(t)"
   ]
  },
  {
   "cell_type": "code",
   "execution_count": null,
   "metadata": {},
   "outputs": [],
   "source": [
    "TS1s"
   ]
  },
  {
   "cell_type": "code",
   "execution_count": null,
   "metadata": {},
   "outputs": [],
   "source": [
    "plt.plot(tspan, TS1s)\n",
    "plt.plot(tspan, Tlab1)"
   ]
  },
  {
   "cell_type": "code",
   "execution_count": null,
   "metadata": {},
   "outputs": [],
   "source": []
  }
 ],
 "metadata": {
  "kernelspec": {
   "display_name": "Python 3",
   "language": "python",
   "name": "python3"
  },
  "language_info": {
   "codemirror_mode": {
    "name": "ipython",
    "version": 3
   },
   "file_extension": ".py",
   "mimetype": "text/x-python",
   "name": "python",
   "nbconvert_exporter": "python",
   "pygments_lexer": "ipython3",
   "version": "3.7.3"
  }
 },
 "nbformat": 4,
 "nbformat_minor": 2
}
