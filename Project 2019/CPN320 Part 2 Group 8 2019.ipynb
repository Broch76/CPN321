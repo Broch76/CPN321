{
 "cells": [
  {
   "cell_type": "code",
   "execution_count": 1,
   "metadata": {},
   "outputs": [
    {
     "name": "stdout",
     "output_type": "stream",
     "text": [
      "Requirement already satisfied: tclab in c:\\programdata\\anaconda3\\lib\\site-packages (0.4.9)\n",
      "Requirement already satisfied: pyserial in c:\\programdata\\anaconda3\\lib\\site-packages (from tclab) (3.4)\n",
      "Note: you may need to restart the kernel to use updated packages.\n"
     ]
    }
   ],
   "source": [
    "pip install tclab"
   ]
  },
  {
   "cell_type": "code",
   "execution_count": 2,
   "metadata": {},
   "outputs": [
    {
     "name": "stdout",
     "output_type": "stream",
     "text": [
      "Requirement already up-to-date: tclab in c:\\programdata\\anaconda3\\lib\\site-packages (0.4.9)\n",
      "Requirement already satisfied, skipping upgrade: pyserial in c:\\programdata\\anaconda3\\lib\\site-packages (from tclab) (3.4)\n",
      "Note: you may need to restart the kernel to use updated packages.\n"
     ]
    }
   ],
   "source": [
    "pip install tclab --upgrade"
   ]
  },
  {
   "cell_type": "code",
   "execution_count": 5,
   "metadata": {},
   "outputs": [],
   "source": [
    "import numpy\n",
    "import matplotlib.pyplot as plt\n",
    "%matplotlib inline"
   ]
  },
  {
   "cell_type": "markdown",
   "metadata": {},
   "source": [
    "You will develop a dynamic simulation of the system in Python, making use of the\n",
    "guidelines as supplied during the computer tutorials, to calculate and graphically represent\n",
    "the time responses of the outputs for step- and rectangular pulse disturbances in the\n",
    "inputs."
   ]
  },
  {
   "cell_type": "markdown",
   "metadata": {},
   "source": [
    "Your simulation must allow changes in the heater inputs as well as disturbances in the\n",
    "ambient conditions (temperature and air flow)."
   ]
  },
  {
   "cell_type": "markdown",
   "metadata": {},
   "source": [
    "Make provision for the graphic representation of results and easy interaction."
   ]
  },
  {
   "cell_type": "markdown",
   "metadata": {},
   "source": [
    "Forward Euler integration should be sufficient if care is taken that the integration\n",
    "step size is at least 10 times smaller than the smallest time constant in the differential\n",
    "equations used to describe the process."
   ]
  },
  {
   "cell_type": "markdown",
   "metadata": {},
   "source": [
    "Your simulation must also allow for running concurrently with the TCLab unit showing\n",
    "results from the real unit and your model on the same graphs in real time."
   ]
  },
  {
   "cell_type": "markdown",
   "metadata": {},
   "source": [
    "Marks for this phase will be awarded for"
   ]
  },
  {
   "cell_type": "markdown",
   "metadata": {},
   "source": [
    "• Correct implementation of the model equations (30%)"
   ]
  },
  {
   "cell_type": "markdown",
   "metadata": {},
   "source": [
    "• Successful integration of the model equations (30%)"
   ]
  },
  {
   "cell_type": "markdown",
   "metadata": {},
   "source": [
    "• Presentation of results of simulation (30%)"
   ]
  },
  {
   "cell_type": "markdown",
   "metadata": {},
   "source": [
    "• Programming style (10%)"
   ]
  },
  {
   "cell_type": "markdown",
   "metadata": {},
   "source": [
    "$$Parameters$$"
   ]
  },
  {
   "cell_type": "code",
   "execution_count": 25,
   "metadata": {},
   "outputs": [],
   "source": [
    "hinf   = 10.45             #W/m2/K\n",
    "AF1    = 0.0004            #m2\n",
    "Tinf   = 297.18            #K\n",
    "AF2    = 0.0004            #m2\n",
    "ϵ      = 0.85\n",
    "σ      = 5.67*numpy.exp(-8)"
   ]
  },
  {
   "cell_type": "code",
   "execution_count": 26,
   "metadata": {},
   "outputs": [],
   "source": [
    "Afin1  = A_fin2 = 0.00009  #m-2\n",
    "mF1    = mF2    = 0.0029   #kg\n",
    "CpF1   = CpF2   = 502.42   #J/kg/K\n",
    "ρF1    = ρF2    = 7900     #kg/m3\n",
    "Vf1    = Vf2    = 0.00036  #m^-3\n",
    "kH1    = kH2    = 14.40    #W/m/K\n",
    "AH1    = AH2    = 0.00008  #m^2\n",
    "LH1    = LH2    = 0.0015   #m"
   ]
  },
  {
   "cell_type": "code",
   "execution_count": 27,
   "metadata": {},
   "outputs": [],
   "source": [
    "hH1    = hH2    = 10.45    #W/m^-2/K\n",
    "mH1    = mH2    = 0.00019  #kg\n",
    "CpH1   = CpH2   = 502.42   #J/kg/K\n",
    "α1     = 0.01              #W\n",
    "α2     = 0.0075            #W"
   ]
  },
  {
   "cell_type": "code",
   "execution_count": 28,
   "metadata": {},
   "outputs": [],
   "source": [
    "hS1    = hS2    = 10.45    #W/m2/K\n",
    "AS1    = AS2    = 0.000016 #m2\n",
    "mS1    = mS2    = 0.00025  #kg\n",
    "CpS1   = CpS2   = 502.42   #J/kg/K"
   ]
  },
  {
   "cell_type": "markdown",
   "metadata": {},
   "source": [
    "$$Inputs$$"
   ]
  },
  {
   "cell_type": "code",
   "execution_count": 29,
   "metadata": {},
   "outputs": [],
   "source": [
    "Qin1   = 1.00             #W\n",
    "Qin2   = 0.75             #W"
   ]
  },
  {
   "cell_type": "code",
   "execution_count": 32,
   "metadata": {},
   "outputs": [],
   "source": [
    "import scipy\n",
    "from scipy.integrate import odeint\n",
    "from scipy.optimize import fsolve\n",
    "from tclab import TCLab, clock, Historian, Plotter, setup"
   ]
  },
  {
   "cell_type": "code",
   "execution_count": null,
   "metadata": {},
   "outputs": [],
   "source": []
  }
 ],
 "metadata": {
  "kernelspec": {
   "display_name": "Python 3",
   "language": "python",
   "name": "python3"
  },
  "language_info": {
   "codemirror_mode": {
    "name": "ipython",
    "version": 3
   },
   "file_extension": ".py",
   "mimetype": "text/x-python",
   "name": "python",
   "nbconvert_exporter": "python",
   "pygments_lexer": "ipython3",
   "version": "3.7.3"
  }
 },
 "nbformat": 4,
 "nbformat_minor": 2
}
