{
 "cells": [
  {
   "cell_type": "markdown",
   "metadata": {
    "deletable": false,
    "editable": false,
    "nbgrader": {
     "checksum": "b99a53b95a281090d62c2e864b789f5a",
     "grade": false,
     "grade_id": "cell-6438d84fe0093854",
     "locked": true,
     "schema_version": 1,
     "solution": false
    }
   },
   "source": [
    "## 1 Deadtime (10)\n",
    "\n",
    "Develop a simulation of the system in Example 5.3, simulating the same situation as in the solution presented. \n",
    "\n",
    "### 1.1 Numerical\n",
    "Simulate the system with deadtime numerically using `numpy` for a value of $2000 \\frac{kg}{m^3}$ for $c_i$. For the dead time, you can interpolate on the values from the past using `numpy.interp`. Define a function called `numeric` that takes the timespan as an input and returns the numerical response of $c_1'$.\n",
    "\n",
    "\n"
   ]
  },
  {
   "cell_type": "code",
   "execution_count": null,
   "metadata": {
    "deletable": false,
    "nbgrader": {
     "checksum": "df90100aad986a4c71c62a6835c7e019",
     "grade": false,
     "grade_id": "cell-5a309567e9a2649c",
     "locked": false,
     "schema_version": 1,
     "solution": true
    }
   },
   "outputs": [],
   "source": [
    "import numpy\n",
    "import matplotlib.pyplot as plt\n",
    "# Do not change this, %matplotlib notebook makes it difficult to mark\n",
    "%matplotlib inline \n",
    "\n",
    "\n",
    "ci = 2000  # kg/m^3\n",
    "ts = numpy.linspace(0, 100, 1000)  # timespan DO NOT CHANGE\n",
    "\n",
    "\n",
    "def numeric(ts):\n",
    "    \n",
    "    return\n",
    "\n",
    "# YOUR CODE HERE"
   ]
  },
  {
   "cell_type": "code",
   "execution_count": null,
   "metadata": {
    "deletable": false,
    "editable": false,
    "nbgrader": {
     "checksum": "0fba200d1ce285cfeaae21bc634b1df0",
     "grade": true,
     "grade_id": "cell-64c1f71e45cd70d9",
     "locked": true,
     "points": 2,
     "schema_version": 1,
     "solution": false
    }
   },
   "outputs": [],
   "source": [
    "# DO NOT CHANGE\n",
    "assert numpy.round(numeric(ts)[10],2) == 2.02\n"
   ]
  },
  {
   "cell_type": "markdown",
   "metadata": {
    "collapsed": true,
    "deletable": false,
    "editable": false,
    "nbgrader": {
     "checksum": "cfc57f784f9337e262fd5f63246c0540",
     "grade": false,
     "grade_id": "cell-2b693f9c53e80842",
     "locked": true,
     "schema_version": 1,
     "solution": false
    }
   },
   "source": [
    "Plot the response below."
   ]
  },
  {
   "cell_type": "code",
   "execution_count": null,
   "metadata": {
    "deletable": false,
    "nbgrader": {
     "checksum": "0e4aa0dec95cf5095f985f0999d23a91",
     "grade": true,
     "grade_id": "cell-c4d199dd27937f9a",
     "locked": false,
     "points": 1,
     "schema_version": 1,
     "solution": true
    }
   },
   "outputs": [],
   "source": [
    "# YOUR CODE HERE"
   ]
  },
  {
   "cell_type": "markdown",
   "metadata": {
    "deletable": false,
    "editable": false,
    "nbgrader": {
     "checksum": "ec8a1f2a94e1a97e4fbc289a16e532b3",
     "grade": false,
     "grade_id": "cell-2fe04c3197f19623",
     "locked": true,
     "schema_version": 1,
     "solution": false
    }
   },
   "source": [
    "### 1.2 Deadtime approximation\n",
    "Use `sympy` to calculate an approximation for the deadtime. Create a function called `dead_time_approx` that takes the timespan as input. This function must return the resulting $c_1'$ when using an approximation for the dead time.\n",
    "\n",
    "NOTE: Do not round any values by hand. Rather use the variables in your equations. The reason for this is that `sympy` calculates values very precisely, if you round values you will not get the correct answer and the grader will fail you on this question."
   ]
  },
  {
   "cell_type": "code",
   "execution_count": null,
   "metadata": {
    "deletable": false,
    "nbgrader": {
     "checksum": "cf4fdf3ef2d2c9d6d245699aa036d25a",
     "grade": false,
     "grade_id": "cell-4578e9efb2af74ae",
     "locked": false,
     "schema_version": 1,
     "solution": true
    }
   },
   "outputs": [],
   "source": [
    "import sympy\n",
    "\n",
    "def dead_time_approx(ts):\n",
    "    \n",
    "    return\n",
    "\n",
    "# YOUR CODE HERE"
   ]
  },
  {
   "cell_type": "code",
   "execution_count": null,
   "metadata": {
    "deletable": false,
    "editable": false,
    "nbgrader": {
     "checksum": "8d3e255ea01c11bf6ef1808eb34629e7",
     "grade": true,
     "grade_id": "cell-bc2b58b07e16db0d",
     "locked": true,
     "points": 3,
     "schema_version": 1,
     "solution": false
    }
   },
   "outputs": [],
   "source": [
    "# DO NOT CHANGE\n",
    "assert numpy.round(list(map(float, dead_time_approx([1])))) == [2]"
   ]
  },
  {
   "cell_type": "markdown",
   "metadata": {
    "deletable": false,
    "editable": false,
    "nbgrader": {
     "checksum": "450cc04915f6e636b9be08e69770b9f7",
     "grade": false,
     "grade_id": "cell-57edd9c652a7883f",
     "locked": true,
     "schema_version": 1,
     "solution": false
    }
   },
   "source": [
    "Plot the response below."
   ]
  },
  {
   "cell_type": "code",
   "execution_count": null,
   "metadata": {
    "deletable": false,
    "nbgrader": {
     "checksum": "10f8e40d2d950132c987db1d4f017f81",
     "grade": true,
     "grade_id": "cell-c48fc3c761d9e245",
     "locked": false,
     "points": 1,
     "schema_version": 1,
     "solution": true
    }
   },
   "outputs": [],
   "source": [
    "# YOUR CODE HERE"
   ]
  },
  {
   "cell_type": "markdown",
   "metadata": {
    "deletable": false,
    "editable": false,
    "nbgrader": {
     "checksum": "15e4b48560f9d3bd0062c2a2eac94f84",
     "grade": false,
     "grade_id": "cell-aa47a9089449257d",
     "locked": true,
     "schema_version": 1,
     "solution": false
    }
   },
   "source": [
    "### 1.3 Analytical solution\n",
    "Create a function that returns the time domain response of **Eq 5-56** in the textbook. Name this function *analytical*, it must take the time span as an input. **NOTE:** you will need to use `numpy.interp` for this solution"
   ]
  },
  {
   "cell_type": "code",
   "execution_count": null,
   "metadata": {
    "deletable": false,
    "nbgrader": {
     "checksum": "f93f549bace259c62a15def0256a621d",
     "grade": false,
     "grade_id": "cell-07f7409b5c944f31",
     "locked": false,
     "schema_version": 1,
     "solution": true
    }
   },
   "outputs": [],
   "source": [
    "def analytical(ts):\n",
    "    \n",
    "    return\n",
    "# YOUR CODE HERE"
   ]
  },
  {
   "cell_type": "code",
   "execution_count": null,
   "metadata": {
    "deletable": false,
    "editable": false,
    "nbgrader": {
     "checksum": "ea5d4c98dcce7033c9638696faf72cf8",
     "grade": true,
     "grade_id": "cell-068c05f922a82ea6",
     "locked": true,
     "points": 2,
     "schema_version": 1,
     "solution": false
    }
   },
   "outputs": [],
   "source": [
    "# DO NOT CHANGE\n",
    "assert round(analytical(ts)[100], 2) == 124.45\n"
   ]
  },
  {
   "cell_type": "markdown",
   "metadata": {
    "deletable": false,
    "editable": false,
    "nbgrader": {
     "checksum": "ff275e4fb9eb4adf1bc32c98f56a57fc",
     "grade": false,
     "grade_id": "cell-529abd06b9e221b3",
     "locked": true,
     "schema_version": 1,
     "solution": false
    }
   },
   "source": [
    "Plot the response of Eq 5-56 below."
   ]
  },
  {
   "cell_type": "code",
   "execution_count": null,
   "metadata": {
    "deletable": false,
    "nbgrader": {
     "checksum": "55e4e17383341b980b907772d7e95dc0",
     "grade": true,
     "grade_id": "cell-db789eef2fd116b4",
     "locked": false,
     "points": 1,
     "schema_version": 1,
     "solution": true
    }
   },
   "outputs": [],
   "source": [
    "# YOUR CODE HERE"
   ]
  },
  {
   "cell_type": "markdown",
   "metadata": {
    "deletable": false,
    "editable": false,
    "nbgrader": {
     "checksum": "6243cd25fc21563df8c862a3266c4a4b",
     "grade": false,
     "grade_id": "cell-4199a5101fd0e7c9",
     "locked": true,
     "schema_version": 1,
     "solution": false
    }
   },
   "source": [
    "## 2 Data reading (8)\n",
    "Next, modify your program to read the value of $c_i$ from the attached file `data.csv` and simulate the system. You can use the `pandas` module to read the file. Write a function that uses `pandas` to read the csv data. Name the function `read_data` it should take the file name as an input and return the data. Click [here](https://pandas.pydata.org/pandas-docs/stable/generated/pandas.read_csv.html) to see the documentation on how to read a csv with `pandas`. `pandas` creates a DataFrame object that works like a dictionary, i.e. it has key value pairs. Remember to change the timestamps into delta time in terms of minutes. This conversion must also be done in your `read_data` function and added to the DataFrame. \n",
    "\n",
    "\n",
    "For a quick tutorial on `pandas` click [here](https://pandas.pydata.org/pandas-docs/stable/10min.html).\n",
    "\n",
    "\n",
    "Write the code for reading the data below."
   ]
  },
  {
   "cell_type": "code",
   "execution_count": null,
   "metadata": {
    "deletable": false,
    "nbgrader": {
     "checksum": "ba50c2c01f1873a7a874f25b51b44e39",
     "grade": false,
     "grade_id": "cell-d3ee2dff5d5d3ab2",
     "locked": false,
     "schema_version": 1,
     "solution": true
    }
   },
   "outputs": [],
   "source": [
    "import numpy\n",
    "import matplotlib.pyplot as plt\n",
    "import pandas as pd\n",
    "\n",
    "\n",
    "def read_data(filename):\n",
    "    \n",
    "    return\n",
    "\n",
    "# YOUR CODE HERE"
   ]
  },
  {
   "cell_type": "code",
   "execution_count": null,
   "metadata": {
    "deletable": false,
    "editable": false,
    "nbgrader": {
     "checksum": "bd959fbb4fce8765f78a638039e28a43",
     "grade": true,
     "grade_id": "cell-108261f1392016fb",
     "locked": true,
     "points": 2,
     "schema_version": 1,
     "solution": false
    }
   },
   "outputs": [],
   "source": [
    "# DO NOT CHANGE"
   ]
  },
  {
   "cell_type": "markdown",
   "metadata": {
    "deletable": false,
    "editable": false,
    "nbgrader": {
     "checksum": "5cedb39a7b53d7e3ef8724a94a27c241",
     "grade": false,
     "grade_id": "cell-2686bef81f068ba9",
     "locked": true,
     "schema_version": 1,
     "solution": false
    }
   },
   "source": [
    "Write a function called `simulate` that takes the data from the `read_data` function and the timespan as inputs and returns the simulated values for $c_1'$. Use the numerical method to simulate the system, question 1.1. Use 10000 points in your timespan. You will need to use `numpy.interp` to interpolate between the values in the data file."
   ]
  },
  {
   "cell_type": "code",
   "execution_count": null,
   "metadata": {
    "deletable": false,
    "nbgrader": {
     "checksum": "7d772b7341dd346f4948cdf428eee519",
     "grade": false,
     "grade_id": "cell-946be71c5d4154b3",
     "locked": false,
     "schema_version": 1,
     "solution": true
    }
   },
   "outputs": [],
   "source": [
    "# YOUR CODE HERE"
   ]
  },
  {
   "cell_type": "code",
   "execution_count": null,
   "metadata": {
    "deletable": false,
    "editable": false,
    "nbgrader": {
     "checksum": "55a0a3422cfc7a453b18684c54d054db",
     "grade": true,
     "grade_id": "cell-5c4279f09519187d",
     "locked": true,
     "points": 4,
     "schema_version": 1,
     "solution": false
    }
   },
   "outputs": [],
   "source": [
    "# DO NOT CHANGE\n",
    "assert len(simulate(data, ts)) == 10000\n",
    "assert round(simulate(data, ts)[-1]) == 182\n"
   ]
  },
  {
   "cell_type": "markdown",
   "metadata": {
    "deletable": false,
    "editable": false,
    "nbgrader": {
     "checksum": "1b1c34acc3c20ba6bb6db559f692b9e9",
     "grade": false,
     "grade_id": "cell-fb39238e0633715a",
     "locked": true,
     "schema_version": 1,
     "solution": false
    }
   },
   "source": [
    "Using subplots plot the response of the system ($c_1'$) and the changing values of $c_i$ below with respect to time."
   ]
  },
  {
   "cell_type": "code",
   "execution_count": null,
   "metadata": {
    "deletable": false,
    "nbgrader": {
     "checksum": "3445092e5f67a31e874f9cb00157f4e2",
     "grade": true,
     "grade_id": "cell-2d190ec9a9577892",
     "locked": false,
     "points": 2,
     "schema_version": 1,
     "solution": true
    }
   },
   "outputs": [],
   "source": [
    "# YOUR CODE HERE"
   ]
  },
  {
   "cell_type": "code",
   "execution_count": null,
   "metadata": {},
   "outputs": [],
   "source": []
  }
 ],
 "metadata": {
  "kernelspec": {
   "display_name": "Python 3",
   "language": "python",
   "name": "python3"
  },
  "language_info": {
   "codemirror_mode": {
    "name": "ipython",
    "version": 3
   },
   "file_extension": ".py",
   "mimetype": "text/x-python",
   "name": "python",
   "nbconvert_exporter": "python",
   "pygments_lexer": "ipython3",
   "version": "3.5.3"
  }
 },
 "nbformat": 4,
 "nbformat_minor": 2
}
