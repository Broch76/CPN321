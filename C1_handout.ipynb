{
 "cells": [
  {
   "cell_type": "raw",
   "metadata": {
    "deletable": false,
    "editable": false,
    "nbgrader": {
     "checksum": "6c3160a299e5f939d1a988a184fd4b73",
     "grade": false,
     "grade_id": "cell-0e37a8ff02501add",
     "locked": true,
     "schema_version": 1,
     "solution": false
    }
   },
   "source": [
    "# CPN 321 Computer Tut 1 2017\n",
    "## Solving Equations"
   ]
  },
  {
   "cell_type": "markdown",
   "metadata": {
    "deletable": false,
    "editable": false,
    "nbgrader": {
     "checksum": "86d8ec1c281d74d27e30ba52c7f1dbc8",
     "grade": false,
     "grade_id": "solving_equations_question",
     "locked": true,
     "schema_version": 1,
     "solution": false
    }
   },
   "source": [
    "## 1  Linear algebra (7)\n",
    "\n",
    "Figure 1 shows a flow network. Assume\n",
    "steady state operation. If there are two\n",
    "components in the system and no energy balances are done, how many\n",
    "variables and equations are there?  Calculate the degrees of freedom.\n",
    "\n",
    "<img src=\"graph/massbalance.png\">\n",
    "\n",
    "How many specifications are there in the following paragraph?\n",
    "\n",
    "  *Streams A and H are 5~kg/h and 10~kg/h of pure substance X and substance Y\n",
    "  respectively.  Processes 2, 3 and 6 are splitters, each yielding two\n",
    "  streams. The stream exiting each splitter on the right is twice the\n",
    "  flowrate of the other exiting stream, but has the same composition.  Processes 1, 4 and 5 are\n",
    "  pure mixers.*\n",
    " \n",
    " These specifications can be written in the following form for the mass balance and the component balance:\n",
    "\n",
    "\n",
    " $$A \\mathbf{x} = \\mathbf{b}$$\n",
    "\n",
    "\n",
    "Find $A$ and $\\mathbf{b}$ for each of these balances. Create one function named `solve_matrices` that uses `numpy.linalg.solve`. The function must take $A$ and $\\mathbf{b}$ and return the solution to the equation above as a matrix. Use this function to solve for the flows as well as the composition (in terms of X) of the streams. \n",
    "\n",
    "The solution must be in the following form and order:\n",
    "\n",
    "$$\n",
    "\\mathbf{x} = \n",
    "\\begin{bmatrix}\n",
    "B\\\\\n",
    "C\\\\\n",
    "D\\\\\n",
    "E\\\\\n",
    "F\\\\\n",
    "G\\\\\n",
    "H\\\\\n",
    "I\\\\\n",
    "J\\\\\n",
    "K\\\\\n",
    "\\end{bmatrix}\n",
    "$$\n",
    "\n",
    "Store the solution matrices for the flowrates and compositions in variables named `s` and `x` respectively. \n",
    "\n"
   ]
  },
  {
   "cell_type": "code",
   "execution_count": 16,
   "metadata": {
    "deletable": false,
    "nbgrader": {
     "checksum": "b36472a67af7aced514f6d2fa15332cb",
     "grade": false,
     "grade_id": "solving_equations_answer",
     "locked": false,
     "schema_version": 1,
     "solution": true
    }
   },
   "outputs": [
    {
     "name": "stdout",
     "output_type": "stream",
     "text": [
      "A= 5\n",
      "B= [[ 8.4375]]\n",
      "C= [[ 16.875]]\n",
      "D= [[ 11.25]]\n",
      "E= [[ 13.4375]]\n",
      "F= [[ 25.3125]]\n",
      "G= [[ 5.625]]\n",
      "H= 10\n",
      "I= [[ 23.4375]]\n",
      "J= [[ 1.875]]\n",
      "K= [[ 3.75]]\n",
      "[[  8.4375]\n",
      " [ 16.875 ]\n",
      " [ 11.25  ]\n",
      " [ 13.4375]\n",
      " [ 25.3125]\n",
      " [  5.625 ]\n",
      " [ 23.4375]\n",
      " [  1.875 ]\n",
      " [  3.75  ]]\n",
      "xa= 1\n",
      "xb= [[ 0.2962963]]\n",
      "xc= [[ 0.2962963]]\n",
      "xd= [[ 0.44444444]]\n",
      "xe= [[ 0.55813953]]\n",
      "xf= [[ 0.2962963]]\n",
      "xg= [[-0.]]\n",
      "xh= 0\n",
      "xi= [[ 0.32]]\n",
      "xj= [[-0.]]\n",
      "xk= [[-0.]]\n",
      "[[ 0.2962963 ]\n",
      " [ 0.2962963 ]\n",
      " [ 0.44444444]\n",
      " [ 0.55813953]\n",
      " [ 0.2962963 ]\n",
      " [-0.        ]\n",
      " [ 0.32      ]\n",
      " [-0.        ]\n",
      " [-0.        ]]\n",
      "\n"
     ]
    }
   ],
   "source": [
    "# used Python 3 in Jupyter\n",
    "#9 variables where A and H are known inputs, therefore 9 unknowns and 9 m.b. equations DoF = 0\n",
    "\n",
    "\n",
    "import numpy\n",
    "from scipy import linalg\n",
    "\n",
    "A = numpy.matrix([[-2, 1, 0, 0, 0, 0, 0, 0, 0],\n",
    "                  [ 0, 0, 1, 0, 0,-2, 0, 0, 0],\n",
    "                  [ 0, 0, 0, 0, 0, 0, 0, -2, 1],\n",
    "                  [ -1, -1, 0, 0, 1, 0, 0, 0, 0],\n",
    "                  [ 0, 1, -1, 0, 0, -1, 0, 0, 0],\n",
    "                  [ 0, 0, 0, 0, 0, 1, 0, -1, -1],\n",
    "                  [ -1, 0, 0, 1, 0, 0, 0, 0, 0],\n",
    "                  [ 0, 0, 0, -1, 0, 0, 1, 0, 0],\n",
    "                  [0, 0, 0, 0, 1, 0, -1, -1, 0]])\n",
    "\n",
    "b = numpy.matrix([[0, 0, 0, 0, 0, 0, 5, 10, 0]]).T\n",
    "s = numpy.linalg.solve(A,b)\n",
    "print(\"A=\",5)\n",
    "print(\"B=\",s[0])\n",
    "print(\"C=\",s[1])\n",
    "print(\"D=\",s[2])\n",
    "print(\"E=\",s[3])\n",
    "print(\"F=\",s[4])\n",
    "print(\"G=\",s[5])\n",
    "print(\"H=\",10)\n",
    "print(\"I=\",s[6])\n",
    "print(\"J=\",s[7])\n",
    "print(\"K=\",s[8])\n",
    "\n",
    "print (s)\n",
    "                 \n",
    "A=5\n",
    "B=s[0,0]\n",
    "C=s[1,0]\n",
    "D=s[2,0]\n",
    "E=s[3,0]\n",
    "F=s[4,0]\n",
    "G=s[5,0]\n",
    "H=10\n",
    "I=s[6,0]\n",
    "J=s[7,0]\n",
    "K=s[8,0]\n",
    "\n",
    "B = numpy.matrix([[-B, 0, 0, E, 0, 0, 0, 0, 0],\n",
    "                  [ 0, 0, 0, -E, 0, 0, I, 0, 0],\n",
    "                  [ 0, 0, 0, 0, F, 0, -I, -J, 0],\n",
    "                  [ -2*B, C, 0, 0, 0, 0, 0, 0, 0],\n",
    "                  [ 0, -C, D, 0, 0, 0, 0, 0, 0],\n",
    "                  [ 0, 0, 0, 0, 0, 0, 0, -2*J, K],\n",
    "                  [ -B, -C, 0, 0, F, 0, 0, 0, 0],\n",
    "                  [ 0, C, -D, 0, 0, -G, 0, 0, 0],\n",
    "                  [0, 0, 0, 0, 0, G, 0, -J, -K]])\n",
    "\n",
    "b = numpy.matrix([[5, 0, 0, 0, 0, 0, 0, 0, 0]]).T\n",
    "x = numpy.linalg.solve(B,b)\n",
    "print(\"xa=\",1)\n",
    "print(\"xb=\",x[0])\n",
    "print(\"xc=\",x[1])\n",
    "print(\"xd=\",x[2])\n",
    "print(\"xe=\",x[3])\n",
    "print(\"xf=\",x[4])\n",
    "print(\"xg=\",x[5])\n",
    "print(\"xh=\",0)\n",
    "print(\"xi=\",x[6])\n",
    "print(\"xj=\",x[7])\n",
    "print(\"xk=\",x[8])\n",
    "\n",
    "print (x)\n",
    "\n",
    "print()       \n",
    "\n",
    "\n",
    "#raise NotImplementedError()"
   ]
  },
  {
   "cell_type": "code",
   "execution_count": 17,
   "metadata": {
    "collapsed": true,
    "deletable": false,
    "editable": false,
    "nbgrader": {
     "checksum": "e92f46816cc5ff6b145004ef1ebad562",
     "grade": true,
     "grade_id": "solving_equations_tests",
     "locked": true,
     "points": 7,
     "schema_version": 1,
     "solution": false
    }
   },
   "outputs": [],
   "source": [
    "# DO NOT CHANGE CELL\n",
    "# test for correct shape of s\n",
    "assert numpy.shape(s) == (9, 1)\n",
    "# test for correct shape of x\n",
    "assert numpy.shape(x) == (9, 1)\n"
   ]
  },
  {
   "cell_type": "code",
   "execution_count": null,
   "metadata": {
    "collapsed": true
   },
   "outputs": [],
   "source": []
  },
  {
   "cell_type": "markdown",
   "metadata": {
    "deletable": false,
    "editable": false,
    "nbgrader": {
     "checksum": "70b349237d09eef86fb770d82351089e",
     "grade": false,
     "grade_id": "CIR123_question",
     "locked": true,
     "schema_version": 1,
     "solution": false
    }
   },
   "source": [
    "## 2 CIR 123 example 2.2 (6)\n",
    "\n",
    "1000 kg/hour of raw material with the following analysis is available: $Na_2CO_3 - 80 \\%; Na_2SO_4 - 15 \\%; H_2O - 5\\%$. It is required to produce 400 kg/hour $Na_2CO_3$ crystals (K) and as much $Na_2SO_4$ crystals (S) as possible and the following process is recommended:\n",
    "\n",
    "  <img src=\"graph/process.png\">\n",
    " \n",
    "\n",
    "The raw material (G) is dissolved in water (W) to give a solution containing 28 % $Na_2CO_3$.\n",
    "A part of the solution (V) is then cooled to 21 °C, which results in a part of the $Na_2CO_3$ crystallising as the decahydrate crystal ($Na_2CO_3.10H_2O$). These crystals are separated from the mother liquor. A crystallisation test showed that the mother liquor (M) contains 13.1 % $Na_2CO_3$ and 13.9 % $Na_2SO_4$. It can be assumed that the separation is perfect, in other words, the $Na_2CO_3.10H_2O$ stream (D) which enters evaporator (1) does not contain any mother liquor.\n",
    "\n",
    "The water in the  $Na_2CO_3.10H_2O$ stream is evaporated in evaporator (1) to give pure $Na_2CO_3$ product (K).\n",
    "\n",
    "The balance of the solution (N) which is not cooled, is mixed with the mother liquor (M) and the mixture is neutralised with $H_2SO_4$ according to the reaction\n",
    "\n",
    "\n",
    "  $$Na_2CO_3 + H_2SO_4 \\rightarrow Na_2SO_4 + H_2O + CO_2$$\n",
    "\n",
    "\n",
    "The neutralised stream (R) is then evaporated in evaporator (2) to give $Na_2SO_4$ product (S).\n",
    "\n",
    "In the original question, the following questions were asked:\n",
    "\n",
    "* The mass flow rate of the \n",
    "$NaCO_3.10H_2O$ stream (D).\n",
    "* The mass flow rate of the solution that is cooled (V).\n",
    "* The mass flow rate of water (W) required in the solution tank.\n",
    "* The mass $H_2SO_4$ solution required per hour if the concentration of the solution is 98 % $H_2SO_4$.\n",
    "* The total mass of water evaporated per hour in evaporators (1) and (2).\n",
    "* The mass $Na_2SO_4$ product (S) produced per hour.\n",
    "\n",
    "\n",
    "Write down all the equations that would be used to calculate these unknowns, then use `sympy` in an IPython notebook to solve for them simultaneously. Store the equations in a variable named `equations`.\n",
    "\n",
    "\n",
    "The variables have already been created for you, **DO NOT** change them. Your solution must contain a value for each of the variables. Store the solution in a variable named `solution`.\n",
    "\n",
    "**HINT:** Use the solution you get from `sympy` as your final answer. \n"
   ]
  },
  {
   "cell_type": "code",
   "execution_count": 96,
   "metadata": {
    "deletable": false,
    "nbgrader": {
     "checksum": "5d1a5f715cd7cc6b105beacd801a1bf6",
     "grade": false,
     "grade_id": "CIR123_answer",
     "locked": false,
     "schema_version": 1,
     "solution": true
    }
   },
   "outputs": [
    {
     "ename": "NotImplementedError",
     "evalue": "",
     "output_type": "error",
     "traceback": [
      "\u001b[1;31m---------------------------------------------------------------------------\u001b[0m",
      "\u001b[1;31mNotImplementedError\u001b[0m                       Traceback (most recent call last)",
      "\u001b[1;32m<ipython-input-96-3f5e2b675752>\u001b[0m in \u001b[0;36m<module>\u001b[1;34m()\u001b[0m\n\u001b[0;32m     54\u001b[0m \u001b[1;33m\u001b[0m\u001b[0m\n\u001b[0;32m     55\u001b[0m \u001b[1;33m\u001b[0m\u001b[0m\n\u001b[1;32m---> 56\u001b[1;33m \u001b[1;32mraise\u001b[0m \u001b[0mNotImplementedError\u001b[0m\u001b[1;33m(\u001b[0m\u001b[1;33m)\u001b[0m\u001b[1;33m\u001b[0m\u001b[0m\n\u001b[0m",
      "\u001b[1;31mNotImplementedError\u001b[0m: "
     ]
    }
   ],
   "source": [
    "from sympy import *\n",
    "\n",
    "G, W, N, V, P, M, H2SO4, CO2, R, H2Oe1, S, D, K, H2Oe2 = var('G, W, N, V, P, M, H2SO4, CO2, R, H2Oe1, S, D, K, H2Oe2')\n",
    "unknowns = [G, W, N, V, P, M, H2SO4, CO2, R, H2Oe1, S, D, K, H2Oe2]  # Do not change the name of this variable.\n",
    "\n",
    "MM_Na2CO3 = (2*23 + 12 + 3*16)\n",
    "MM_Na2SO4 = (2*23 + 32 + 4*16)\n",
    "MM_H2SO4 = (2 + 32 + 4*16)\n",
    "MM_H20 = (2+16)\n",
    "MM_CO2 = 12 + 2*16\n",
    "# Basis: 1 hour\n",
    "eq1 = G - 1000 \n",
    "\n",
    "# The mass flow rate of the NaCO3.10H2O stream (D)\n",
    "eq2 = K - 400 #output Na2CO3 required in Kg/hour\n",
    "\n",
    "eq3 = D - ((K/MM_Na2CO3)*(MM_Na2CO3 + 10*MM_H20))\n",
    "\n",
    "#The mass flow rate of the solution that is cooled (V).\n",
    "\n",
    "eq4 = V - D - M  # mass balance around separator of crystals and mother liquor\n",
    "eq5 = 0.28*V - 400 - 0.131*M #Na2CO3 balance around separator\n",
    "\n",
    "\n",
    "#The mass flow rate of water (W) required in the solution tank.\n",
    "\n",
    "eq6 = W + G - N - V #total mass balance\n",
    "eq7 = 0.8*G - 0.28*(N + V) #Na2CO3 mass balance around dissolver\n",
    "\n",
    "eq8 = P - N - M  #mass balance around mixer \n",
    "\n",
    "#The mass H2SO4 solution required per hour if the concentration of the solution is 98 % H2SO4.\n",
    "\n",
    "eq9 = H2SO4 - ((0.28*N + 0.131*M)/MM_Na2CO3)*MM_H2SO4/0.98   \n",
    "\n",
    "#The total mass of water evaporated per hour in evaporators (1) and (2).\n",
    "#The mass Na2SO4N product (S) produced per hour.\n",
    "# Na2CO3+H2SO4→Na2SO4+H2O+CO2 in neutraliser\n",
    "\n",
    "eq10 = S - 0.15*G - ((0.28*N + 0.131*M)/MM_Na2CO3)*MM_Na2SO4\n",
    "\n",
    "eq11 = H2Oe1 + K - D #mass balance around Evaporator1\n",
    "eq12 = CO2 - ((0.28*N + 0.131*M)/MM_Na2CO3)*MM_CO2 \n",
    "eq13 = G + W + H2SO4 - H2Oe1 - H2Oe2 - K - S - CO2\n",
    "\n",
    "eq14 = R + CO2 - H2SO4 - P # mass balance around neutraliser\n",
    "\n",
    "\n",
    "equations = [eq1, eq2, eq3, eq4, eq5, eq6, eq7, eq8, eq9, eq10, eq11, eq12, eq13, eq14]\n",
    "\n",
    "solve(equations, [G, W, N, V, P, M, H2SO4, CO2, R, H2Oe1, S, D, K, H2Oe2])\n",
    "\n",
    "solution =(G, W, N, V, P, M, H2SO4, CO2, R, H2Oe1, S, D, K, H2Oe2)\n",
    "\n",
    "\n",
    "raise NotImplementedError()"
   ]
  },
  {
   "cell_type": "code",
   "execution_count": 97,
   "metadata": {
    "collapsed": true,
    "deletable": false,
    "editable": false,
    "nbgrader": {
     "checksum": "5b6147b4eb5aac196f273c012ffe8cc8",
     "grade": true,
     "grade_id": "CIR123_answer_check",
     "locked": true,
     "points": 6,
     "schema_version": 1,
     "solution": false
    }
   },
   "outputs": [],
   "source": [
    "# DO NOT CHANGE CELL\n",
    "# test for correct number of equations\n",
    "assert len(equations) == 14\n",
    "\n",
    "# test to see if you used the unknowns as given\n",
    "a = set()\n",
    "for e in equations:\n",
    "    a = a.union(e.free_symbols)\n",
    "\n",
    "assert numpy.asarray(unknowns).all() in a\n",
    "\n",
    "# test to check number of solutions\n",
    "assert len(solution) == 14\n",
    "\n"
   ]
  },
  {
   "cell_type": "markdown",
   "metadata": {
    "deletable": false,
    "editable": false,
    "nbgrader": {
     "checksum": "8a0bad452e178ce87d9817573ff70e5b",
     "grade": false,
     "grade_id": "root_finding_question_part_1",
     "locked": true,
     "schema_version": 1,
     "solution": false
    }
   },
   "source": [
    "## 3 Root finding (12)\n",
    "\n",
    "Compare the efficiency of different algorithms in solving for $f'$ in\n",
    "the following nonlinear equation (the Colebrook estimator for the\n",
    "friction factor).\n",
    "\\begin{equation}\n",
    "  \\frac{1}{\\sqrt{f'}} = -2\\log \\left ( \\frac{\\epsilon/D}{3.7} +\n",
    "    \\frac{2.51}{Re\\sqrt{f'} }\\right )\n",
    "\\end{equation}\n",
    "\n",
    "Assume that the flow is water in a 1/4\" pipe at 280 ft$^3$/hour with\n",
    "$\\epsilon=0.007$ mm.\n",
    " \n",
    "Generate a plot and indicate on the plot where a possible solution might be. Remember to add axis labels and a legend to you plot.\n",
    "\n",
    "Write you code in the cell below.\n"
   ]
  },
  {
   "cell_type": "code",
   "execution_count": null,
   "metadata": {
    "collapsed": true,
    "deletable": false,
    "nbgrader": {
     "checksum": "607419fea5d497984027d4a4c167313a",
     "grade": true,
     "grade_id": "root_finding_answer_part1",
     "locked": false,
     "points": 1,
     "schema_version": 1,
     "solution": true
    }
   },
   "outputs": [],
   "source": [
    "import numpy\n",
    "import matplotlib.pyplot as plt\n",
    "%matplotlib inline\n",
    "# YOUR CODE HERE\n",
    "raise NotImplementedError()\n",
    "\n"
   ]
  },
  {
   "cell_type": "markdown",
   "metadata": {
    "deletable": false,
    "editable": false,
    "nbgrader": {
     "checksum": "20af479f5984f5d8f7ffd5c368a51f94",
     "grade": false,
     "grade_id": "root_finding_question_part_2",
     "locked": true,
     "schema_version": 1,
     "solution": false
    }
   },
   "source": [
    "Create a script that will plot a convergence graph for the following algorithms using **50** function evaluations. The graph will show the absolute value of the difference between the LHS and RHS on the y axis and the number of function evaluations on the x axis. On each graph also plot the results of the previous algorithms, i.e. the graph for Newton-Raphson will show the results for both Fixed point iteration and Newton-Raphson. The last graph must show the results of all the algorithms. \n",
    "\n",
    "\n",
    "### 3.1 Fixed point iteration\n",
    "Isolate $f'$ in implicit form from the\n",
    "  equation and then use the result repeatedly.  Note that there are\n",
    "  two forms for this and typically only one will be convergent.  Calculate the error for both. Start at $f'=0.02$.\n",
    "  \n",
    "  For information on fixed point iteration click [here](https://en.wikipedia.org/wiki/Fixed-point_iteration)\n",
    "\n",
    "\n",
    "\n",
    "Write you code in the cell below.\n",
    "\n",
    "**HINT:** You can repeat the `matplotlib` plot statement on a new line to add another dataset to the graph."
   ]
  },
  {
   "cell_type": "code",
   "execution_count": null,
   "metadata": {
    "collapsed": true,
    "deletable": false,
    "nbgrader": {
     "checksum": "387dc2f4dba17abb27bd9b131046a62d",
     "grade": true,
     "grade_id": "root_finding_answer_part_2",
     "locked": false,
     "points": 2,
     "schema_version": 1,
     "solution": true
    }
   },
   "outputs": [],
   "source": [
    "# YOUR CODE HERE\n",
    "raise NotImplementedError()"
   ]
  },
  {
   "cell_type": "markdown",
   "metadata": {
    "deletable": false,
    "editable": false,
    "nbgrader": {
     "checksum": "2db531a4f140e74304e744b11ee09ae9",
     "grade": false,
     "grade_id": "cell-536987a2467ad04e",
     "locked": true,
     "schema_version": 1,
     "solution": false
    }
   },
   "source": [
    "### 3.2 Newton-Raphson\n",
    "  Use the same starting point as above (remember, you need the derivative).\n",
    "  \n",
    "   For information on Newton-Raphson click [here](https://en.wikipedia.org/wiki/Newton%27s_method)\n",
    "  \n",
    "  \n",
    "  Write you code in the cell below.\n"
   ]
  },
  {
   "cell_type": "code",
   "execution_count": null,
   "metadata": {
    "collapsed": true,
    "deletable": false,
    "nbgrader": {
     "checksum": "655a3cc806cbd88c8b15dcabc62468a1",
     "grade": true,
     "grade_id": "root_finding_newton_raphson",
     "locked": false,
     "points": 3,
     "schema_version": 1,
     "solution": true
    }
   },
   "outputs": [],
   "source": [
    "# YOUR CODE HERE\n",
    "raise NotImplementedError()"
   ]
  },
  {
   "cell_type": "markdown",
   "metadata": {
    "deletable": false,
    "editable": false,
    "nbgrader": {
     "checksum": "4a413bac95d5ff17c55c18ec741ba84f",
     "grade": false,
     "grade_id": "cell-72681fea80e5b766",
     "locked": true,
     "schema_version": 1,
     "solution": false
    }
   },
   "source": [
    " ### 3.3 Regula-Fals (False point)\n",
    " Assume the interval is\n",
    "  between $f'=0.001$ and $f'=0.5$.\n",
    "  \n",
    "  For information on Regula-falsi click [here](https://en.wikipedia.org/wiki/False_position_method)\n",
    "  \n",
    "  Write you code in the cell below\n"
   ]
  },
  {
   "cell_type": "code",
   "execution_count": null,
   "metadata": {
    "collapsed": true,
    "deletable": false,
    "nbgrader": {
     "checksum": "c3b1016a9cbbca276aeb7666e7c1c68c",
     "grade": true,
     "grade_id": "root_finding_regula_falsi",
     "locked": false,
     "points": 3,
     "schema_version": 1,
     "solution": true
    }
   },
   "outputs": [],
   "source": [
    "# YOUR CODE HERE\n",
    "raise NotImplementedError()"
   ]
  },
  {
   "cell_type": "markdown",
   "metadata": {
    "deletable": false,
    "editable": false,
    "nbgrader": {
     "checksum": "caeb7b3267162b4ccfec5d346a6b500b",
     "grade": false,
     "grade_id": "cell-d1a2537243672b15",
     "locked": true,
     "schema_version": 1,
     "solution": false
    }
   },
   "source": [
    " ### 3.4 Interval halving\n",
    " Assume the same interval as above.\n",
    "\n",
    " For information on interval-halving click [here](https://en.wikipedia.org/wiki/Bisection_method)\n",
    "\n",
    "Write you code in the cell below."
   ]
  },
  {
   "cell_type": "code",
   "execution_count": null,
   "metadata": {
    "collapsed": true,
    "deletable": false,
    "nbgrader": {
     "checksum": "cca8a86b2f27840ad3679bc0388c5bb3",
     "grade": true,
     "grade_id": "root_finding_interval_halving",
     "locked": false,
     "points": 3,
     "schema_version": 1,
     "solution": true
    }
   },
   "outputs": [],
   "source": [
    "# YOUR CODE HERE\n",
    "raise NotImplementedError()"
   ]
  },
  {
   "cell_type": "markdown",
   "metadata": {
    "deletable": false,
    "editable": false,
    "nbgrader": {
     "checksum": "325759bca94e05cf7f9462b99ab3582b",
     "grade": false,
     "grade_id": "integration_question",
     "locked": true,
     "schema_version": 1,
     "solution": false
    }
   },
   "source": [
    "## 4 Integration (5)\n",
    "A tank with one inflow and one outflow has an outflow-height\n",
    "dependency described by\n",
    "\n",
    "\\begin{equation}\n",
    "  F_{out} = K \\times \\sqrt{h}\n",
    "\\end{equation}\n",
    "\n",
    "where $K$ is a suitable constant.\n",
    "\n",
    "The dynamic mass balance simplifies with the assumption of constant $\\rho$ to\n",
    "\\begin{equation}\n",
    "  \\frac{dh}{dt} = \\frac{F_{in} - F_{out}}{A}\n",
    "\\end{equation}\n",
    "\n",
    "where $A$ is the cross-sectional area of the tank.\n",
    "\n",
    "Investigate the effect of stepsize on the accuracy of Euler integration by comparing to `scipy.integrate.odeint`.\n",
    "\n",
    "Call your Euler function `euler`, use the following function definition: `def euler(dxdt, x0, tspan):`.\n",
    "Create one function describing the system called\n",
    "`system` in the form required by `odeint` and write your\n",
    "integration routine so that it functions similarly to the Python integration routine.\n",
    "\n",
    "Use $K=1.2$, $A=1$.\n",
    "The initial height $h(0)=2$.\n",
    "Simulate an immediate change in the input flowrate to $F_{in}(t)=2.5$ for $t>0$.\n",
    "\n",
    "Use a large step size and a small step size to see the difference between the algorithms.\n",
    "\n",
    "Define your functions in the cell below.\n"
   ]
  },
  {
   "cell_type": "code",
   "execution_count": null,
   "metadata": {
    "collapsed": true,
    "deletable": false,
    "nbgrader": {
     "checksum": "8b37322022064e2e5ec05f185b3aedc1",
     "grade": true,
     "grade_id": "integration_functions_create",
     "locked": false,
     "points": 3,
     "schema_version": 1,
     "solution": true
    }
   },
   "outputs": [],
   "source": [
    "import numpy\n",
    "import matplotlib.pyplot as plt\n",
    "import scipy.integrate\n",
    "\n",
    "# YOUR CODE HERE\n",
    "raise NotImplementedError()"
   ]
  },
  {
   "cell_type": "markdown",
   "metadata": {
    "deletable": false,
    "editable": false,
    "nbgrader": {
     "checksum": "451fa68f03d4327e06e118d61ff698a8",
     "grade": false,
     "grade_id": "cell-27a003cb7f81640e",
     "locked": true,
     "schema_version": 1,
     "solution": false
    }
   },
   "source": [
    " Plot the results of both algrithms on one graph. Be sure to include both large and small step sizes for euler.\n",
    " \n",
    " Remember to add axis labels and a legend to you plot.\n",
    " \n",
    " Define your plotting code in the cell below."
   ]
  },
  {
   "cell_type": "code",
   "execution_count": null,
   "metadata": {
    "collapsed": true,
    "deletable": false,
    "nbgrader": {
     "checksum": "eca775ab6be39d28d1b660f9801700e4",
     "grade": true,
     "grade_id": "integration_comparison_plot",
     "locked": false,
     "points": 1,
     "schema_version": 1,
     "solution": true
    }
   },
   "outputs": [],
   "source": [
    "# YOUR CODE HERE\n",
    "raise NotImplementedError()"
   ]
  },
  {
   "cell_type": "code",
   "execution_count": null,
   "metadata": {
    "collapsed": true,
    "deletable": false,
    "editable": false,
    "nbgrader": {
     "checksum": "bc9c5facb4a238295679ea362dd3c26e",
     "grade": true,
     "grade_id": "integration_functions_test",
     "locked": true,
     "points": 1,
     "schema_version": 1,
     "solution": false
    }
   },
   "outputs": [],
   "source": [
    "# DO NOT CHANGE CELL"
   ]
  }
 ],
 "metadata": {
  "kernelspec": {
   "display_name": "Python 3",
   "language": "python",
   "name": "python3"
  },
  "language_info": {
   "codemirror_mode": {
    "name": "ipython",
    "version": 3
   },
   "file_extension": ".py",
   "mimetype": "text/x-python",
   "name": "python",
   "nbconvert_exporter": "python",
   "pygments_lexer": "ipython3",
   "version": "3.6.1"
  }
 },
 "nbformat": 4,
 "nbformat_minor": 2
}
