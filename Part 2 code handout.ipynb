{
 "cells": [
  {
   "cell_type": "markdown",
   "metadata": {},
   "source": [
    "## Imports (please write all imports here)"
   ]
  },
  {
   "cell_type": "code",
   "execution_count": null,
   "metadata": {
    "collapsed": true
   },
   "outputs": [],
   "source": []
  },
  {
   "cell_type": "markdown",
   "metadata": {},
   "source": [
    "## Function definitions\n",
    "\n",
    "You are given all the equations. It is recommended that you use the notation provided to avoid errors - feel free to copy paste.\n",
    "\n",
    "\n"
   ]
  },
  {
   "cell_type": "raw",
   "metadata": {},
   "source": [
    "differential equations\n",
    "\n",
    "dCN_1_dt = (F_D1 / V1) * CN_D + (F_s0/V2) * CN_0 - (F_s1/V1) * CN_1 - 2* rl_1 \n",
    "dCN_2_dt = (F_D2 / V2) * CN_D + (F_s0/V2) * CN_0 - (F_s2/V2) * CN_2 - 2* rl_2 \n",
    "dAU_CN_1_dt = (F_s0 / V1) * AU_CN_0 - (F_s1 / V1) * AU_CN_1 + rl_1 - ra_1 * rho_c1 \n",
    "dAU_CN_2_dt = (F_s1 / V2) * AU_CN_1 - (F_s2 / V2) * AU_CN_2 + rl_2 - ra_2 * rho_c2 \n",
    "dAU_CN_carb_1_dt = (m_c/(rho_c1 * V1)) * ( AU_CN_carb_2 - AU_CN_carb_1) + ra_1 \n",
    "dAU_CN_carb_2_dt = (m_c/(rho_c2 * V2)) * ( AU_CN_carb_3 - AU_CN_carb_2) + ra_2  \n",
    "\n",
    "Algebraic equations\n",
    "\n",
    "O2_1 = K_H*p_O21  \n",
    "O2_2 = K_H*p_O22  \n",
    "\n",
    "rl_1 = K_l * (CN_1)**0.5 * O2_1**0.5 * (AuCN2_star - AU_CN_1)  \n",
    "rl_2 = K_l * (CN_2)**0.5 * O2_2**0.5 * (AuCN2_star - AU_CN_2)  \n",
    " \n",
    "ra_1 = K_a * AU_CN_1 * (alpha * AU_CN_1 ** beta - AU_CN_carb_1)   \n",
    "ra_2 = K_a * AU_CN_2 * (alpha * AU_CN_2 ** beta - AU_CN_carb_2)  \n",
    "\n",
    "F_s1 = F_s0 + F_D1  \n",
    "F_s2 = F_s1 + F_D2  "
   ]
  },
  {
   "cell_type": "markdown",
   "metadata": {},
   "source": [
    "Note:\n",
    "\n",
    "CN_1 =  $[CN^-]_{tank  1} \\ \\ $  \n",
    "AU_CN_1 = $[AU(CN_2)^-]_{tank1} $  \n",
    "AU_CN_carb_1 = $[Au(CN_2)^-_{carbon,tank1}] $\n",
    "\n",
    "etc."
   ]
  },
  {
   "cell_type": "markdown",
   "metadata": {},
   "source": [
    "## Parameters (you may call this function and unpack it to get all the parameters)"
   ]
  },
  {
   "cell_type": "code",
   "execution_count": 3,
   "metadata": {
    "collapsed": true
   },
   "outputs": [],
   "source": [
    "def parameters():\n",
    "    AuCN2_star = 2.6e-5 # kmol/m3\n",
    "    CN_D = 9.5 #kmol/m3\n",
    "    V1,V2 = [2.5]*2  # m3\n",
    "    rho_c1,rho_c2 = [16]*2 # kg/m3\n",
    "    K_H = 1300 #kmol/m3atm\n",
    "    K_l = 1.215 #m3/kmols\n",
    "    K_a = 45  # m3/kmols\n",
    "    alpha = 4500 # unitless\n",
    "    beta = 0.9  # unitless\n",
    "    AU_CN_carb_3 = 0 \n",
    "    CN_0 = 0\n",
    "    AU_CN_0 = 0\n",
    "    return AuCN2_star,CN_D,V1,V2,rho_c1,rho_c2,K_l, K_a,alpha,beta,AU_CN_carb_3,CN_0,AU_CN_0,K_H"
   ]
  },
  {
   "cell_type": "markdown",
   "metadata": {},
   "source": [
    "## Question 1: Steady state\n",
    "\n",
    "Calculate the initial values of all\n",
    "the variables in the system given the steady state input values and parameters. You should write a single function that when called produces a list of all the outputs in the following order :  \n",
    "\n",
    "\n",
    "CN_1, CN_2, AU_CN_1, AU_CN_2, AU_CN_carb_1, AU_CN_carb_2, F_s1, F_s2, O2_1 , O2_2, rl_1, rl_2, ra_1, ra_2\n",
    "\n",
    "Note that the variables are comma separated with the same notation as the given equations so that you can copy paste.\n"
   ]
  },
  {
   "cell_type": "code",
   "execution_count": null,
   "metadata": {
    "collapsed": true
   },
   "outputs": [],
   "source": []
  },
  {
   "cell_type": "markdown",
   "metadata": {},
   "source": [
    "## Question 2: Dynamic Simulation\n",
    "\n",
    "Simulate the system using only the equations given and odeint for numeric integration. (use the 1st block for integration and the 2nd block for plotting). Your program should calculate an initial condition using the same code as Question:1\n",
    "\n",
    "show the effect of the following inputs (all in one simulation run):\n",
    "\n",
    "- 1) a 10% step increase in F_D1 at t = 100s  \n",
    "- 2) a 10% step increase in F_s0 at t = 250s\n",
    "- 3) a 10% step decrease in p_O22 at t = 600s\n",
    "\n",
    "Plot the combined dynamic effect of these changes on each of the 6 state variables (6 plots). Please use matplotlib inline to   \n",
    "make marking more fluid. Make sure that your graphs are labelled. Simulate for 1000s and do not change any units or scale any \n",
    "of your graphs. You can expect the numbers to be very small."
   ]
  },
  {
   "cell_type": "markdown",
   "metadata": {},
   "source": [
    "## Question 3: Simulation with dead time\n",
    "\n",
    "Consider now a situation where a long pipe is used to transport liquid material between the two tanks. The flow in the pipe conforms to a plug flow model and no reaction occurs in the pipe, so that effectively a delay is introduced in the concentration AU_CN_1, and CN_1 entering the 2nd tank. The deadtime incurred is 100 s. \n",
    "\n",
    "Using the same set of input steps, show the effect of the deadtime by plotting the following curves:\n",
    "\n",
    "- 1) CN_1 and CN_1 delayed on the same graph\n",
    "- 2) Au_CN_2 with deadtime and AU_CN_2 without deadtime (previous question) on the same graph\n",
    "\n",
    "comment on the effect deadtime has on this system. Note that since you are using euler integration here step size is very important. If step size is too large you might find yourself calculating a negative value for a state which will break your simulation."
   ]
  },
  {
   "cell_type": "markdown",
   "metadata": {},
   "source": [
    "## Solution"
   ]
  },
  {
   "cell_type": "code",
   "execution_count": null,
   "metadata": {
    "collapsed": true
   },
   "outputs": [],
   "source": []
  },
  {
   "cell_type": "markdown",
   "metadata": {},
   "source": [
    "## Plots"
   ]
  },
  {
   "cell_type": "code",
   "execution_count": null,
   "metadata": {
    "collapsed": true
   },
   "outputs": [],
   "source": []
  },
  {
   "cell_type": "markdown",
   "metadata": {},
   "source": [
    "## Question 4 : Valve simulation\n",
    "\n",
    "Modify your simulation (Deadtime free) to include the effect of an equal percentage pneumatic control valve on the inlet F_D1.\n",
    "The Pressure signal to the valve can vary from 20 to 100 kpa. The valve dynamics are well described in the handout. Size your valve so that it is open halfway (x = 0.5) at initial conditions where the pressure signal to the valve is 60 kPa, and so that if your valve is closed to 25% (x = 0.25), the flow, F_D1, will decrease by 25%. You may assume a constant pressure drop of 1 atm over the valve.\n",
    "\n",
    "Consider the following step changes:\n",
    "\n",
    "- an increase in valve pressure signal (Ps) from 60 kpa to 70 kpa at t = 200s. \n",
    "- a decrease in valve pressure signal from 70 kpa to 50 kPa at t = 500s.\n",
    "\n",
    "plot the following dynamic trends:\n",
    "\n",
    "- Ps(t) (valve pressure signal) and valve fraction (x(t)) as 2 subplots (one under the other)\n",
    "- $Au[CN_2]^-_{carbon,2}(t)\\ \\ $  on a separate plot. (The concentration of aurocyanide adsorbed to carbon in the 2nd tank) \n",
    "\n",
    "In case there's any confustion: Au_CN_carb_2 refers to $ [Au(CN_2)^-_{carbon}] $  in tank 2\n",
    "\n"
   ]
  },
  {
   "cell_type": "markdown",
   "metadata": {},
   "source": [
    "## Valve Properties"
   ]
  },
  {
   "cell_type": "code",
   "execution_count": 4,
   "metadata": {
    "collapsed": true
   },
   "outputs": [],
   "source": [
    "tau = 5 # s\n",
    "zeta = 0.2          \n",
    "del_P = 1  # atm  (pressure drop over valve)"
   ]
  },
  {
   "cell_type": "markdown",
   "metadata": {},
   "source": [
    "## Solution"
   ]
  },
  {
   "cell_type": "code",
   "execution_count": null,
   "metadata": {
    "collapsed": true
   },
   "outputs": [],
   "source": [
    "\n"
   ]
  },
  {
   "cell_type": "markdown",
   "metadata": {},
   "source": [
    "## Plots"
   ]
  },
  {
   "cell_type": "code",
   "execution_count": null,
   "metadata": {
    "collapsed": true
   },
   "outputs": [],
   "source": []
  },
  {
   "cell_type": "markdown",
   "metadata": {},
   "source": [
    "## Bonus question (For 5 marks)\n",
    "\n",
    "Comment on the performance of the control valve with respect to it's dynamic behaviour. What effect could this behaviour have on the performance and longevity of the plant equipment in terms of stability, safety etc. and how might this affect the performance of the control system used to reject disturbances and maintain set points. "
   ]
  },
  {
   "cell_type": "code",
   "execution_count": null,
   "metadata": {
    "collapsed": true
   },
   "outputs": [],
   "source": []
  }
 ],
 "metadata": {
  "kernelspec": {
   "display_name": "Python 3",
   "language": "python",
   "name": "python3"
  },
  "language_info": {
   "codemirror_mode": {
    "name": "ipython",
    "version": 3
   },
   "file_extension": ".py",
   "mimetype": "text/x-python",
   "name": "python",
   "nbconvert_exporter": "python",
   "pygments_lexer": "ipython3",
   "version": "3.4.3"
  }
 },
 "nbformat": 4,
 "nbformat_minor": 0
}
