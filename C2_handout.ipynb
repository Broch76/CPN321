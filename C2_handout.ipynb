{
 "cells": [
  {
   "cell_type": "markdown",
   "metadata": {
    "collapsed": true,
    "nbgrader": {
     "grade": false,
     "grade_id": "cell-cfd99a14cdfda261",
     "locked": true,
     "schema_version": 1,
     "solution": false
    }
   },
   "source": [
    "# Realistic equation solving\n",
    "## System definition\n",
    "$\\renewcommand\\dfrac[2]{{\\frac{\\mathrm{d}#1}{\\mathrm{d}#2}}}$\n",
    "Consider the system shown in the figure below:\n",
    "\n",
    "<img src=\"pressuresystem.png\">\n",
    "\n",
    "A gas is flowing out of a pressurised vessel through a pipe with a\n",
    "non-negligible pressure drop. The container is also accepting a flow\n",
    "from an upstream process. We are interested in modelling the pressure\n",
    "in the tank.\n",
    "\n",
    "The following equations describe the behaviour of the system:\n",
    "\\begin{align}\n",
    "  \\dfrac{m}{t}        & =        F_i - F_o      \\\\\n",
    "  F_i                 & =        W(P_u - P)     \\\\\n",
    "  F_o                 & =        f'L(P - P_a)   \\\\\n",
    "  \\rho                & =        \\frac{m}{V}    \\\\\n",
    "  \\mathrm{Re}         & \\approx  1700 \\rho      \\\\\n",
    "  P                   & =        \\frac{mRT}{MV} \\\\\n",
    "  \\frac{1}{\\sqrt{f'}} & =        -2\\log_{10}\\left( \\frac{\\epsilon/D}{3.7} + \\frac{2.51}{\\mathrm{Re}\\sqrt{f'}}\\right)\n",
    "\\end{align}\n"
   ]
  },
  {
   "cell_type": "markdown",
   "metadata": {
    "nbgrader": {
     "grade": false,
     "grade_id": "cell-2793d8fca4e092ce",
     "locked": true,
     "schema_version": 1,
     "solution": false
    }
   },
   "source": [
    "The obvious parameters and their values are given below:\n",
    "\n",
    "<table>\n",
    "<tr><th>Name</th><th>Value</th>\n",
    "<tr><td>    $W$        </td><td> 0.1 kg/(kPa.s)  </td></tr>\n",
    "<tr><td>    $P_a$      </td><td> 101.325 kPa     </td></tr>\n",
    "<tr><td>    $V$        </td><td> 25.13 m$^3$       </td></tr>\n",
    "<tr><td>    $R$        </td><td> 8.314 J/(mol.K) </td></tr>\n",
    "<tr><td>    $T$        </td><td> 25 °C     </td></tr>\n",
    "<tr><td>    $M$        </td><td> 24.52 kg/kmol   </td></tr>\n",
    "<tr><td>    $\\epsilon$ </td><td> 0.046 mm        </td></tr>\n",
    "<tr><td>    $D$        </td><td> 25 mm           </td></tr>\n",
    "<tr><td>    $L$        </td><td> 10 m            </td></tr>\n",
    "</table>"
   ]
  },
  {
   "cell_type": "code",
   "execution_count": 1,
   "metadata": {
    "collapsed": true,
    "nbgrader": {
     "grade": false,
     "grade_id": "cell-0332f2abe52d12d3",
     "locked": true,
     "schema_version": 1,
     "solution": false
    }
   },
   "outputs": [],
   "source": [
    "W = 0.1 # kg/(kPa.s)\n",
    "P_a = 101.325 # kPa\n",
    "V =  25.13 #  m^3\n",
    "R = 8.314 #  J/(mol.K)\n",
    "T = 25 + 273.15 # K\n",
    "M = 24.52 # kg/kmol\n",
    "epsilon = 0.046 # mm\n",
    "D = 25 # mm\n",
    "L = 10 # m"
   ]
  },
  {
   "cell_type": "markdown",
   "metadata": {
    "nbgrader": {
     "grade": false,
     "grade_id": "cell-b17ef9b45e9b4b2b",
     "locked": true,
     "schema_version": 1,
     "solution": false
    }
   },
   "source": [
    "## Solving algebraic equations\n",
    "We realise quickly that most of these equations can be substituted into one another to yield a single differential equation for $\\dfrac{m}{t}$, except the Colebrook equation, which requires numeric\n",
    "solution, as we discussed in Tut 2.\n",
    "\n",
    "For simplicity in our models we can write $f' = f_c(\\epsilon, D, \\mathrm{Re})$.\n",
    "\n",
    "Another opportunity for solution of algebraic equations is to find a steady state of the system equations.\n",
    "This can be done quite easily with the routine `scipy.optimize.fsolve`, which you also covered in your MPR course (check chapter 17 if you're a bit rusty)."
   ]
  },
  {
   "cell_type": "markdown",
   "metadata": {
    "nbgrader": {
     "grade": false,
     "grade_id": "cell-491c411569d00b85",
     "locked": true,
     "schema_version": 1,
     "solution": false
    }
   },
   "source": [
    "## ODE formulation\n",
    "If we suppose that we have a special function $f_c$ that can calculate\n",
    "the friction factor $f'$ given the other parts of the Colebrook\n",
    "equation, we can easily rearrange the equations above to the following\n",
    "set.\n",
    "\n",
    "\\begin{align}\n",
    "  \\rho         & =         \\frac{m}{V} \\\\\n",
    "  Re             & \\approx 1700 \\rho \\\\\n",
    "  f'           & =         f_c(\\epsilon,D,\\mathrm{Re}) \\\\\n",
    "  P            & =         \\frac{mRT}{MV} \\\\\n",
    "  F_i          & =         W(P_u - P) \\\\\n",
    "  F_o          & =         f'L(P - P_a) \\\\\n",
    "  \\dfrac{m}{t} & =         F_i - F_o \\\\\n",
    "\\end{align}\n"
   ]
  },
  {
   "cell_type": "markdown",
   "metadata": {
    "nbgrader": {
     "grade": false,
     "grade_id": "cell-4d262e95584830d9",
     "locked": true,
     "schema_version": 1,
     "solution": false
    }
   },
   "source": [
    "These equations just require the current value of $m$ and parameters in the table to calculate the rest of the values.\n",
    "\n",
    "We already know how to use `scipy.integrate.odeint` to solve this kind of\n",
    "problem.  The only difference in this case is that we get out $m(t)$,\n",
    "but we want $P(t)$.  We could have rewritten the equations to\n",
    "calculate $\\dfrac{P}{t}$ instead of $\\dfrac{m}{t}$, but if we want to\n",
    "plot the value of $P$ over time, instead of $m$, we can simply\n",
    "calculate $P=\\frac{mRT}{MV}$ for each of the values of $m$ after integration.\n",
    "\n",
    "Remember that `scipy.integrate.odeint` expects a function of the form\n",
    "\\begin{equation}\n",
    "  \\dot{\\mathbf{x}} = f(\\mathbf{x}, t)\n",
    "\\end{equation}"
   ]
  },
  {
   "cell_type": "markdown",
   "metadata": {
    "nbgrader": {
     "grade": false,
     "grade_id": "cell-f5c55b5c2653ffd5",
     "locked": true,
     "schema_version": 1,
     "solution": false
    }
   },
   "source": [
    "## Simulation task\n",
    "You will use the information about the gas flow system to solve the dynamic balances for the system that as the upstream pressure changes from 200 kPa to 250 kPa.\n",
    "We will assume that the system was at steady state initially and plot a graph showing the pressure in the tank over time.\n",
    "\n",
    "\n",
    "### Question 1\n",
    "Write a function called `colebrook` that will accept values for $\\epsilon$, $D$ and Re and will use the successive substitution technique that we saw was the fastest in Computer Tut 1 to calculate $f$.\n",
    "Stop when your error is less than $10^{-10}$."
   ]
  },
  {
   "cell_type": "code",
   "execution_count": 2,
   "metadata": {
    "collapsed": true,
    "nbgrader": {
     "grade": false,
     "grade_id": "cell-932717440c706910",
     "locked": false,
     "schema_version": 1,
     "solution": true
    }
   },
   "outputs": [],
   "source": [
    "import numpy\n",
    "\n",
    "def colebrook(epsilon, D, Re):\n",
    "    \n",
    "    return\n",
    "\n",
    "### BEGIN SOLUTION\n",
    "def colebrook(epsilon, D, Re):\n",
    "    f = 0.02\n",
    "    for _ in range(1000):\n",
    "        old_f = f\n",
    "        f = (1/(-2*numpy.log10((epsilon/D)/3.7 + 2.51/(Re*numpy.sqrt(f)))))**2\n",
    "        if abs(old_f - f) < 1e-10:\n",
    "            break\n",
    "    \n",
    "    return f\n",
    "\n",
    "### END SOLUTION"
   ]
  },
  {
   "cell_type": "code",
   "execution_count": 3,
   "metadata": {
    "collapsed": true,
    "nbgrader": {
     "grade": true,
     "grade_id": "cell-5cafe80440de4723",
     "locked": true,
     "points": 3,
     "schema_version": 1,
     "solution": false
    }
   },
   "outputs": [],
   "source": [
    "# DO NOT CHANGE CELL\n",
    "### BEGIN HIDDEN TESTS\n",
    "assert round(colebrook(epsilon, D, 2000), 9) == round(0.050848753900082422, 9)\n",
    "assert round(colebrook(epsilon, D, 20000), 9) == round(0.029505699863047755, 9)\n",
    "### END HIDDEN TESTS\n"
   ]
  },
  {
   "cell_type": "markdown",
   "metadata": {
    "collapsed": true,
    "nbgrader": {
     "grade": false,
     "grade_id": "cell-3ec45d4e958e3f03",
     "locked": true,
     "schema_version": 1,
     "solution": false
    }
   },
   "source": [
    "### Question 2\n",
    "Write a function called `pressuresystem` that will accept the parameters as defined above, a value for $P_u$ and a value for $m$. It will return the derivative.\n",
    "You can use your `colebrook` function as $f_c$."
   ]
  },
  {
   "cell_type": "code",
   "execution_count": 4,
   "metadata": {
    "collapsed": true,
    "nbgrader": {
     "grade": false,
     "grade_id": "cell-82446ddfea9ec9e3",
     "locked": false,
     "schema_version": 1,
     "solution": true
    }
   },
   "outputs": [],
   "source": [
    "def pressuresystem(P_u, m):\n",
    "    \n",
    "    return \n",
    "\n",
    "### BEGIN SOLUTION\n",
    "def pressuresystem(P_u, m):\n",
    "    rho = m/V\n",
    "    Re = 1700 * rho\n",
    "    f = colebrook(epsilon, D, Re)\n",
    "    P = m*R*T/(M*V)\n",
    "    F_i = W*(P_u - P)\n",
    "    F_o = f*L*(P - P_a)\n",
    "    dmdt = F_i - F_o\n",
    "\n",
    "    return dmdt\n",
    "### END SOLUTION\n",
    "\n"
   ]
  },
  {
   "cell_type": "code",
   "execution_count": 5,
   "metadata": {
    "collapsed": true,
    "nbgrader": {
     "grade": true,
     "grade_id": "cell-1efbd6c4459d24c1",
     "locked": true,
     "points": 2,
     "schema_version": 1,
     "solution": false
    }
   },
   "outputs": [],
   "source": [
    "# DO NOT CHANGE\n",
    "### BEGIN HIDDEN TESTS\n",
    "assert round(pressuresystem(500, 200), 2) == round(-252.75245385993117, 2)\n",
    "assert round(pressuresystem(200, 100), 2) == round(-130.40514126864343, 2)\n",
    "### END HIDDEN TESTS"
   ]
  },
  {
   "cell_type": "markdown",
   "metadata": {
    "nbgrader": {
     "grade": false,
     "grade_id": "cell-766aefe59112c3db",
     "locked": true,
     "schema_version": 1,
     "solution": false
    }
   },
   "source": [
    "### Question 3\n",
    "Use the `scipy.optimize.fsolve` function to find the steady-state value of $m$ for an upstream pressure of 200 kPa. Name your steady state value m0 (the number zero). **Note** that m0 should be a single value not an array or list."
   ]
  },
  {
   "cell_type": "code",
   "execution_count": 6,
   "metadata": {
    "collapsed": true,
    "nbgrader": {
     "grade": false,
     "grade_id": "cell-5bde134f468efc22",
     "locked": false,
     "schema_version": 1,
     "solution": true
    }
   },
   "outputs": [],
   "source": [
    "import scipy.optimize\n",
    "\n",
    "P_u = 200\n",
    "\n",
    "### BEGIN SOLUTION\n",
    "# Solve for steady state\n",
    "def steady(m):\n",
    "    return pressuresystem(P_u, m)\n",
    "\n",
    "m0 = scipy.optimize.fsolve(steady, 30)\n",
    "m0 = m0[0]\n",
    "### END SOLUTION"
   ]
  },
  {
   "cell_type": "code",
   "execution_count": 7,
   "metadata": {
    "collapsed": true,
    "nbgrader": {
     "grade": true,
     "grade_id": "cell-6677bc6fb883ed62",
     "locked": true,
     "points": 2,
     "schema_version": 1,
     "solution": false
    }
   },
   "outputs": [],
   "source": [
    "# DO NOT CHANGE\n",
    "#### BEGIN HIDDEN TESTS\n",
    "assert round(m0, 2) == round(29.206050329657909, 2)\n",
    "### END HIDDEN TESTS"
   ]
  },
  {
   "cell_type": "markdown",
   "metadata": {
    "nbgrader": {
     "grade": false,
     "grade_id": "cell-90e39933d32ab401",
     "locked": true,
     "schema_version": 1,
     "solution": false
    }
   },
   "source": [
    "### Question 4\n",
    "Simulate the system for 10 s and plot the upstream pressure and tank pressure on the same graph."
   ]
  },
  {
   "cell_type": "code",
   "execution_count": 8,
   "metadata": {
    "collapsed": true
   },
   "outputs": [],
   "source": [
    "import scipy.integrate\n",
    "import matplotlib.pyplot as plt\n",
    "import numpy as np\n",
    "%matplotlib inline"
   ]
  },
  {
   "cell_type": "markdown",
   "metadata": {},
   "source": [
    "We need to define a function of the type that `odeint` can work with. Use the values given for time interval when integrating. name your pressure values (plot \"y-vals\") P."
   ]
  },
  {
   "cell_type": "code",
   "execution_count": 9,
   "metadata": {
    "nbgrader": {
     "grade": true,
     "grade_id": "cell-e6ebaf9193f31ee2",
     "locked": false,
     "points": 4,
     "schema_version": 1,
     "solution": true
    }
   },
   "outputs": [
    {
     "data": {
      "image/png": "[encoded data removed]",
      "text/plain": [
       "<matplotlib.figure.Figure at 0x1c0d78b3e10>"
      ]
     },
     "metadata": {},
     "output_type": "display_data"
    }
   ],
   "source": [
    "def pressurefunc(m, t):\n",
    "    return\n",
    "\n",
    "ts = numpy.linspace(0, 10)\n",
    "\n",
    "# P = [....]\n",
    "\n",
    "### BEGIN SOLUTION\n",
    "def pressurefunc(m, t):\n",
    "    return pressuresystem(P_u, m)\n",
    "P_u = 250\n",
    "ts = numpy.linspace(0, 10)\n",
    "ms = scipy.integrate.odeint(pressurefunc, m0, ts)\n",
    "P = ms*R*T/(M*V)\n",
    "# plt.axhline(P_u)\n",
    "plt.plot(ts, P)\n",
    "### END SOLUTION\n",
    "\n",
    "assert round(P[3][0],2) ==  round(124.0281199972205,2) # test to help you see if your answer is correct.\n",
    "\n",
    "#you must plot the graph, it will be marked.\n"
   ]
  },
  {
   "cell_type": "markdown",
   "metadata": {},
   "source": [
    "# Valve Simulation"
   ]
  },
  {
   "cell_type": "markdown",
   "metadata": {
    "nbgrader": {
     "grade": false,
     "grade_id": "cell-68f206b6612a9aa3",
     "locked": true,
     "schema_version": 1,
     "solution": false
    }
   },
   "source": [
    "# Higher order differential equations\n",
    "\n",
    "$\\renewcommand\\dfrac[2]{{\\frac{\\mathrm{d}#1}{\\mathrm{d}#2}}}$\n",
    "The figure below shows a simplified diagram of a control\n",
    "valve. Air pressure is used to move a diaphragm attached by a rod to a\n",
    "plug that closes off the flow. A spring pushes the rod in the opposite\n",
    "direction that the pressure from the diaphragm does.\n",
    "\n",
    "<img src=\"controlvalve.png\">\n",
    "\n",
    "The combination of the spring, the rod mass and the damping supplied by the flowing liquid makes this a spring-mass-damper system.\n",
    "You may remember this situation from MPR; if not have a look at Chapter 17 of the MPR notes again.\n",
    "The equations of motion applied to the system yields the following relationship between the pressure signal $P_S$ and the rod position $x$, which is normalised to be between 0 and 1.\n",
    "\n",
    "\\begin{equation}\n",
    "  \\tau^2 \\dfrac{^2x}{t^2} + 2\\tau \\zeta \\dfrac{x}{t} + x =K_F(P_S-20)\n",
    "\\end{equation}\n",
    "\n",
    "The `scipy.integrate.odeint` function can be used to integrate functions of the form $\\dfrac{y}{t} = f(y, t)$, but the second order derivative in equation~\\ref{eq:contvalve} does not conform to this form.\n",
    "To resolve this issue, we can rewrite the single second order ODE in equation~\\ref{eq:contvalve} as two first order ODEs by creating a dummy state $z=\\dfrac{x}{t}$.\n",
    "\n",
    "The new set of equations looks like this:\n",
    "\\begin{eqnarray}\n",
    "  \\dfrac{x}{t} & = & z \\\\\n",
    "  \\tau^2 \\dfrac{z}{t} + 2\\tau \\zeta z + x &=&K_F(P_S-20)\n",
    "\\end{eqnarray}\n",
    "\n",
    "To get this in the standard form, we can write them as a vector equation, replacing $x$ and $z$ with a vector $\\mathbf{y}$\n",
    "\n",
    "\\begin{eqnarray}\n",
    "  \\dfrac{}{t}\\left[ \\begin{array}{c}x \\\\ z \\end{array} \\right ] &=&\n",
    "  \\left [\n",
    "    \\begin{array}{c}\n",
    "      z \\\\\n",
    "      \\tau^{-2} \\left ( K_F(P_S-20) - 2\\tau \\zeta z - x\\right )\n",
    "    \\end{array} \\right ]  \\\\\n",
    "  \\dfrac{\\mathbf{y}}{t} &=&  \\left [\n",
    "    \\begin{array}{c}\n",
    "      y_2 \\\\\n",
    "      \\tau^{-2} \\left ( K_F(P_S-20) - 2\\tau \\zeta y_2  - y_1\\right )\n",
    "    \\end{array} \\right ]\n",
    "\\end{eqnarray}"
   ]
  },
  {
   "cell_type": "markdown",
   "metadata": {
    "nbgrader": {
     "grade": false,
     "grade_id": "cell-ba53f3ec00d723dc",
     "locked": true,
     "schema_version": 1,
     "solution": false
    }
   },
   "source": [
    "## Question 1\n",
    "Write a function for control valve dynamics using the above equation.\n",
    "  "
   ]
  },
  {
   "cell_type": "code",
   "execution_count": 10,
   "metadata": {
    "nbgrader": {
     "grade": false,
     "grade_id": "cell-db90c1a3216d680f",
     "locked": false,
     "schema_version": 1,
     "solution": true
    }
   },
   "outputs": [],
   "source": [
    "def cvder(y, tau, zeta, Kf, Ps):\n",
    "    return \n",
    "\n",
    "### BEGIN SOLUTION   \n",
    "def cvder(y, tau, zeta, Kf, Ps):\n",
    "    return [y[1], \n",
    "            tau**-2*(Kf*(Ps - 20) - 2*tau*zeta*y[1] - y[0])]\n",
    "### END SOLUTION\n",
    "\n"
   ]
  },
  {
   "cell_type": "code",
   "execution_count": 11,
   "metadata": {
    "collapsed": true,
    "nbgrader": {
     "grade": true,
     "grade_id": "cell-e79aaa9145f2ac38",
     "locked": true,
     "points": 2,
     "schema_version": 1,
     "solution": false
    }
   },
   "outputs": [],
   "source": [
    "# DO NOT CHANGE\n",
    "### BEGIN HIDDEN TESTS\n",
    "assert cvder([1,1],1,1,1,1) == [1, -22.0]\n",
    "\n",
    "### END HIDDEN TESTS"
   ]
  },
  {
   "cell_type": "markdown",
   "metadata": {
    "nbgrader": {
     "grade": false,
     "grade_id": "cell-875f958dc28a5452",
     "locked": true,
     "schema_version": 1,
     "solution": false
    }
   },
   "source": [
    "## Question 2\n",
    "$\\newcommand{SI}{#1 #2}$A widely used convention for air pressure signals is that they vary between 20 kPa and 100 kPa.  If a 20 kPa signal corresponds to $x=0$ and 100 kPa corresponds to $x=1$, calculate the value of $K_F$.  "
   ]
  },
  {
   "cell_type": "code",
   "execution_count": 12,
   "metadata": {
    "nbgrader": {
     "grade": true,
     "grade_id": "cell-8c854681984bf669",
     "locked": false,
     "points": 1,
     "schema_version": 1,
     "solution": true
    }
   },
   "outputs": [],
   "source": [
    "Kf = 1 # use this variable name\n",
    "\n",
    "### BEGIN SOLUTION\n",
    "Kf = (1 - 0)/(100 - 20)\n",
    "\n",
    "### END SOLUTION \n",
    "\n"
   ]
  },
  {
   "cell_type": "code",
   "execution_count": 13,
   "metadata": {
    "collapsed": true,
    "nbgrader": {
     "grade": true,
     "grade_id": "cell-791271ae66f02d23",
     "locked": true,
     "points": 1,
     "schema_version": 1,
     "solution": false
    }
   },
   "outputs": [],
   "source": [
    "# DO NOT CHANGE\n",
    "### BEGIN HIDDEN TESTS\n",
    "assert Kf == (1 - 0)/(100 - 20)\n",
    "### END HIDDEN TESTS"
   ]
  },
  {
   "cell_type": "markdown",
   "metadata": {
    "nbgrader": {
     "grade": false,
     "grade_id": "cell-8cccbea9e551caa1",
     "locked": true,
     "schema_version": 1,
     "solution": false
    }
   },
   "source": [
    "## Question 3\n",
    "Calculate the pressure signal ($P_s$) required to move the valve to  $x=70\\%$ (at steady state)"
   ]
  },
  {
   "cell_type": "code",
   "execution_count": 14,
   "metadata": {
    "nbgrader": {
     "grade": false,
     "grade_id": "cell-342ae6d6dda23c0c",
     "locked": false,
     "schema_version": 1,
     "solution": true
    }
   },
   "outputs": [],
   "source": [
    "Ps = 1 # use this variable for your answer (same name)\n",
    "### BEGIN SOLUTION\n",
    "x = 0.7\n",
    "Ps = x/Kf + 20\n",
    "\n",
    "### END SOLUTION\n",
    "\n"
   ]
  },
  {
   "cell_type": "code",
   "execution_count": 15,
   "metadata": {
    "collapsed": true,
    "nbgrader": {
     "grade": true,
     "grade_id": "cell-962493c3b7bd5daa",
     "locked": true,
     "points": 1,
     "schema_version": 1,
     "solution": false
    }
   },
   "outputs": [],
   "source": [
    "# DO NOT CHANGE\n",
    "### BEGIN HIDDEN TESTS\n",
    "assert Ps == 76\n",
    "### END HIDDEN TESTS"
   ]
  },
  {
   "cell_type": "markdown",
   "metadata": {
    "nbgrader": {
     "grade": false,
     "grade_id": "cell-0e92bc548ce19cbf",
     "locked": true,
     "schema_version": 1,
     "solution": false
    }
   },
   "source": [
    "## Question 4\n",
    "We are now ready to simulate the system. Use the following values for the constants: $\\tau=2.1$ s, $\\zeta=0.5$"
   ]
  },
  {
   "cell_type": "code",
   "execution_count": 16,
   "metadata": {
    "collapsed": true
   },
   "outputs": [],
   "source": [
    "tau = 2.1\n",
    "zeta = 0.5"
   ]
  },
  {
   "cell_type": "markdown",
   "metadata": {
    "nbgrader": {
     "grade": false,
     "grade_id": "cell-f6451083bdc356ee",
     "locked": true,
     "schema_version": 1,
     "solution": false
    }
   },
   "source": [
    "We  will start the valve steady at 30 % open ($x=0.3$, $\\dfrac{x}{t}=0$) and simulate it opening to $x=70 \\%$.   Now simulate the response using `scipy.integrate.odeint`. Marks will be awarded for your simulation graph only."
   ]
  },
  {
   "cell_type": "code",
   "execution_count": 17,
   "metadata": {
    "nbgrader": {
     "grade": true,
     "grade_id": "cell-35bd4011e47dd35a",
     "locked": false,
     "points": 4,
     "schema_version": 1,
     "solution": true
    }
   },
   "outputs": [
    {
     "data": {
      "text/plain": [
       "[<matplotlib.lines.Line2D at 0x1c0da0678d0>]"
      ]
     },
     "execution_count": 17,
     "metadata": {},
     "output_type": "execute_result"
    },
    {
     "data": {
      "image/png": "[encoded data removed]",
      "text/plain": [
       "<matplotlib.figure.Figure at 0x1c0d9d91860>"
      ]
     },
     "metadata": {},
     "output_type": "display_data"
    }
   ],
   "source": [
    "import numpy\n",
    "import scipy.integrate\n",
    "import matplotlib.pyplot as plt\n",
    "%matplotlib inline\n",
    "\n",
    "y0 = [0.3, 0]             \n",
    "ts = numpy.linspace(0, 20)  # use this timespace\n",
    "\n",
    "### BEGIN SOLUTION\n",
    "def valvefunc(y, t):\n",
    "    return cvder(y, tau, zeta, Kf, Ps)\n",
    "ys = scipy.integrate.odeint(valvefunc, y0, ts)\n",
    "xs = ys[:, 0]\n",
    "plt.plot(ts, xs)\n",
    "\n",
    "### END SOLUTION"
   ]
  },
  {
   "cell_type": "code",
   "execution_count": null,
   "metadata": {
    "collapsed": true
   },
   "outputs": [],
   "source": []
  }
 ],
 "metadata": {
  "celltoolbar": "Create Assignment",
  "kernelspec": {
   "display_name": "Python 3",
   "language": "python",
   "name": "python3"
  },
  "language_info": {
   "codemirror_mode": {
    "name": "ipython",
    "version": 3
   },
   "file_extension": ".py",
   "mimetype": "text/x-python",
   "name": "python",
   "nbconvert_exporter": "python",
   "pygments_lexer": "ipython3",
   "version": "3.6.1"
  }
 },
 "nbformat": 4,
 "nbformat_minor": 2
}
