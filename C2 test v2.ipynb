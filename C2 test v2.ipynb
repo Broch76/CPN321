{
 "cells": [
  {
   "cell_type": "markdown",
   "metadata": {},
   "source": [
    "Consider the system shown in the figure below:\n",
    "\n",
    "<img src=\"testimg.png\">\n",
    "\n",
    "This system should look familiar. For tank 1, the stream is injected directly into the liquid water. Water\n",
    "vapour is produced in the second tank. $D_1$ and $D_2$ are the diameters\n",
    "of the two tanks, while h1 and h2 are the heights of the liquid column in each tank.\n",
    "\n",
    "For simplicity, you make make the following assumptions:\n",
    "\n",
    "- The liquid is well mixed in both tanks\n",
    "- All the steam is initially saturated vapor at the given pressures\n",
    "- All the steam injected into the 1st tank is condensed into liquid water \n",
    "- All the steam in the heating coil in the 2nd tank is condensed, but the temperature of the condensed liquid does not change (ie. you do not need to do an energy balance over the coil)\n",
    "- The coil is an excellent conductor (no resistance to heat transfer)\n",
    "- Water is incompressible (constant density)\n",
    "- There is a very good control system in place that maintains the level h2, such that h2 is constant at all times while F3 varies\n",
    "- The amount of water vapor coming out of the 2nd tank is negligible\n",
    "- The first tank is above the second tank with the outlet entering at the top of the second tank, open to atmosphere.\n",
    "\n",
    "\n",
    "**Please note that all units have been converted to SI for you**"
   ]
  },
  {
   "cell_type": "markdown",
   "metadata": {},
   "source": [
    "The following parameters are given\n",
    "\n",
    "<table>\n",
    "<tr><th>Parameter</th><th>Value</th>\n",
    "<tr><td>    T_steam @ 400 kPa        </td><td> 416.763 K  </td></tr>\n",
    "<tr><td>    T_steam @ 1000 kPa      </td><td> 453.036 K     </td></tr>\n",
    "<tr><td>    D1        </td><td> 0.5 m       </td></tr>\n",
    "<tr><td>    D2       </td><td> 0.5 m </td></tr>\n",
    "<tr><td>    F1        </td><td> 1 kg/s     </td></tr>\n",
    "<tr><td>    T1       </td><td> 333.15 K</td></tr>\n",
    "<tr><td>    Q1 </td><td> 1 kg/s       </td></tr>\n",
    "<tr><td>    Q2        </td><td> 2 kg/s           </td></tr>\n",
    "<tr><td>    h2        </td><td> 1 m           </td></tr>\n",
    "<tr><td>    $\\rho_w$ (density of water)        </td><td> 1000 kg/m3          </td></tr>\n",
    "</table>\n",
    "\n",
    "<table>\n",
    "<tr><th>Latent heats of vaporization for water</th><th>Value</th>\n",
    "<tr><td>    @ 400 kPa        </td><td>  2133.33 kJ/kg  </td></tr>\n",
    "<tr><td>    @ 1000 kPa       </td><td> 2014.44 kJ/kg</td></tr>\n",
    "<tr><td>    @ 101.325 kPa       </td><td> 2256.56 kJ/kg</td></tr>\n",
    "<table>"
   ]
  },
  {
   "cell_type": "code",
   "execution_count": 1,
   "metadata": {
    "collapsed": true
   },
   "outputs": [],
   "source": [
    "# parameters (to save you time)\n",
    "Ts_400 = 416.763 #K\n",
    "Ts_1000 = 453.036 #K\n",
    "D1 = 0.5 #m\n",
    "D2 = 0.5 #\n",
    "T1 = 333.15 #K\n",
    "F1 = 5 # kg/s\n",
    "Q1 = 1 #kg/s\n",
    "Q2 = 2 #kg/s\n",
    "hvap_400 = 2133.33 #kj/kg\n",
    "hvap_1000 = 2014.44 #kj/kg\n",
    "hvap_atm = 2256.56 #kj/kg\n",
    "h2 = 1 #m\n",
    "rhow = 1000 #kg/m3"
   ]
  },
  {
   "cell_type": "markdown",
   "metadata": {},
   "source": [
    "# Pressure drop in pipes\n",
    "The flow in this pipe depends on the pressure gradient and frictional losses. We use the friction factor calculated from the colebrook equation to estimate this pressure drop."
   ]
  },
  {
   "cell_type": "markdown",
   "metadata": {},
   "source": [
    "The following equations describe the pressure drop in the pipe:\n",
    "\n",
    "\\begin{align}\n",
    "  F2                 & =        f'L(P_2 - P_a)   \\\\\n",
    "  P2                 & =         \\rho_w g h_1        \\\\\n",
    "  \\mathrm{Re}         & =  \\frac{\\rho_w u D_p}{\\mu}      \\\\\n",
    "  u                   & =   \\frac{F_2}{A_2}                \\\\\n",
    "  A2                  & = \\frac{\\pi D_p^2}{4}         \\\\\n",
    "  P                   & =        \\frac{mRT}{MV} \\\\\n",
    "  \\frac{1}{\\sqrt{f'}} & =        -2\\log_{10}\\left( \\frac{\\epsilon/D_p}{3.7} + \\frac{2.51}{\\mathrm{Re}\\sqrt{f'}}\\right)\n",
    "\\end{align}\n",
    "\n",
    "where Dp = pipe diameter, h1 = height of liquid in tank 1 etc.\n",
    "\n",
    "### Necessary Parameters given below\n",
    "<table>\n",
    "<tr><th>Parameter</th><th>Value</th>\n",
    "<tr><td>    $\\epsilon$ </td><td> 0.00005 m        </td></tr>\n",
    "<tr><td>    Dp       </td><td> 0.025 m</td></tr>\n",
    "<tr><td>    Pa       </td><td> 101.325 kPa</td></tr>\n",
    "<tr><td>    $\\mu$       </td><td> $0.355~\\times~10^{-3}$ Pa.s</td></tr>\n",
    "</table>\n",
    "\n"
   ]
  },
  {
   "cell_type": "code",
   "execution_count": 10,
   "metadata": {},
   "outputs": [],
   "source": [
    "from math import pi,sqrt,log10\n",
    "from scipy.optimize import fsolve\n",
    "eps = 0.00005  #m\n",
    "Dp = 0.025    #m\n",
    "Pa = 101.325   # kPa\n",
    "mu = 0.355e-3  # Pas\n"
   ]
  },
  {
   "cell_type": "markdown",
   "metadata": {},
   "source": [
    "## Task 1:\n",
    "\n",
    "Write a function called friction that takes epsilon, Dp, and Re as parameters and can be used with fsolve to calculate the friction factor implicitly. (form is f(f,eps,Dp,Re) = 0)"
   ]
  },
  {
   "cell_type": "code",
   "execution_count": 14,
   "metadata": {},
   "outputs": [],
   "source": [
    "def friction (f,eps,Dp,Re):\n",
    "    return \n",
    "    \n",
    "    \n"
   ]
  },
  {
   "cell_type": "markdown",
   "metadata": {},
   "source": [
    "## Task 2:\n",
    "Using fsolve to calculate the friction coefficient implicitly (from your friction function), along with mass and energy balances, solve for steady state."
   ]
  },
  {
   "cell_type": "markdown",
   "metadata": {},
   "source": [
    "## Task 3:\n",
    "Now we consider the system dynamics. \n",
    "\n",
    "The temperature in tank 2 is measured using a thermocouple. The dynamics of the thermocouple can be modeled using the equation below.\n",
    "\n",
    "\\begin{equation}\n",
    "T(t) = T_m(t) + 2\\tau\\zeta \\frac{\\mathrm{d} T_m(t)}{\\mathrm{d} t} + \\tau^2 \\frac{\\mathrm{d^{2}}\n",
    "T_m(t)}{\\mathrm{d} t^2}\\\\\n",
    "\\end{equation}\n",
    "\n",
    "The following values for $\\tau$ and $\\zeta$ can be assumed. \n",
    "\\begin{align}\n",
    "\\tau & = 5 \\\\\n",
    "\\zeta & = 1.1 \\\\\n",
    "\\end{align}\n",
    "\n",
    "NOTE: $\\tau$ is in seconds.\n",
    "\n",
    "\n",
    "Complete the following question:\n",
    "1. Write the above equation in the form required by `scipy.integrate.odeint`.\n",
    "2. Simulate the effect of a step change in T1, increasing by 5 deg C. Plot the response of T3 vs T3_measured (thermocouple) on the same graph.`scipy.integrate.odeint`.\n",
    "3. Simulate the effect of a stepchange in F1, decreasing by 0.1 kg/s. Plot the response of h1. (T1 stays at steady state).\n",
    "\n"
   ]
  },
  {
   "cell_type": "code",
   "execution_count": null,
   "metadata": {
    "collapsed": true
   },
   "outputs": [],
   "source": []
  }
 ],
 "metadata": {
  "kernelspec": {
   "display_name": "Python 3",
   "language": "python",
   "name": "python3"
  },
  "language_info": {
   "codemirror_mode": {
    "name": "ipython",
    "version": 3
   },
   "file_extension": ".py",
   "mimetype": "text/x-python",
   "name": "python",
   "nbconvert_exporter": "python",
   "pygments_lexer": "ipython3",
   "version": "3.6.1"
  }
 },
 "nbformat": 4,
 "nbformat_minor": 2
}
